{
 "cells": [
  {
   "cell_type": "markdown",
   "id": "9847bd36",
   "metadata": {},
   "source": [
    "# Automatic EDA with `Ydata_profiling`"
   ]
  },
  {
   "cell_type": "code",
   "execution_count": 2,
   "id": "3e870553",
   "metadata": {},
   "outputs": [
    {
     "name": "stderr",
     "output_type": "stream",
     "text": [
      "c:\\Users\\sidra\\miniconda3\\envs\\ydata_profiling\\lib\\site-packages\\tqdm\\auto.py:21: TqdmWarning: IProgress not found. Please update jupyter and ipywidgets. See https://ipywidgets.readthedocs.io/en/stable/user_install.html\n",
      "  from .autonotebook import tqdm as notebook_tqdm\n"
     ]
    },
    {
     "data": {
      "text/html": [
       "\n",
       "            <div>\n",
       "                <ins><a href=\"https://ydata.ai/register\">Upgrade to ydata-sdk</a></ins>\n",
       "                <p>\n",
       "                    Improve your data and profiling with ydata-sdk, featuring data quality scoring, redundancy detection, outlier identification, text validation, and synthetic data generation.\n",
       "                </p>\n",
       "            </div>\n",
       "            "
      ],
      "text/plain": [
       "<IPython.core.display.HTML object>"
      ]
     },
     "metadata": {},
     "output_type": "display_data"
    }
   ],
   "source": [
    "import pandas as pd\n",
    "import seaborn as sns\n",
    "import ydata_profiling as yd"
   ]
  },
  {
   "cell_type": "code",
   "execution_count": 3,
   "id": "625528a2",
   "metadata": {},
   "outputs": [],
   "source": [
    "# import data \n",
    "df=sns.load_dataset('titanic')"
   ]
  },
  {
   "cell_type": "code",
   "execution_count": null,
   "id": "0fb36cc4",
   "metadata": {},
   "outputs": [
    {
     "name": "stderr",
     "output_type": "stream",
     "text": [
      "100%|██████████| 15/15 [00:00<00:00, 814.03it/s]00:00, 30.31it/s, Describe variable: alone]      \n",
      "Summarize dataset: 100%|██████████| 41/41 [00:03<00:00, 11.64it/s, Completed]                 \n",
      "Generate report structure: 100%|██████████| 1/1 [00:03<00:00,  3.18s/it]\n",
      "Render HTML: 100%|██████████| 1/1 [00:01<00:00,  1.55s/it]\n",
      "Export report to file: 100%|██████████| 1/1 [00:00<00:00, 76.66it/s]\n"
     ]
    }
   ],
   "source": [
    "# ydata profiling\n",
    "profile = yd.ProfileReport(df)\n",
    "profile.to_file(output_file=\"./outputs/01_ydata_titanic.html\")"
   ]
  }
 ],
 "metadata": {
  "kernelspec": {
   "display_name": "ydata_profiling",
   "language": "python",
   "name": "python3"
  },
  "language_info": {
   "codemirror_mode": {
    "name": "ipython",
    "version": 3
   },
   "file_extension": ".py",
   "mimetype": "text/x-python",
   "name": "python",
   "nbconvert_exporter": "python",
   "pygments_lexer": "ipython3",
   "version": "3.10.0"
  }
 },
 "nbformat": 4,
 "nbformat_minor": 5
}
