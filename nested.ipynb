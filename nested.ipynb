{
 "cells": [
  {
   "cell_type": "code",
   "execution_count": 1,
   "id": "d8c8aff0",
   "metadata": {},
   "outputs": [
    {
     "name": "stdout",
     "output_type": "stream",
     "text": [
      "Red Circle\n",
      "Red Square\n",
      "Red Triangle\n",
      "Green Circle\n",
      "Green Square\n",
      "Green Triangle\n",
      "Blue Circle\n",
      "Blue Square\n",
      "Blue Triangle\n"
     ]
    }
   ],
   "source": [
    "#nested loop\n",
    "#loop inside loop\n",
    "colors = [\"Red\", \"Green\", \"Blue\"]\n",
    "shapes = [\"Circle\", \"Square\", \"Triangle\"]\n",
    "for color in colors:\n",
    "    for shape in shapes:\n",
    "        print(f\"{color} {shape}\")"
   ]
  },
  {
   "cell_type": "code",
   "execution_count": 2,
   "id": "70a12099",
   "metadata": {},
   "outputs": [
    {
     "name": "stdout",
     "output_type": "stream",
     "text": [
      "i: 1, j: 1\n",
      "i: 1, j: 2\n",
      "i: 2, j: 1\n",
      "i: 2, j: 2\n",
      "i: 3, j: 1\n",
      "i: 3, j: 2\n"
     ]
    }
   ],
   "source": [
    "#nested while loop\n",
    "i = 1\n",
    "while i < 4:\n",
    "    j = 1\n",
    "    while j < 3:\n",
    "        print(f\"i: {i}, j: {j}\")\n",
    "        j += 1\n",
    "    i += 1"
   ]
  },
  {
   "cell_type": "code",
   "execution_count": null,
   "id": "e9e4eedc",
   "metadata": {},
   "outputs": [],
   "source": [
    "#for loop inside loop\n",
    "i = 1\n",
    "while i < 6:\n",
    "    for j in range(1, 6):\n",
    " print(i,j)\n",
    "    i = i + 1"
   ]
  }
 ],
 "metadata": {
  "kernelspec": {
   "display_name": "python_eda",
   "language": "python",
   "name": "python3"
  },
  "language_info": {
   "codemirror_mode": {
    "name": "ipython",
    "version": 3
   },
   "file_extension": ".py",
   "mimetype": "text/x-python",
   "name": "python",
   "nbconvert_exporter": "python",
   "pygments_lexer": "ipython3",
   "version": "3.13.2"
  }
 },
 "nbformat": 4,
 "nbformat_minor": 5
}
