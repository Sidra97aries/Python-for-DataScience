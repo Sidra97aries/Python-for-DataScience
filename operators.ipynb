{
 "cells": [
  {
   "cell_type": "code",
   "execution_count": 24,
   "id": "95cf474d",
   "metadata": {},
   "outputs": [
    {
     "name": "stdout",
     "output_type": "stream",
     "text": [
      "0\n",
      "1\n",
      "2\n",
      "3\n",
      "4\n",
      "5\n",
      "6\n",
      "7\n",
      "8\n",
      "9\n",
      "10\n"
     ]
    }
   ],
   "source": [
    "for x in range(0, 11):\n",
    "  print(x)\n"
   ]
  },
  {
   "cell_type": "code",
   "execution_count": 25,
   "id": "7e456beb",
   "metadata": {},
   "outputs": [
    {
     "name": "stdout",
     "output_type": "stream",
     "text": [
      "9\n"
     ]
    }
   ],
   "source": [
    "a = 4;\n",
    "b= 5;\n",
    "c= a+b\n",
    "print(c)"
   ]
  },
  {
   "cell_type": "code",
   "execution_count": 26,
   "id": "d2f1f507",
   "metadata": {},
   "outputs": [
    {
     "name": "stdout",
     "output_type": "stream",
     "text": [
      "b is greater than a\n"
     ]
    }
   ],
   "source": [
    "a = 23\n",
    "b =28\n",
    "if a > b:\n",
    "    print(\"a is greater than b\")\n",
    "else:\n",
    "    print(\"b is greater than a\")"
   ]
  },
  {
   "cell_type": "code",
   "execution_count": 27,
   "id": "3ecb2656",
   "metadata": {},
   "outputs": [
    {
     "name": "stdout",
     "output_type": "stream",
     "text": [
      "Person B is older than Person A\n"
     ]
    }
   ],
   "source": [
    "person_A = input(\"how old are you?: \")\n",
    "person_B = input(\"how old are you? : \")\n",
    "if person_A > person_B:\n",
    "    print(\"Person A is older than Person B\")\n",
    "else:\n",
    "    print(\"Person B is older than Person A\")"
   ]
  },
  {
   "cell_type": "code",
   "execution_count": 28,
   "id": "36dc7676",
   "metadata": {},
   "outputs": [
    {
     "name": "stdout",
     "output_type": "stream",
     "text": [
      "1 is odd\n",
      "2 is even\n",
      "3 is odd\n",
      "4 is even\n",
      "5 is odd\n",
      "6 is even\n",
      "7 is odd\n",
      "8 is even\n",
      "9 is odd\n",
      "10 is even\n"
     ]
    }
   ],
   "source": [
    "#control flow statements\n",
    "for i in range(1, 11):\n",
    "    if i % 2 == 0:\n",
    "        print(f\"{i} is even\")\n",
    "    else:\n",
    "        print(f\"{i} is odd\")\n",
    "#why f is used in f-string?\n",
    "# The 'f' in f-string stands for \"formatted\". It allows you to embed expressions inside string literals, using curly braces {}."
   ]
  },
  {
   "cell_type": "code",
   "execution_count": 29,
   "id": "eee67e80",
   "metadata": {},
   "outputs": [
    {
     "name": "stdout",
     "output_type": "stream",
     "text": [
      "x is greater than 5\n"
     ]
    }
   ],
   "source": [
    "x = 10\n",
    "if x > 5:\n",
    "    print(\"x is greater than 5\")\n"
   ]
  },
  {
   "cell_type": "code",
   "execution_count": 30,
   "id": "a0b4704a",
   "metadata": {},
   "outputs": [
    {
     "name": "stdout",
     "output_type": "stream",
     "text": [
      "x is negative or zero\n"
     ]
    }
   ],
   "source": [
    "x = -10\n",
    "if x > 0:\n",
    "    print (\"x is positive\")\n",
    "elif x==0:\n",
    "    print(\"x is zero\")\n",
    "\n",
    "else:\n",
    "    print(\"x is negative or zero\")\n"
   ]
  },
  {
   "cell_type": "code",
   "execution_count": 31,
   "id": "d0e0c482",
   "metadata": {},
   "outputs": [
    {
     "name": "stdout",
     "output_type": "stream",
     "text": [
      "Menu Item: Pizza\n",
      "Menu Item: Burger\n",
      "Menu Item: Pasta\n",
      "Menu Item: Salad\n"
     ]
    }
   ],
   "source": [
    "#loops\n",
    "menu = [\"Pizza\", \"Burger\", \"Pasta\", \"Salad\"]\n",
    "for item in menu:\n",
    "    print(f\"Menu Item: {item}\")"
   ]
  },
  {
   "cell_type": "code",
   "execution_count": 38,
   "id": "6f62af19",
   "metadata": {},
   "outputs": [
    {
     "name": "stdout",
     "output_type": "stream",
     "text": [
      "Red,Circle\n",
      "Red,Square\n",
      "Red,Triangle\n",
      "Green,Circle\n",
      "Green,Square\n",
      "Green,Triangle\n",
      "Blue,Circle\n",
      "Blue,Square\n",
      "Blue,Triangle\n"
     ]
    }
   ],
   "source": [
    "#nested for loops \n",
    "colors = [\"Red\", \"Green\", \"Blue\"]\n",
    "shapes = [\"Circle\", \"Square\", \"Triangle\"]\n",
    "for color in colors:\n",
    "    for shape in shapes:\n",
    "        print(f\"{color},{shape}\")"
   ]
  },
  {
   "cell_type": "code",
   "execution_count": 33,
   "id": "f9cb0fc0",
   "metadata": {},
   "outputs": [
    {
     "name": "stdout",
     "output_type": "stream",
     "text": [
      "1\n",
      "2\n",
      "3\n",
      "4\n",
      "5\n"
     ]
    }
   ],
   "source": [
    "#while loop\n",
    "i = 1\n",
    "while i < 6:\n",
    "    print(i)\n",
    "    i = i+1"
   ]
  },
  {
   "cell_type": "code",
   "execution_count": 41,
   "id": "8c878724",
   "metadata": {},
   "outputs": [
    {
     "name": "stdout",
     "output_type": "stream",
     "text": [
      "i: 1, j: 0\n",
      "i: 1, j: 1\n",
      "i: 1, j: 2\n",
      "i: 2, j: 0\n",
      "i: 2, j: 1\n",
      "i: 2, j: 2\n",
      "i: 3, j: 0\n",
      "i: 3, j: 1\n",
      "i: 3, j: 2\n"
     ]
    }
   ],
   "source": [
    "#nested while loop\n",
    "i = 1\n",
    "while i < 4:\n",
    "    j = 0\n",
    "    while j < 3:\n",
    "        print(f\"i: {i}, j: {j}\")\n",
    "        j += 1\n",
    "    i += 1"
   ]
  },
  {
   "cell_type": "code",
   "execution_count": 48,
   "id": "39c5c3ba",
   "metadata": {},
   "outputs": [
    {
     "name": "stdout",
     "output_type": "stream",
     "text": [
      "1 0\n",
      "1 1\n",
      "1 2\n",
      "2 0\n",
      "2 1\n",
      "2 2\n",
      "3 0\n",
      "3 1\n",
      "3 2\n"
     ]
    }
   ],
   "source": [
    "#for loop inside while loop\n",
    "i = 1\n",
    "while i < 4:\n",
    "    for j in range (3):\n",
    "        print(i,j)\n",
    "    i += 1"
   ]
  },
  {
   "cell_type": "code",
   "execution_count": 47,
   "id": "4059da61",
   "metadata": {},
   "outputs": [
    {
     "name": "stdout",
     "output_type": "stream",
     "text": [
      "i: 1, j: 0\n",
      "i: 2, j: 0\n",
      "i: 3, j: 0\n",
      "i: 4, j: 0\n",
      "i: 5, j: 0\n",
      "i: 1, j: 1\n",
      "i: 2, j: 1\n",
      "i: 3, j: 1\n",
      "i: 4, j: 1\n",
      "i: 5, j: 1\n",
      "i: 1, j: 2\n",
      "i: 2, j: 2\n",
      "i: 3, j: 2\n",
      "i: 4, j: 2\n",
      "i: 5, j: 2\n",
      "i: 1, j: 3\n",
      "i: 2, j: 3\n",
      "i: 3, j: 3\n",
      "i: 4, j: 3\n",
      "i: 5, j: 3\n",
      "i: 1, j: 4\n",
      "i: 2, j: 4\n",
      "i: 3, j: 4\n",
      "i: 4, j: 4\n",
      "i: 5, j: 4\n",
      "i: 1, j: 5\n",
      "i: 2, j: 5\n",
      "i: 3, j: 5\n",
      "i: 4, j: 5\n",
      "i: 5, j: 5\n"
     ]
    }
   ],
   "source": [
    "#while loop inside for loop\n",
    "for j in range(6):\n",
    "    i = 1\n",
    "    while i < 6:\n",
    "        print(f\"i: {i}, j: {j}\")\n",
    "        i += 1"
   ]
  },
  {
   "cell_type": "code",
   "execution_count": null,
   "id": "e3dea108",
   "metadata": {},
   "outputs": [],
   "source": []
  }
 ],
 "metadata": {
  "kernelspec": {
   "display_name": "python_eda",
   "language": "python",
   "name": "python3"
  },
  "language_info": {
   "codemirror_mode": {
    "name": "ipython",
    "version": 3
   },
   "file_extension": ".py",
   "mimetype": "text/x-python",
   "name": "python",
   "nbconvert_exporter": "python",
   "pygments_lexer": "ipython3",
   "version": "undefined.undefined.undefined"
  }
 },
 "nbformat": 4,
 "nbformat_minor": 5
}
