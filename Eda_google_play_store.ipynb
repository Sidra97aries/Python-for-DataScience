{
 "cells": [
  {
   "cell_type": "markdown",
   "id": "61bbda8e",
   "metadata": {},
   "source": [
    "# Google Playstore Data"
   ]
  },
  {
   "cell_type": "markdown",
   "id": "b128c4a0",
   "metadata": {},
   "source": [
    "## Exploratry Data Analysis "
   ]
  },
  {
   "cell_type": "markdown",
   "id": "67464fea",
   "metadata": {},
   "source": [
    "# About Data\n"
   ]
  },
  {
   "cell_type": "markdown",
   "id": "946696ca",
   "metadata": {},
   "source": [
    "*`Instructions for citation:`*\n",
    "If you use this dataset anywhere in your work, kindly cite as the below:\n",
    "L. Gupta, \"Google Play Store Apps,\" Feb 2019. [Online]. Available: https://www.kaggle.com/lava18/google-play-store-apps\n",
    "\n",
    "*`Context`*\n",
    "While many public datasets (on Kaggle and the like) provide Apple App Store data, there are not many counterpart datasets available for Google Play Store apps anywhere on the web. On digging deeper, I found out that iTunes App Store page deploys a nicely indexed appendix-like structure to allow for simple and easy web scraping. On the other hand, Google Play Store uses sophisticated modern-day techniques (like dynamic page load) using JQuery making scraping more challenging.\n",
    "\n",
    "*`Content`*\n",
    "Each app (row) has values for catergory, rating, size, and more.\n",
    "\n",
    "*`Acknowledgements`*\n",
    "This information is scraped from the Google Play Store. This app information would not be available without it.\n",
    "\n",
    "*`Inspiration`*\n",
    "The Play Store apps data has enormous potential to drive app-making businesses to success. Actionable insights can be drawn for developers to work on and capture the Android market!"
   ]
  },
  {
   "cell_type": "markdown",
   "id": "a7ecd5eb",
   "metadata": {
    "vscode": {
     "languageId": "plaintext"
    }
   },
   "source": [
    "# 1. Importing libraries\n"
   ]
  },
  {
   "cell_type": "code",
   "execution_count": 841,
   "id": "3198f9d1",
   "metadata": {},
   "outputs": [],
   "source": [
    "import pandas as pd \n",
    "import numpy as np \n",
    "import matplotlib.pyplot as plt\n",
    "import seaborn as sns\n",
    "%matplotlib inline\n"
   ]
  },
  {
   "cell_type": "markdown",
   "id": "178c23da",
   "metadata": {},
   "source": [
    "# 2. Data loading and Exploring|Cleaning"
   ]
  },
  {
   "cell_type": "markdown",
   "id": "94715f86",
   "metadata": {},
   "source": [
    "- Let's Load the Csv"
   ]
  },
  {
   "cell_type": "code",
   "execution_count": 842,
   "id": "4146a44b",
   "metadata": {},
   "outputs": [],
   "source": [
    "df = pd.read_csv(\"./data_sets/googleplaystore.csv\")"
   ]
  },
  {
   "cell_type": "markdown",
   "id": "8cc97b17",
   "metadata": {},
   "source": [
    "- Let's have a look on top rows of the data"
   ]
  },
  {
   "cell_type": "code",
   "execution_count": 843,
   "id": "c14d426e",
   "metadata": {},
   "outputs": [
    {
     "data": {
      "text/html": [
       "<div>\n",
       "<style scoped>\n",
       "    .dataframe tbody tr th:only-of-type {\n",
       "        vertical-align: middle;\n",
       "    }\n",
       "\n",
       "    .dataframe tbody tr th {\n",
       "        vertical-align: top;\n",
       "    }\n",
       "\n",
       "    .dataframe thead th {\n",
       "        text-align: right;\n",
       "    }\n",
       "</style>\n",
       "<table border=\"1\" class=\"dataframe\">\n",
       "  <thead>\n",
       "    <tr style=\"text-align: right;\">\n",
       "      <th></th>\n",
       "      <th>App</th>\n",
       "      <th>Category</th>\n",
       "      <th>Rating</th>\n",
       "      <th>Reviews</th>\n",
       "      <th>Size</th>\n",
       "      <th>Installs</th>\n",
       "      <th>Type</th>\n",
       "      <th>Price</th>\n",
       "      <th>Content Rating</th>\n",
       "      <th>Genres</th>\n",
       "      <th>Last Updated</th>\n",
       "      <th>Current Ver</th>\n",
       "      <th>Android Ver</th>\n",
       "    </tr>\n",
       "  </thead>\n",
       "  <tbody>\n",
       "    <tr>\n",
       "      <th>0</th>\n",
       "      <td>Photo Editor &amp; Candy Camera &amp; Grid &amp; ScrapBook</td>\n",
       "      <td>ART_AND_DESIGN</td>\n",
       "      <td>4.1</td>\n",
       "      <td>159</td>\n",
       "      <td>19M</td>\n",
       "      <td>10,000+</td>\n",
       "      <td>Free</td>\n",
       "      <td>0</td>\n",
       "      <td>Everyone</td>\n",
       "      <td>Art &amp; Design</td>\n",
       "      <td>January 7, 2018</td>\n",
       "      <td>1.0.0</td>\n",
       "      <td>4.0.3 and up</td>\n",
       "    </tr>\n",
       "    <tr>\n",
       "      <th>1</th>\n",
       "      <td>Coloring book moana</td>\n",
       "      <td>ART_AND_DESIGN</td>\n",
       "      <td>3.9</td>\n",
       "      <td>967</td>\n",
       "      <td>14M</td>\n",
       "      <td>500,000+</td>\n",
       "      <td>Free</td>\n",
       "      <td>0</td>\n",
       "      <td>Everyone</td>\n",
       "      <td>Art &amp; Design;Pretend Play</td>\n",
       "      <td>January 15, 2018</td>\n",
       "      <td>2.0.0</td>\n",
       "      <td>4.0.3 and up</td>\n",
       "    </tr>\n",
       "    <tr>\n",
       "      <th>2</th>\n",
       "      <td>U Launcher Lite – FREE Live Cool Themes, Hide ...</td>\n",
       "      <td>ART_AND_DESIGN</td>\n",
       "      <td>4.7</td>\n",
       "      <td>87510</td>\n",
       "      <td>8.7M</td>\n",
       "      <td>5,000,000+</td>\n",
       "      <td>Free</td>\n",
       "      <td>0</td>\n",
       "      <td>Everyone</td>\n",
       "      <td>Art &amp; Design</td>\n",
       "      <td>August 1, 2018</td>\n",
       "      <td>1.2.4</td>\n",
       "      <td>4.0.3 and up</td>\n",
       "    </tr>\n",
       "    <tr>\n",
       "      <th>3</th>\n",
       "      <td>Sketch - Draw &amp; Paint</td>\n",
       "      <td>ART_AND_DESIGN</td>\n",
       "      <td>4.5</td>\n",
       "      <td>215644</td>\n",
       "      <td>25M</td>\n",
       "      <td>50,000,000+</td>\n",
       "      <td>Free</td>\n",
       "      <td>0</td>\n",
       "      <td>Teen</td>\n",
       "      <td>Art &amp; Design</td>\n",
       "      <td>June 8, 2018</td>\n",
       "      <td>Varies with device</td>\n",
       "      <td>4.2 and up</td>\n",
       "    </tr>\n",
       "    <tr>\n",
       "      <th>4</th>\n",
       "      <td>Pixel Draw - Number Art Coloring Book</td>\n",
       "      <td>ART_AND_DESIGN</td>\n",
       "      <td>4.3</td>\n",
       "      <td>967</td>\n",
       "      <td>2.8M</td>\n",
       "      <td>100,000+</td>\n",
       "      <td>Free</td>\n",
       "      <td>0</td>\n",
       "      <td>Everyone</td>\n",
       "      <td>Art &amp; Design;Creativity</td>\n",
       "      <td>June 20, 2018</td>\n",
       "      <td>1.1</td>\n",
       "      <td>4.4 and up</td>\n",
       "    </tr>\n",
       "  </tbody>\n",
       "</table>\n",
       "</div>"
      ],
      "text/plain": [
       "                                                 App        Category  Rating  \\\n",
       "0     Photo Editor & Candy Camera & Grid & ScrapBook  ART_AND_DESIGN     4.1   \n",
       "1                                Coloring book moana  ART_AND_DESIGN     3.9   \n",
       "2  U Launcher Lite – FREE Live Cool Themes, Hide ...  ART_AND_DESIGN     4.7   \n",
       "3                              Sketch - Draw & Paint  ART_AND_DESIGN     4.5   \n",
       "4              Pixel Draw - Number Art Coloring Book  ART_AND_DESIGN     4.3   \n",
       "\n",
       "   Reviews  Size     Installs  Type Price Content Rating  \\\n",
       "0      159   19M      10,000+  Free     0       Everyone   \n",
       "1      967   14M     500,000+  Free     0       Everyone   \n",
       "2    87510  8.7M   5,000,000+  Free     0       Everyone   \n",
       "3   215644   25M  50,000,000+  Free     0           Teen   \n",
       "4      967  2.8M     100,000+  Free     0       Everyone   \n",
       "\n",
       "                      Genres      Last Updated         Current Ver  \\\n",
       "0               Art & Design   January 7, 2018               1.0.0   \n",
       "1  Art & Design;Pretend Play  January 15, 2018               2.0.0   \n",
       "2               Art & Design    August 1, 2018               1.2.4   \n",
       "3               Art & Design      June 8, 2018  Varies with device   \n",
       "4    Art & Design;Creativity     June 20, 2018                 1.1   \n",
       "\n",
       "    Android Ver  \n",
       "0  4.0.3 and up  \n",
       "1  4.0.3 and up  \n",
       "2  4.0.3 and up  \n",
       "3    4.2 and up  \n",
       "4    4.4 and up  "
      ]
     },
     "execution_count": 843,
     "metadata": {},
     "output_type": "execute_result"
    }
   ],
   "source": [
    "df.head(5)"
   ]
  },
  {
   "cell_type": "code",
   "execution_count": 844,
   "id": "af9ced24",
   "metadata": {},
   "outputs": [],
   "source": [
    "# Set options to be maximum for rows and columns\n",
    "pd.set_option('display.max_columns', None)\n",
    "pd.set_option('display.max_rows', None)\n",
    "# hide warnings\n",
    "import warnings\n",
    "warnings.filterwarnings('ignore')"
   ]
  },
  {
   "cell_type": "code",
   "execution_count": 845,
   "id": "a3470e1e",
   "metadata": {},
   "outputs": [
    {
     "data": {
      "text/plain": [
       "Index(['App', 'Category', 'Rating', 'Reviews', 'Size', 'Installs', 'Type',\n",
       "       'Price', 'Content Rating', 'Genres', 'Last Updated', 'Current Ver',\n",
       "       'Android Ver'],\n",
       "      dtype='object')"
      ]
     },
     "execution_count": 845,
     "metadata": {},
     "output_type": "execute_result"
    }
   ],
   "source": [
    "df.columns"
   ]
  },
  {
   "cell_type": "markdown",
   "id": "074615f2",
   "metadata": {},
   "source": [
    "- Let's have a look on the shape of the dataset"
   ]
  },
  {
   "cell_type": "code",
   "execution_count": 846,
   "id": "1dc6b3af",
   "metadata": {},
   "outputs": [
    {
     "data": {
      "text/plain": [
       "(10841, 13)"
      ]
     },
     "execution_count": 846,
     "metadata": {},
     "output_type": "execute_result"
    }
   ],
   "source": [
    "df.shape"
   ]
  },
  {
   "cell_type": "code",
   "execution_count": 847,
   "id": "38e549b2",
   "metadata": {},
   "outputs": [
    {
     "name": "stdout",
     "output_type": "stream",
     "text": [
      "Number of rows: 10841 and Number of columns: 13\n"
     ]
    }
   ],
   "source": [
    "print(f\"Number of rows: {df.shape[0]} and Number of columns: {df.shape[1]}\")"
   ]
  },
  {
   "cell_type": "markdown",
   "id": "b2ab5efa",
   "metadata": {},
   "source": [
    "- Not enough, let's have a look on the columns and their data types using detailed info function\n",
    "\n"
   ]
  },
  {
   "cell_type": "code",
   "execution_count": 848,
   "id": "520cfb27",
   "metadata": {},
   "outputs": [
    {
     "name": "stdout",
     "output_type": "stream",
     "text": [
      "<class 'pandas.core.frame.DataFrame'>\n",
      "RangeIndex: 10841 entries, 0 to 10840\n",
      "Data columns (total 13 columns):\n",
      " #   Column          Non-Null Count  Dtype  \n",
      "---  ------          --------------  -----  \n",
      " 0   App             10841 non-null  object \n",
      " 1   Category        10840 non-null  object \n",
      " 2   Rating          9367 non-null   float64\n",
      " 3   Reviews         10841 non-null  int64  \n",
      " 4   Size            10841 non-null  object \n",
      " 5   Installs        10841 non-null  object \n",
      " 6   Type            10840 non-null  object \n",
      " 7   Price           10841 non-null  object \n",
      " 8   Content Rating  10841 non-null  object \n",
      " 9   Genres          10841 non-null  object \n",
      " 10  Last Updated    10841 non-null  object \n",
      " 11  Current Ver     10833 non-null  object \n",
      " 12  Android Ver     10839 non-null  object \n",
      "dtypes: float64(1), int64(1), object(11)\n",
      "memory usage: 1.1+ MB\n"
     ]
    }
   ],
   "source": [
    "df.info()"
   ]
  },
  {
   "cell_type": "markdown",
   "id": "f424d3b3",
   "metadata": {},
   "source": [
    "# Observation\n",
    "- There are 10841 rows and 13 columns in the dataset\n",
    "- The columns are of different data types\n",
    "- The columns in the datasets are:\n",
    "'App', 'Category', 'Rating', 'Reviews', 'Size', 'Installs', 'Type',   'Price', 'Content Rating', 'Genres', 'Last Updated', 'Current Ver',   'Android Ver'\n",
    "- There are some missing values in the dataset which we will read in details and deal later on in the notebook.\n",
    "- There are some columns which are of object data type but they should be of numeric data type, we will convert them later on in the notebook.\n",
    "'Size', 'Installs', 'Price'"
   ]
  },
  {
   "cell_type": "code",
   "execution_count": 849,
   "id": "9ebc32b6",
   "metadata": {},
   "outputs": [
    {
     "data": {
      "text/html": [
       "<div>\n",
       "<style scoped>\n",
       "    .dataframe tbody tr th:only-of-type {\n",
       "        vertical-align: middle;\n",
       "    }\n",
       "\n",
       "    .dataframe tbody tr th {\n",
       "        vertical-align: top;\n",
       "    }\n",
       "\n",
       "    .dataframe thead th {\n",
       "        text-align: right;\n",
       "    }\n",
       "</style>\n",
       "<table border=\"1\" class=\"dataframe\">\n",
       "  <thead>\n",
       "    <tr style=\"text-align: right;\">\n",
       "      <th></th>\n",
       "      <th>Rating</th>\n",
       "      <th>Reviews</th>\n",
       "    </tr>\n",
       "  </thead>\n",
       "  <tbody>\n",
       "    <tr>\n",
       "      <th>count</th>\n",
       "      <td>9367.000000</td>\n",
       "      <td>1.084100e+04</td>\n",
       "    </tr>\n",
       "    <tr>\n",
       "      <th>mean</th>\n",
       "      <td>4.191513</td>\n",
       "      <td>4.441119e+05</td>\n",
       "    </tr>\n",
       "    <tr>\n",
       "      <th>std</th>\n",
       "      <td>0.515735</td>\n",
       "      <td>2.927629e+06</td>\n",
       "    </tr>\n",
       "    <tr>\n",
       "      <th>min</th>\n",
       "      <td>1.000000</td>\n",
       "      <td>0.000000e+00</td>\n",
       "    </tr>\n",
       "    <tr>\n",
       "      <th>25%</th>\n",
       "      <td>4.000000</td>\n",
       "      <td>3.800000e+01</td>\n",
       "    </tr>\n",
       "    <tr>\n",
       "      <th>50%</th>\n",
       "      <td>4.300000</td>\n",
       "      <td>2.094000e+03</td>\n",
       "    </tr>\n",
       "    <tr>\n",
       "      <th>75%</th>\n",
       "      <td>4.500000</td>\n",
       "      <td>5.476800e+04</td>\n",
       "    </tr>\n",
       "    <tr>\n",
       "      <th>max</th>\n",
       "      <td>5.000000</td>\n",
       "      <td>7.815831e+07</td>\n",
       "    </tr>\n",
       "  </tbody>\n",
       "</table>\n",
       "</div>"
      ],
      "text/plain": [
       "            Rating       Reviews\n",
       "count  9367.000000  1.084100e+04\n",
       "mean      4.191513  4.441119e+05\n",
       "std       0.515735  2.927629e+06\n",
       "min       1.000000  0.000000e+00\n",
       "25%       4.000000  3.800000e+01\n",
       "50%       4.300000  2.094000e+03\n",
       "75%       4.500000  5.476800e+04\n",
       "max       5.000000  7.815831e+07"
      ]
     },
     "execution_count": 849,
     "metadata": {},
     "output_type": "execute_result"
    }
   ],
   "source": [
    "df.describe()"
   ]
  },
  {
   "cell_type": "markdown",
   "id": "4bf9393c",
   "metadata": {},
   "source": [
    "## Observation\n",
    "We have only 2 columns as numeric data type, rest all are object data type (according to python), but we can see that 'Size', 'Installs', 'Price' are also numeric, we must convert them to numeric data type in data wrangling process."
   ]
  },
  {
   "cell_type": "markdown",
   "id": "a261be2c",
   "metadata": {},
   "source": [
    "# How to make size a numeric column"
   ]
  },
  {
   "cell_type": "code",
   "execution_count": 850,
   "id": "c2528332",
   "metadata": {},
   "outputs": [
    {
     "data": {
      "text/plain": [
       "np.int64(0)"
      ]
     },
     "execution_count": 850,
     "metadata": {},
     "output_type": "execute_result"
    }
   ],
   "source": [
    "df['Size'].isnull().sum()"
   ]
  },
  {
   "cell_type": "markdown",
   "id": "e9015a6e",
   "metadata": {},
   "source": [
    "- no Null values in the columns"
   ]
  },
  {
   "cell_type": "code",
   "execution_count": 851,
   "id": "63aa8732",
   "metadata": {},
   "outputs": [
    {
     "data": {
      "text/plain": [
       "Size\n",
       "Varies with device    1695\n",
       "11M                    198\n",
       "12M                    196\n",
       "14M                    194\n",
       "13M                    191\n",
       "15M                    184\n",
       "17M                    160\n",
       "19M                    154\n",
       "26M                    149\n",
       "16M                    149\n",
       "25M                    143\n",
       "20M                    139\n",
       "21M                    138\n",
       "10M                    136\n",
       "24M                    136\n",
       "18M                    133\n",
       "23M                    117\n",
       "22M                    114\n",
       "29M                    103\n",
       "27M                     97\n",
       "28M                     95\n",
       "30M                     84\n",
       "33M                     79\n",
       "3.3M                    77\n",
       "37M                     76\n",
       "35M                     72\n",
       "31M                     70\n",
       "2.9M                    69\n",
       "2.3M                    68\n",
       "2.5M                    68\n",
       "3.4M                    65\n",
       "2.8M                    65\n",
       "32M                     63\n",
       "3.7M                    63\n",
       "34M                     63\n",
       "3.9M                    62\n",
       "3.0M                    62\n",
       "3.8M                    62\n",
       "40M                     62\n",
       "44M                     61\n",
       "4.0M                    61\n",
       "36M                     60\n",
       "48M                     59\n",
       "46M                     59\n",
       "4.2M                    59\n",
       "5.0M                    58\n",
       "3.6M                    57\n",
       "3.1M                    56\n",
       "39M                     56\n",
       "3.2M                    55\n",
       "38M                     55\n",
       "4.3M                    54\n",
       "2.7M                    53\n",
       "4.1M                    52\n",
       "2.0M                    51\n",
       "3.5M                    51\n",
       "5.4M                    51\n",
       "4.9M                    50\n",
       "1.8M                    50\n",
       "2.6M                    50\n",
       "1.5M                    48\n",
       "2.4M                    48\n",
       "5.7M                    48\n",
       "41M                     48\n",
       "43M                     47\n",
       "4.6M                    46\n",
       "6.3M                    45\n",
       "2.2M                    45\n",
       "49M                     45\n",
       "50M                     44\n",
       "5.3M                    44\n",
       "5.1M                    43\n",
       "53M                     43\n",
       "4.4M                    42\n",
       "63M                     41\n",
       "42M                     41\n",
       "1.2M                    41\n",
       "1.7M                    40\n",
       "2.1M                    40\n",
       "45M                     40\n",
       "4.5M                    40\n",
       "6.9M                    40\n",
       "6.1M                    39\n",
       "99M                     39\n",
       "1.6M                    39\n",
       "8.7M                    39\n",
       "59M                     38\n",
       "47M                     37\n",
       "57M                     37\n",
       "5.9M                    37\n",
       "1.4M                    37\n",
       "7.3M                    37\n",
       "60M                     36\n",
       "8.5M                    36\n",
       "4.7M                    36\n",
       "1.3M                    35\n",
       "5.8M                    35\n",
       "52M                     35\n",
       "5.2M                    35\n",
       "4.8M                    34\n",
       "6.0M                    34\n",
       "6.5M                    34\n",
       "7.9M                    33\n",
       "5.5M                    33\n",
       "7.0M                    33\n",
       "51M                     33\n",
       "6.6M                    33\n",
       "9.2M                    33\n",
       "1.9M                    32\n",
       "67M                     32\n",
       "1.1M                    32\n",
       "62M                     32\n",
       "5.6M                    31\n",
       "56M                     31\n",
       "8.3M                    30\n",
       "7.2M                    30\n",
       "8.4M                    30\n",
       "55M                     30\n",
       "9.8M                    30\n",
       "6.2M                    30\n",
       "54M                     29\n",
       "7.8M                    29\n",
       "9.1M                    29\n",
       "7.6M                    29\n",
       "6.4M                    29\n",
       "9.9M                    28\n",
       "7.4M                    28\n",
       "8.9M                    28\n",
       "7.5M                    28\n",
       "6.8M                    28\n",
       "9.5M                    28\n",
       "8.2M                    28\n",
       "8.8M                    27\n",
       "76M                     27\n",
       "70M                     27\n",
       "8.1M                    27\n",
       "9.0M                    27\n",
       "61M                     26\n",
       "7.7M                    26\n",
       "58M                     26\n",
       "7.1M                    26\n",
       "96M                     26\n",
       "8.6M                    25\n",
       "6.7M                    25\n",
       "9.4M                    24\n",
       "9.7M                    24\n",
       "78M                     23\n",
       "8.0M                    23\n",
       "69M                     23\n",
       "91M                     22\n",
       "82M                     21\n",
       "97M                     20\n",
       "74M                     20\n",
       "72M                     19\n",
       "95M                     18\n",
       "68M                     18\n",
       "85M                     17\n",
       "94M                     17\n",
       "93M                     16\n",
       "100M                    16\n",
       "66M                     16\n",
       "98M                     16\n",
       "83M                     15\n",
       "92M                     15\n",
       "9.3M                    15\n",
       "9.6M                    15\n",
       "64M                     15\n",
       "73M                     15\n",
       "71M                     14\n",
       "88M                     14\n",
       "77M                     13\n",
       "87M                     13\n",
       "75M                     13\n",
       "80M                     13\n",
       "79M                     11\n",
       "81M                     11\n",
       "10.0M                   10\n",
       "65M                     10\n",
       "89M                      9\n",
       "84M                      9\n",
       "86M                      8\n",
       "1.0M                     7\n",
       "90M                      6\n",
       "201k                     3\n",
       "79k                      3\n",
       "118k                     3\n",
       "266k                     3\n",
       "375k                     3\n",
       "592k                     2\n",
       "29k                      2\n",
       "948k                     2\n",
       "323k                     2\n",
       "656k                     2\n",
       "33k                      2\n",
       "228k                     2\n",
       "72k                      2\n",
       "334k                     2\n",
       "417k                     2\n",
       "335k                     2\n",
       "192k                     2\n",
       "141k                     2\n",
       "70k                      2\n",
       "18k                      2\n",
       "473k                     2\n",
       "842k                     2\n",
       "206k                     2\n",
       "172k                     2\n",
       "26k                      2\n",
       "196k                     2\n",
       "58k                      2\n",
       "318k                     2\n",
       "17k                      2\n",
       "704k                     2\n",
       "51k                      2\n",
       "957k                     2\n",
       "364k                     2\n",
       "619k                     1\n",
       "144k                     1\n",
       "143k                     1\n",
       "190k                     1\n",
       "376k                     1\n",
       "970k                     1\n",
       "39k                      1\n",
       "879k                     1\n",
       "161k                     1\n",
       "626k                     1\n",
       "387k                     1\n",
       "860k                     1\n",
       "154k                     1\n",
       "467k                     1\n",
       "861k                     1\n",
       "921k                     1\n",
       "523k                     1\n",
       "329k                     1\n",
       "48k                      1\n",
       "270k                     1\n",
       "811k                     1\n",
       "688k                     1\n",
       "847k                     1\n",
       "562k                     1\n",
       "54k                      1\n",
       "500k                     1\n",
       "608k                     1\n",
       "903k                     1\n",
       "914k                     1\n",
       "193k                     1\n",
       "378k                     1\n",
       "899k                     1\n",
       "892k                     1\n",
       "754k                     1\n",
       "518k                     1\n",
       "24k                      1\n",
       "280k                     1\n",
       "784k                     1\n",
       "981k                     1\n",
       "862k                     1\n",
       "865k                     1\n",
       "953k                     1\n",
       "857k                     1\n",
       "241k                     1\n",
       "772k                     1\n",
       "713k                     1\n",
       "720k                     1\n",
       "853k                     1\n",
       "779k                     1\n",
       "920k                     1\n",
       "525k                     1\n",
       "544k                     1\n",
       "293k                     1\n",
       "91k                      1\n",
       "756k                     1\n",
       "730k                     1\n",
       "220k                     1\n",
       "371k                     1\n",
       "239k                     1\n",
       "314k                     1\n",
       "203k                     1\n",
       "746k                     1\n",
       "313k                     1\n",
       "540k                     1\n",
       "930k                     1\n",
       "251k                     1\n",
       "61k                      1\n",
       "545k                     1\n",
       "965k                     1\n",
       "475k                     1\n",
       "45k                      1\n",
       "169k                     1\n",
       "939k                     1\n",
       "81k                      1\n",
       "818k                     1\n",
       "902k                     1\n",
       "924k                     1\n",
       "78k                      1\n",
       "317k                     1\n",
       "14k                      1\n",
       "74k                      1\n",
       "717k                     1\n",
       "23k                      1\n",
       "695k                     1\n",
       "696k                     1\n",
       "980k                     1\n",
       "975k                     1\n",
       "444k                     1\n",
       "954k                     1\n",
       "549k                     1\n",
       "238k                     1\n",
       "976k                     1\n",
       "322k                     1\n",
       "121k                     1\n",
       "872k                     1\n",
       "93k                      1\n",
       "714k                     1\n",
       "655k                     1\n",
       "283k                     1\n",
       "442k                     1\n",
       "812k                     1\n",
       "421k                     1\n",
       "454k                     1\n",
       "383k                     1\n",
       "350k                     1\n",
       "175k                     1\n",
       "904k                     1\n",
       "306k                     1\n",
       "705k                     1\n",
       "308k                     1\n",
       "609k                     1\n",
       "210k                     1\n",
       "414k                     1\n",
       "11k                      1\n",
       "292k                     1\n",
       "41k                      1\n",
       "8.5k                     1\n",
       "624k                     1\n",
       "232k                     1\n",
       "556k                     1\n",
       "816k                     1\n",
       "496k                     1\n",
       "728k                     1\n",
       "460k                     1\n",
       "200k                     1\n",
       "429k                     1\n",
       "430k                     1\n",
       "721k                     1\n",
       "782k                     1\n",
       "478k                     1\n",
       "459k                     1\n",
       "412k                     1\n",
       "598k                     1\n",
       "437k                     1\n",
       "373k                     1\n",
       "191k                     1\n",
       "647k                     1\n",
       "840k                     1\n",
       "186k                     1\n",
       "319k                     1\n",
       "683k                     1\n",
       "778k                     1\n",
       "569k                     1\n",
       "243k                     1\n",
       "613k                     1\n",
       "887k                     1\n",
       "506k                     1\n",
       "27k                      1\n",
       "351k                     1\n",
       "554k                     1\n",
       "25k                      1\n",
       "963k                     1\n",
       "951k                     1\n",
       "511k                     1\n",
       "691k                     1\n",
       "55k                      1\n",
       "219k                     1\n",
       "222k                     1\n",
       "982k                     1\n",
       "585k                     1\n",
       "716k                     1\n",
       "597k                     1\n",
       "173k                     1\n",
       "499k                     1\n",
       "353k                     1\n",
       "209k                     1\n",
       "153k                     1\n",
       "116k                     1\n",
       "743k                     1\n",
       "898k                     1\n",
       "103k                     1\n",
       "551k                     1\n",
       "514k                     1\n",
       "913k                     1\n",
       "208k                     1\n",
       "82k                      1\n",
       "269k                     1\n",
       "961k                     1\n",
       "780k                     1\n",
       "837k                     1\n",
       "516k                     1\n",
       "97k                      1\n",
       "986k                     1\n",
       "643k                     1\n",
       "50k                      1\n",
       "237k                     1\n",
       "787k                     1\n",
       "801k                     1\n",
       "400k                     1\n",
       "411k                     1\n",
       "122k                     1\n",
       "809k                     1\n",
       "663k                     1\n",
       "257k                     1\n",
       "234k                     1\n",
       "160k                     1\n",
       "170k                     1\n",
       "89k                      1\n",
       "240k                     1\n",
       "226k                     1\n",
       "470k                     1\n",
       "526k                     1\n",
       "176k                     1\n",
       "940k                     1\n",
       "108k                     1\n",
       "221k                     1\n",
       "601k                     1\n",
       "881k                     1\n",
       "642k                     1\n",
       "749k                     1\n",
       "600k                     1\n",
       "498k                     1\n",
       "20k                      1\n",
       "485k                     1\n",
       "309k                     1\n",
       "994k                     1\n",
       "916k                     1\n",
       "636k                     1\n",
       "785k                     1\n",
       "775k                     1\n",
       "288k                     1\n",
       "28k                      1\n",
       "629k                     1\n",
       "245k                     1\n",
       "458k                     1\n",
       "164k                     1\n",
       "259k                     1\n",
       "942k                     1\n",
       "34k                      1\n",
       "874k                     1\n",
       "582k                     1\n",
       "1020k                    1\n",
       "885k                     1\n",
       "552k                     1\n",
       "67k                      1\n",
       "676k                     1\n",
       "44k                      1\n",
       "157k                     1\n",
       "404k                     1\n",
       "420k                     1\n",
       "253k                     1\n",
       "992k                     1\n",
       "658k                     1\n",
       "73k                      1\n",
       "246k                     1\n",
       "Name: count, dtype: int64"
      ]
     },
     "execution_count": 851,
     "metadata": {},
     "output_type": "execute_result"
    }
   ],
   "source": [
    "df[\"Size\"].value_counts()"
   ]
  },
  {
   "cell_type": "code",
   "execution_count": 852,
   "id": "f0333ce5",
   "metadata": {},
   "outputs": [
    {
     "data": {
      "text/plain": [
       "array(['19M', '14M', '8.7M', '25M', '2.8M', '5.6M', '29M', '33M', '3.1M',\n",
       "       '28M', '12M', '20M', '21M', '37M', '2.7M', '5.5M', '17M', '39M',\n",
       "       '31M', '4.2M', '7.0M', '23M', '6.0M', '6.1M', '4.6M', '9.2M',\n",
       "       '5.2M', '11M', '24M', 'Varies with device', '9.4M', '15M', '10M',\n",
       "       '1.2M', '26M', '8.0M', '7.9M', '56M', '57M', '35M', '54M', '201k',\n",
       "       '3.6M', '5.7M', '8.6M', '2.4M', '27M', '2.5M', '16M', '3.4M',\n",
       "       '8.9M', '3.9M', '2.9M', '38M', '32M', '5.4M', '18M', '1.1M',\n",
       "       '2.2M', '4.5M', '9.8M', '52M', '9.0M', '6.7M', '30M', '2.6M',\n",
       "       '7.1M', '3.7M', '22M', '7.4M', '6.4M', '3.2M', '8.2M', '9.9M',\n",
       "       '4.9M', '9.5M', '5.0M', '5.9M', '13M', '73M', '6.8M', '3.5M',\n",
       "       '4.0M', '2.3M', '7.2M', '2.1M', '42M', '7.3M', '9.1M', '55M',\n",
       "       '23k', '6.5M', '1.5M', '7.5M', '51M', '41M', '48M', '8.5M', '46M',\n",
       "       '8.3M', '4.3M', '4.7M', '3.3M', '40M', '7.8M', '8.8M', '6.6M',\n",
       "       '5.1M', '61M', '66M', '79k', '8.4M', '118k', '44M', '695k', '1.6M',\n",
       "       '6.2M', '18k', '53M', '1.4M', '3.0M', '5.8M', '3.8M', '9.6M',\n",
       "       '45M', '63M', '49M', '77M', '4.4M', '4.8M', '70M', '6.9M', '9.3M',\n",
       "       '10.0M', '8.1M', '36M', '84M', '97M', '2.0M', '1.9M', '1.8M',\n",
       "       '5.3M', '47M', '556k', '526k', '76M', '7.6M', '59M', '9.7M', '78M',\n",
       "       '72M', '43M', '7.7M', '6.3M', '334k', '34M', '93M', '65M', '79M',\n",
       "       '100M', '58M', '50M', '68M', '64M', '67M', '60M', '94M', '232k',\n",
       "       '99M', '624k', '95M', '8.5k', '41k', '292k', '11k', '80M', '1.7M',\n",
       "       '74M', '62M', '69M', '75M', '98M', '85M', '82M', '96M', '87M',\n",
       "       '71M', '86M', '91M', '81M', '92M', '83M', '88M', '704k', '862k',\n",
       "       '899k', '378k', '266k', '375k', '1.3M', '975k', '980k', '4.1M',\n",
       "       '89M', '696k', '544k', '525k', '920k', '779k', '853k', '720k',\n",
       "       '713k', '772k', '318k', '58k', '241k', '196k', '857k', '51k',\n",
       "       '953k', '865k', '251k', '930k', '540k', '313k', '746k', '203k',\n",
       "       '26k', '314k', '239k', '371k', '220k', '730k', '756k', '91k',\n",
       "       '293k', '17k', '74k', '14k', '317k', '78k', '924k', '902k', '818k',\n",
       "       '81k', '939k', '169k', '45k', '475k', '965k', '90M', '545k', '61k',\n",
       "       '283k', '655k', '714k', '93k', '872k', '121k', '322k', '1.0M',\n",
       "       '976k', '172k', '238k', '549k', '206k', '954k', '444k', '717k',\n",
       "       '210k', '609k', '308k', '705k', '306k', '904k', '473k', '175k',\n",
       "       '350k', '383k', '454k', '421k', '70k', '812k', '442k', '842k',\n",
       "       '417k', '412k', '459k', '478k', '335k', '782k', '721k', '430k',\n",
       "       '429k', '192k', '200k', '460k', '728k', '496k', '816k', '414k',\n",
       "       '506k', '887k', '613k', '243k', '569k', '778k', '683k', '592k',\n",
       "       '319k', '186k', '840k', '647k', '191k', '373k', '437k', '598k',\n",
       "       '716k', '585k', '982k', '222k', '219k', '55k', '948k', '323k',\n",
       "       '691k', '511k', '951k', '963k', '25k', '554k', '351k', '27k',\n",
       "       '82k', '208k', '913k', '514k', '551k', '29k', '103k', '898k',\n",
       "       '743k', '116k', '153k', '209k', '353k', '499k', '173k', '597k',\n",
       "       '809k', '122k', '411k', '400k', '801k', '787k', '237k', '50k',\n",
       "       '643k', '986k', '97k', '516k', '837k', '780k', '961k', '269k',\n",
       "       '20k', '498k', '600k', '749k', '642k', '881k', '72k', '656k',\n",
       "       '601k', '221k', '228k', '108k', '940k', '176k', '33k', '663k',\n",
       "       '34k', '942k', '259k', '164k', '458k', '245k', '629k', '28k',\n",
       "       '288k', '775k', '785k', '636k', '916k', '994k', '309k', '485k',\n",
       "       '914k', '903k', '608k', '500k', '54k', '562k', '847k', '957k',\n",
       "       '688k', '811k', '270k', '48k', '329k', '523k', '921k', '874k',\n",
       "       '981k', '784k', '280k', '24k', '518k', '754k', '892k', '154k',\n",
       "       '860k', '364k', '387k', '626k', '161k', '879k', '39k', '970k',\n",
       "       '170k', '141k', '160k', '144k', '143k', '190k', '376k', '193k',\n",
       "       '246k', '73k', '658k', '992k', '253k', '420k', '404k', '470k',\n",
       "       '226k', '240k', '89k', '234k', '257k', '861k', '467k', '157k',\n",
       "       '44k', '676k', '67k', '552k', '885k', '1020k', '582k', '619k'],\n",
       "      dtype=object)"
      ]
     },
     "execution_count": 852,
     "metadata": {},
     "output_type": "execute_result"
    }
   ],
   "source": [
    "# check unique values in Size column\n",
    "df[\"Size\"].unique()"
   ]
  },
  {
   "cell_type": "markdown",
   "id": "c030a014",
   "metadata": {},
   "source": [
    "Observation: \n",
    "There are several uniques values in the Size column, we have to first make the unit into one common unit from M and K to bytes, and then remove the M and K from the values and convert them into numeric data type\n",
    "\n",
    "1. Varies of device\n",
    "2. M\n",
    "3. k"
   ]
  },
  {
   "cell_type": "markdown",
   "id": "c26db7a6",
   "metadata": {},
   "source": [
    "verify the number of values and 3 different kinds of values"
   ]
  },
  {
   "cell_type": "code",
   "execution_count": 853,
   "id": "00c9bdc1",
   "metadata": {},
   "outputs": [
    {
     "data": {
      "text/plain": [
       "np.int64(8830)"
      ]
     },
     "execution_count": 853,
     "metadata": {},
     "output_type": "execute_result"
    }
   ],
   "source": [
    "# find the values having M in them\n",
    "df['Size'].loc[df[\"Size\"].str.contains('M')].value_counts().sum()"
   ]
  },
  {
   "cell_type": "code",
   "execution_count": 854,
   "id": "37639535",
   "metadata": {},
   "outputs": [
    {
     "data": {
      "text/plain": [
       "np.int64(316)"
      ]
     },
     "execution_count": 854,
     "metadata": {},
     "output_type": "execute_result"
    }
   ],
   "source": [
    "# find the values having k in them\n",
    "df['Size'].loc[df[\"Size\"].str.contains('k')].value_counts().sum()"
   ]
  },
  {
   "cell_type": "code",
   "execution_count": 855,
   "id": "7ab6f992",
   "metadata": {},
   "outputs": [
    {
     "data": {
      "text/plain": [
       "np.int64(1695)"
      ]
     },
     "execution_count": 855,
     "metadata": {},
     "output_type": "execute_result"
    }
   ],
   "source": [
    "# find the values having 'VARIES WITH DEVICE' in them\n",
    "df['Size'].loc[df[\"Size\"].str.contains('Varies with device')].value_counts().sum()"
   ]
  },
  {
   "cell_type": "code",
   "execution_count": 856,
   "id": "3d02b28e",
   "metadata": {},
   "outputs": [
    {
     "data": {
      "text/plain": [
       "np.int64(10841)"
      ]
     },
     "execution_count": 856,
     "metadata": {},
     "output_type": "execute_result"
    }
   ],
   "source": [
    "# Total Values in Size column\n",
    "df['Size'].value_counts().sum()"
   ]
  },
  {
   "cell_type": "code",
   "execution_count": 857,
   "id": "45481868",
   "metadata": {},
   "outputs": [
    {
     "data": {
      "text/plain": [
       "10841"
      ]
     },
     "execution_count": 857,
     "metadata": {},
     "output_type": "execute_result"
    }
   ],
   "source": [
    "# taking sum of all the values in size column which has 'M', 'K' and 'varies with device' in it\n",
    "8830+316+1695"
   ]
  },
  {
   "cell_type": "markdown",
   "id": "4037e7ad",
   "metadata": {},
   "source": [
    "1. We have 8830 values in M units\n",
    "2. We have 316 values in k units\n",
    "3. We have 1695 value in Varies with device.\\\n",
    "Let's convert the M and K units into bytes and then remove the M and K from the values and convert them into numeric data type."
   ]
  },
  {
   "cell_type": "code",
   "execution_count": 858,
   "id": "bca378a7",
   "metadata": {},
   "outputs": [],
   "source": [
    "# convert the size column to numeric by multiplying the values with 1024 if it has 'k' in it and 1024*1024 if it has 'M' in it\n",
    "# this function will convert the size column to numeric\n",
    " # lets define function\n",
    "def convert_size(size):\n",
    "    if isinstance(size, str):\n",
    "        if \"k\" in size:\n",
    "            return float(size.replace(\"k\", \"\"))* 1024\n",
    "        elif 'M' in size:\n",
    "            return float(size.replace(\"M\", \"\"))* 1024 * 1024\n",
    "        elif 'Varies with device' in size:\n",
    "            return np.nan\n",
    "    return(size)                "
   ]
  },
  {
   "cell_type": "code",
   "execution_count": 859,
   "id": "c42c6596",
   "metadata": {},
   "outputs": [],
   "source": [
    "# Lets apply this function to size column\n",
    "df['Size'] = df['Size'].apply(convert_size)\n"
   ]
  },
  {
   "cell_type": "code",
   "execution_count": 860,
   "id": "226a6776",
   "metadata": {},
   "outputs": [],
   "source": [
    "# rename the column 'Size' to 'Size_bytes'\n",
    "df.rename(columns={'Size': 'Size_bytes'}, inplace=True)"
   ]
  },
  {
   "cell_type": "code",
   "execution_count": 861,
   "id": "831664a1",
   "metadata": {},
   "outputs": [],
   "source": [
    "df['Size_Into_Mb'] = df[\"Size_bytes\"].apply(lambda x : x / (1024*1024))"
   ]
  },
  {
   "cell_type": "markdown",
   "id": "f00a915b",
   "metadata": {},
   "source": [
    "- Now we have converted every value into bytes and removed the M and K from the values and converted them into numeric data type.\n",
    "- 'Varies with device' was a string value, therefore we intentionally converted them into null values, which we can fill later on according to our needs.\n"
   ]
  },
  {
   "cell_type": "markdown",
   "id": "1139464e",
   "metadata": {},
   "source": [
    "#### Let's have a look on the Installs column\n"
   ]
  },
  {
   "cell_type": "code",
   "execution_count": 862,
   "id": "e4b1542c",
   "metadata": {},
   "outputs": [
    {
     "data": {
      "text/plain": [
       "array(['10,000+', '500,000+', '5,000,000+', '50,000,000+', '100,000+',\n",
       "       '50,000+', '1,000,000+', '10,000,000+', '5,000+', '100,000,000+',\n",
       "       '1,000,000,000+', '1,000+', '500,000,000+', '50+', '100+', '500+',\n",
       "       '10+', '1+', '5+', '0+', '0'], dtype=object)"
      ]
     },
     "execution_count": 862,
     "metadata": {},
     "output_type": "execute_result"
    }
   ],
   "source": [
    "df['Installs'].unique()"
   ]
  },
  {
   "cell_type": "code",
   "execution_count": 863,
   "id": "3a03f126",
   "metadata": {},
   "outputs": [
    {
     "data": {
      "text/plain": [
       "Installs\n",
       "1,000,000+        1579\n",
       "10,000,000+       1252\n",
       "100,000+          1169\n",
       "10,000+           1054\n",
       "1,000+             908\n",
       "5,000,000+         752\n",
       "100+               719\n",
       "500,000+           539\n",
       "50,000+            479\n",
       "5,000+             477\n",
       "100,000,000+       409\n",
       "10+                386\n",
       "500+               330\n",
       "50,000,000+        289\n",
       "50+                205\n",
       "5+                  82\n",
       "500,000,000+        72\n",
       "1+                  67\n",
       "1,000,000,000+      58\n",
       "0+                  14\n",
       "0                    1\n",
       "Name: count, dtype: int64"
      ]
     },
     "execution_count": 863,
     "metadata": {},
     "output_type": "execute_result"
    }
   ],
   "source": [
    "df['Installs'].value_counts()"
   ]
  },
  {
   "cell_type": "markdown",
   "id": "1ec984ca",
   "metadata": {},
   "source": [
    "# Install Column\n",
    "- We have total value in Intall is 10841\n",
    "- we have to remove +\n",
    "and along with comma (,) and contervet into interger"
   ]
  },
  {
   "cell_type": "code",
   "execution_count": 864,
   "id": "18fd470f",
   "metadata": {},
   "outputs": [
    {
     "data": {
      "text/plain": [
       "np.int64(10840)"
      ]
     },
     "execution_count": 864,
     "metadata": {},
     "output_type": "execute_result"
    }
   ],
   "source": [
    "# find how many values has '+' in it\n",
    "df['Installs'].loc[df['Installs'].str.contains('\\+')].value_counts().sum()"
   ]
  },
  {
   "cell_type": "code",
   "execution_count": 865,
   "id": "a17d931c",
   "metadata": {},
   "outputs": [
    {
     "data": {
      "text/plain": [
       "np.int64(10841)"
      ]
     },
     "execution_count": 865,
     "metadata": {},
     "output_type": "execute_result"
    }
   ],
   "source": [
    "df[\"Installs\"].value_counts().sum()"
   ]
  },
  {
   "cell_type": "markdown",
   "id": "8bb9ee60",
   "metadata": {},
   "source": [
    "- The only problem I see here is the `+` sign in the values, let's remove them and convert the column into numeric data type.\n",
    "- The total values in the `Installs` column are `10841 `and there are no null values in the column.\n",
    "\n",
    "- However, one value 0 has no plus sign\n",
    "\n",
    "Let's remove the plus sign `+` and `,` from the values and convert them into numeric data type"
   ]
  },
  {
   "cell_type": "code",
   "execution_count": 866,
   "id": "b189d30e",
   "metadata": {},
   "outputs": [],
   "source": [
    "# Remove , from the Installs column\n",
    "df[\"Installs\"] = df[\"Installs\"].apply(lambda x : x.replace(\",\" , \"\") if \",\" in str(x) else x)"
   ]
  },
  {
   "cell_type": "code",
   "execution_count": 867,
   "id": "9735d1ef",
   "metadata": {},
   "outputs": [],
   "source": [
    "df[\"Installs\"] = df[\"Installs\"].apply(lambda x : x.replace(\"+\" , \"\")if \"+\" in str(x) else x)\n"
   ]
  },
  {
   "cell_type": "code",
   "execution_count": 868,
   "id": "9df2dfc2",
   "metadata": {},
   "outputs": [],
   "source": [
    "#Convert the Installs column to integer type\n",
    "df[\"Installs\"] = df[\"Installs\"].apply(lambda x : int(x) )"
   ]
  },
  {
   "cell_type": "markdown",
   "id": "1d74a984",
   "metadata": {},
   "source": [
    "- Let's verify if the dtypes has been changes and the + and , sign has been removed\n"
   ]
  },
  {
   "cell_type": "code",
   "execution_count": 869,
   "id": "27e96476",
   "metadata": {},
   "outputs": [
    {
     "data": {
      "text/html": [
       "<div>\n",
       "<style scoped>\n",
       "    .dataframe tbody tr th:only-of-type {\n",
       "        vertical-align: middle;\n",
       "    }\n",
       "\n",
       "    .dataframe tbody tr th {\n",
       "        vertical-align: top;\n",
       "    }\n",
       "\n",
       "    .dataframe thead th {\n",
       "        text-align: right;\n",
       "    }\n",
       "</style>\n",
       "<table border=\"1\" class=\"dataframe\">\n",
       "  <thead>\n",
       "    <tr style=\"text-align: right;\">\n",
       "      <th></th>\n",
       "      <th>App</th>\n",
       "      <th>Category</th>\n",
       "      <th>Rating</th>\n",
       "      <th>Reviews</th>\n",
       "      <th>Size_bytes</th>\n",
       "      <th>Installs</th>\n",
       "      <th>Type</th>\n",
       "      <th>Price</th>\n",
       "      <th>Content Rating</th>\n",
       "      <th>Genres</th>\n",
       "      <th>Last Updated</th>\n",
       "      <th>Current Ver</th>\n",
       "      <th>Android Ver</th>\n",
       "      <th>Size_Into_Mb</th>\n",
       "    </tr>\n",
       "  </thead>\n",
       "  <tbody>\n",
       "    <tr>\n",
       "      <th>0</th>\n",
       "      <td>Photo Editor &amp; Candy Camera &amp; Grid &amp; ScrapBook</td>\n",
       "      <td>ART_AND_DESIGN</td>\n",
       "      <td>4.1</td>\n",
       "      <td>159</td>\n",
       "      <td>19922944.0</td>\n",
       "      <td>10000</td>\n",
       "      <td>Free</td>\n",
       "      <td>0</td>\n",
       "      <td>Everyone</td>\n",
       "      <td>Art &amp; Design</td>\n",
       "      <td>January 7, 2018</td>\n",
       "      <td>1.0.0</td>\n",
       "      <td>4.0.3 and up</td>\n",
       "      <td>19.0</td>\n",
       "    </tr>\n",
       "    <tr>\n",
       "      <th>1</th>\n",
       "      <td>Coloring book moana</td>\n",
       "      <td>ART_AND_DESIGN</td>\n",
       "      <td>3.9</td>\n",
       "      <td>967</td>\n",
       "      <td>14680064.0</td>\n",
       "      <td>500000</td>\n",
       "      <td>Free</td>\n",
       "      <td>0</td>\n",
       "      <td>Everyone</td>\n",
       "      <td>Art &amp; Design;Pretend Play</td>\n",
       "      <td>January 15, 2018</td>\n",
       "      <td>2.0.0</td>\n",
       "      <td>4.0.3 and up</td>\n",
       "      <td>14.0</td>\n",
       "    </tr>\n",
       "    <tr>\n",
       "      <th>2</th>\n",
       "      <td>U Launcher Lite – FREE Live Cool Themes, Hide ...</td>\n",
       "      <td>ART_AND_DESIGN</td>\n",
       "      <td>4.7</td>\n",
       "      <td>87510</td>\n",
       "      <td>9122611.2</td>\n",
       "      <td>5000000</td>\n",
       "      <td>Free</td>\n",
       "      <td>0</td>\n",
       "      <td>Everyone</td>\n",
       "      <td>Art &amp; Design</td>\n",
       "      <td>August 1, 2018</td>\n",
       "      <td>1.2.4</td>\n",
       "      <td>4.0.3 and up</td>\n",
       "      <td>8.7</td>\n",
       "    </tr>\n",
       "    <tr>\n",
       "      <th>3</th>\n",
       "      <td>Sketch - Draw &amp; Paint</td>\n",
       "      <td>ART_AND_DESIGN</td>\n",
       "      <td>4.5</td>\n",
       "      <td>215644</td>\n",
       "      <td>26214400.0</td>\n",
       "      <td>50000000</td>\n",
       "      <td>Free</td>\n",
       "      <td>0</td>\n",
       "      <td>Teen</td>\n",
       "      <td>Art &amp; Design</td>\n",
       "      <td>June 8, 2018</td>\n",
       "      <td>Varies with device</td>\n",
       "      <td>4.2 and up</td>\n",
       "      <td>25.0</td>\n",
       "    </tr>\n",
       "    <tr>\n",
       "      <th>4</th>\n",
       "      <td>Pixel Draw - Number Art Coloring Book</td>\n",
       "      <td>ART_AND_DESIGN</td>\n",
       "      <td>4.3</td>\n",
       "      <td>967</td>\n",
       "      <td>2936012.8</td>\n",
       "      <td>100000</td>\n",
       "      <td>Free</td>\n",
       "      <td>0</td>\n",
       "      <td>Everyone</td>\n",
       "      <td>Art &amp; Design;Creativity</td>\n",
       "      <td>June 20, 2018</td>\n",
       "      <td>1.1</td>\n",
       "      <td>4.4 and up</td>\n",
       "      <td>2.8</td>\n",
       "    </tr>\n",
       "  </tbody>\n",
       "</table>\n",
       "</div>"
      ],
      "text/plain": [
       "                                                 App        Category  Rating  \\\n",
       "0     Photo Editor & Candy Camera & Grid & ScrapBook  ART_AND_DESIGN     4.1   \n",
       "1                                Coloring book moana  ART_AND_DESIGN     3.9   \n",
       "2  U Launcher Lite – FREE Live Cool Themes, Hide ...  ART_AND_DESIGN     4.7   \n",
       "3                              Sketch - Draw & Paint  ART_AND_DESIGN     4.5   \n",
       "4              Pixel Draw - Number Art Coloring Book  ART_AND_DESIGN     4.3   \n",
       "\n",
       "   Reviews  Size_bytes  Installs  Type Price Content Rating  \\\n",
       "0      159  19922944.0     10000  Free     0       Everyone   \n",
       "1      967  14680064.0    500000  Free     0       Everyone   \n",
       "2    87510   9122611.2   5000000  Free     0       Everyone   \n",
       "3   215644  26214400.0  50000000  Free     0           Teen   \n",
       "4      967   2936012.8    100000  Free     0       Everyone   \n",
       "\n",
       "                      Genres      Last Updated         Current Ver  \\\n",
       "0               Art & Design   January 7, 2018               1.0.0   \n",
       "1  Art & Design;Pretend Play  January 15, 2018               2.0.0   \n",
       "2               Art & Design    August 1, 2018               1.2.4   \n",
       "3               Art & Design      June 8, 2018  Varies with device   \n",
       "4    Art & Design;Creativity     June 20, 2018                 1.1   \n",
       "\n",
       "    Android Ver  Size_Into_Mb  \n",
       "0  4.0.3 and up          19.0  \n",
       "1  4.0.3 and up          14.0  \n",
       "2  4.0.3 and up           8.7  \n",
       "3    4.2 and up          25.0  \n",
       "4    4.4 and up           2.8  "
      ]
     },
     "execution_count": 869,
     "metadata": {},
     "output_type": "execute_result"
    }
   ],
   "source": [
    "df.head(5)"
   ]
  },
  {
   "cell_type": "code",
   "execution_count": 870,
   "id": "51f2a8fa",
   "metadata": {},
   "outputs": [
    {
     "data": {
      "text/plain": [
       "dtype('int64')"
      ]
     },
     "execution_count": 870,
     "metadata": {},
     "output_type": "execute_result"
    }
   ],
   "source": [
    "df['Installs'].dtype # this will show the data type of the column\n"
   ]
  },
  {
   "cell_type": "markdown",
   "id": "fa222982",
   "metadata": {},
   "source": [
    "- We can generate a new columns based on the installation values, which will be helpful in our analysis\n"
   ]
  },
  {
   "cell_type": "code",
   "execution_count": 871,
   "id": "ae652e63",
   "metadata": {},
   "outputs": [
    {
     "data": {
      "text/plain": [
       "np.int64(1000000000)"
      ]
     },
     "execution_count": 871,
     "metadata": {},
     "output_type": "execute_result"
    }
   ],
   "source": [
    "df['Installs'].max() # this will show the value counts of the column\n"
   ]
  },
  {
   "cell_type": "code",
   "execution_count": 872,
   "id": "96fe0792",
   "metadata": {},
   "outputs": [],
   "source": [
    "# making a new column called 'Installs_category' which will have the category of the installs\n",
    "bins = [-1, 0, 10, 1000, 10000, 100000, 1000000, 10000000, 10000000000]\n",
    "labels=['no', 'Very low', 'Low', 'Moderate', 'More than moderate', 'High', 'Very High', 'Top Notch']\n",
    "df['Installs_category'] = pd.cut(df['Installs'], bins=bins, labels=labels)"
   ]
  },
  {
   "cell_type": "code",
   "execution_count": 873,
   "id": "a13f336d",
   "metadata": {},
   "outputs": [
    {
     "data": {
      "text/plain": [
       "Installs_category\n",
       "Low                   2162\n",
       "High                  2118\n",
       "Very High             2004\n",
       "More than moderate    1648\n",
       "Moderate              1531\n",
       "Top Notch              828\n",
       "Very low               535\n",
       "no                      15\n",
       "Name: count, dtype: int64"
      ]
     },
     "execution_count": 873,
     "metadata": {},
     "output_type": "execute_result"
    }
   ],
   "source": [
    "df['Installs_category'].value_counts() # check the value counts of the new column\n"
   ]
  },
  {
   "cell_type": "markdown",
   "id": "89a9b03f",
   "metadata": {},
   "source": [
    "# Price Column\n"
   ]
  },
  {
   "cell_type": "code",
   "execution_count": 874,
   "id": "f47a9663",
   "metadata": {},
   "outputs": [
    {
     "data": {
      "text/plain": [
       "array(['0', '$4.99', '$3.99', '$6.99', '$1.49', '$2.99', '$7.99', '$5.99',\n",
       "       '$3.49', '$1.99', '$9.99', '$7.49', '$0.99', '$9.00', '$5.49',\n",
       "       '$10.00', '$24.99', '$11.99', '$79.99', '$16.99', '$14.99',\n",
       "       '$1.00', '$29.99', '$12.99', '$2.49', '$10.99', '$1.50', '$19.99',\n",
       "       '$15.99', '$33.99', '$74.99', '$39.99', '$3.95', '$4.49', '$1.70',\n",
       "       '$8.99', '$2.00', '$3.88', '$25.99', '$399.99', '$17.99',\n",
       "       '$400.00', '$3.02', '$1.76', '$4.84', '$4.77', '$1.61', '$2.50',\n",
       "       '$1.59', '$6.49', '$1.29', '$5.00', '$13.99', '$299.99', '$379.99',\n",
       "       '$37.99', '$18.99', '$389.99', '$19.90', '$8.49', '$1.75',\n",
       "       '$14.00', '$4.85', '$46.99', '$109.99', '$154.99', '$3.08',\n",
       "       '$2.59', '$4.80', '$1.96', '$19.40', '$3.90', '$4.59', '$15.46',\n",
       "       '$3.04', '$4.29', '$2.60', '$3.28', '$4.60', '$28.99', '$2.95',\n",
       "       '$2.90', '$1.97', '$200.00', '$89.99', '$2.56', '$30.99', '$3.61',\n",
       "       '$394.99', '$1.26', '$1.20', '$1.04'], dtype=object)"
      ]
     },
     "execution_count": 874,
     "metadata": {},
     "output_type": "execute_result"
    }
   ],
   "source": [
    "# check the unique values in the 'Price' column\n",
    "df['Price'].unique()"
   ]
  },
  {
   "cell_type": "code",
   "execution_count": 875,
   "id": "62da510a",
   "metadata": {},
   "outputs": [
    {
     "data": {
      "text/plain": [
       "np.int64(10841)"
      ]
     },
     "execution_count": 875,
     "metadata": {},
     "output_type": "execute_result"
    }
   ],
   "source": [
    "df['Price'].value_counts().sum()"
   ]
  },
  {
   "cell_type": "code",
   "execution_count": 876,
   "id": "db28a588",
   "metadata": {},
   "outputs": [
    {
     "data": {
      "text/plain": [
       "Price\n",
       "0          10041\n",
       "$0.99        148\n",
       "$2.99        129\n",
       "$1.99         73\n",
       "$4.99         72\n",
       "$3.99         63\n",
       "$1.49         46\n",
       "$5.99         30\n",
       "$2.49         26\n",
       "$9.99         21\n",
       "$6.99         13\n",
       "$399.99       12\n",
       "$14.99        11\n",
       "$4.49          9\n",
       "$29.99         7\n",
       "$3.49          7\n",
       "$7.99          7\n",
       "$24.99         7\n",
       "$5.49          6\n",
       "$19.99         6\n",
       "$6.49          5\n",
       "$8.99          5\n",
       "$12.99         5\n",
       "$11.99         5\n",
       "$10.00         3\n",
       "$1.00          3\n",
       "$16.99         3\n",
       "$2.00          3\n",
       "$17.99         2\n",
       "$10.99         2\n",
       "$9.00          2\n",
       "$79.99         2\n",
       "$7.49          2\n",
       "$3.95          2\n",
       "$33.99         2\n",
       "$1.70          2\n",
       "$13.99         2\n",
       "$8.49          2\n",
       "$39.99         2\n",
       "$1.50          1\n",
       "$25.99         1\n",
       "$74.99         1\n",
       "$15.99         1\n",
       "$3.88          1\n",
       "$1.76          1\n",
       "$3.02          1\n",
       "$400.00        1\n",
       "$4.84          1\n",
       "$2.50          1\n",
       "$1.59          1\n",
       "$1.61          1\n",
       "$4.77          1\n",
       "$5.00          1\n",
       "$1.29          1\n",
       "$379.99        1\n",
       "$299.99        1\n",
       "$37.99         1\n",
       "$18.99         1\n",
       "$389.99        1\n",
       "$19.90         1\n",
       "$1.75          1\n",
       "$14.00         1\n",
       "$4.85          1\n",
       "$46.99         1\n",
       "$109.99        1\n",
       "$154.99        1\n",
       "$3.08          1\n",
       "$2.59          1\n",
       "$4.80          1\n",
       "$1.96          1\n",
       "$19.40         1\n",
       "$3.90          1\n",
       "$4.59          1\n",
       "$15.46         1\n",
       "$3.04          1\n",
       "$4.29          1\n",
       "$2.60          1\n",
       "$3.28          1\n",
       "$4.60          1\n",
       "$28.99         1\n",
       "$2.95          1\n",
       "$2.90          1\n",
       "$1.97          1\n",
       "$200.00        1\n",
       "$89.99         1\n",
       "$2.56          1\n",
       "$30.99         1\n",
       "$3.61          1\n",
       "$394.99        1\n",
       "$1.26          1\n",
       "$1.20          1\n",
       "$1.04          1\n",
       "Name: count, dtype: int64"
      ]
     },
     "execution_count": 876,
     "metadata": {},
     "output_type": "execute_result"
    }
   ],
   "source": [
    "df['Price'].value_counts() # check the value counts of the 'Price' column\n"
   ]
  },
  {
   "cell_type": "markdown",
   "id": "6766b2c4",
   "metadata": {},
   "source": [
    "## lets see how many dollers sign are there"
   ]
  },
  {
   "cell_type": "code",
   "execution_count": 877,
   "id": "6d7de003",
   "metadata": {},
   "outputs": [
    {
     "data": {
      "text/plain": [
       "np.int64(800)"
      ]
     },
     "execution_count": 877,
     "metadata": {},
     "output_type": "execute_result"
    }
   ],
   "source": [
    "df['Price'].loc[df[\"Price\"].str.contains('\\$')].value_counts().sum()"
   ]
  },
  {
   "cell_type": "code",
   "execution_count": 878,
   "id": "01c6b366",
   "metadata": {},
   "outputs": [
    {
     "data": {
      "text/plain": [
       "np.int64(10041)"
      ]
     },
     "execution_count": 878,
     "metadata": {},
     "output_type": "execute_result"
    }
   ],
   "source": [
    "df['Price'].loc[(df[\"Price\"].str.contains('0'))& (~df['Price'].str.contains('\\$'))].value_counts().sum()"
   ]
  },
  {
   "cell_type": "markdown",
   "id": "ce089d9c",
   "metadata": {},
   "source": [
    "- Now we can confirm that the only currency used is `$` in the `Price` column or 0 value, as `800+10041=10841 `Total values\n",
    "The only problem is $ sign let's remove it and convert the column into numeric data type."
   ]
  },
  {
   "cell_type": "code",
   "execution_count": 879,
   "id": "e455e5e7",
   "metadata": {},
   "outputs": [],
   "source": [
    "# remove the dollar sign from the price column and convert it to numeric\n",
    "df[\"Price\"] = df[\"Price\"].apply(lambda x : x.replace(\"$\" , \"\")if \"$\" in str(x) else x)\n",
    "\n"
   ]
  },
  {
   "cell_type": "code",
   "execution_count": 880,
   "id": "8c35bab1",
   "metadata": {},
   "outputs": [],
   "source": [
    "# convert the price column to numeric (float because this is the price)\n",
    "df[\"Price\"] = df[\"Price\"].apply(lambda x : float(x) )"
   ]
  },
  {
   "cell_type": "code",
   "execution_count": 881,
   "id": "4ce8b24d",
   "metadata": {},
   "outputs": [
    {
     "data": {
      "text/plain": [
       "dtype('float64')"
      ]
     },
     "execution_count": 881,
     "metadata": {},
     "output_type": "execute_result"
    }
   ],
   "source": [
    "df['Price'].dtype # this will show the data type of the column\n"
   ]
  },
  {
   "cell_type": "code",
   "execution_count": 882,
   "id": "0f3662ab",
   "metadata": {},
   "outputs": [
    {
     "name": "stdout",
     "output_type": "stream",
     "text": [
      "Max Price of an app is : $400.0\n",
      "Min Price of an app is : $0.0\n",
      "Average Price of an app is : $1.03\n"
     ]
    }
   ],
   "source": [
    "# using f string for max min and average price of apps\n",
    "print(f\"Max Price of an app is : ${df['Price'].max()}\")\n",
    "print(f\"Min Price of an app is : ${df['Price'].min()}\")\n",
    "print(f\"Average Price of an app is : ${df['Price'].mean():.2f}\")\n",
    "\n"
   ]
  },
  {
   "cell_type": "markdown",
   "id": "2386e756",
   "metadata": {},
   "source": [
    "# 2.1. Descriptive Statistics\n"
   ]
  },
  {
   "cell_type": "code",
   "execution_count": 883,
   "id": "254e736c",
   "metadata": {},
   "outputs": [
    {
     "data": {
      "text/html": [
       "<div>\n",
       "<style scoped>\n",
       "    .dataframe tbody tr th:only-of-type {\n",
       "        vertical-align: middle;\n",
       "    }\n",
       "\n",
       "    .dataframe tbody tr th {\n",
       "        vertical-align: top;\n",
       "    }\n",
       "\n",
       "    .dataframe thead th {\n",
       "        text-align: right;\n",
       "    }\n",
       "</style>\n",
       "<table border=\"1\" class=\"dataframe\">\n",
       "  <thead>\n",
       "    <tr style=\"text-align: right;\">\n",
       "      <th></th>\n",
       "      <th>Rating</th>\n",
       "      <th>Reviews</th>\n",
       "      <th>Size_bytes</th>\n",
       "      <th>Installs</th>\n",
       "      <th>Price</th>\n",
       "      <th>Size_Into_Mb</th>\n",
       "    </tr>\n",
       "  </thead>\n",
       "  <tbody>\n",
       "    <tr>\n",
       "      <th>count</th>\n",
       "      <td>9367.000000</td>\n",
       "      <td>1.084100e+04</td>\n",
       "      <td>9.146000e+03</td>\n",
       "      <td>1.084100e+04</td>\n",
       "      <td>10841.000000</td>\n",
       "      <td>9146.000000</td>\n",
       "    </tr>\n",
       "    <tr>\n",
       "      <th>mean</th>\n",
       "      <td>4.191513</td>\n",
       "      <td>4.441119e+05</td>\n",
       "      <td>2.255921e+07</td>\n",
       "      <td>1.546291e+07</td>\n",
       "      <td>1.027273</td>\n",
       "      <td>21.514141</td>\n",
       "    </tr>\n",
       "    <tr>\n",
       "      <th>std</th>\n",
       "      <td>0.515735</td>\n",
       "      <td>2.927629e+06</td>\n",
       "      <td>2.368595e+07</td>\n",
       "      <td>8.502557e+07</td>\n",
       "      <td>15.948971</td>\n",
       "      <td>22.588679</td>\n",
       "    </tr>\n",
       "    <tr>\n",
       "      <th>min</th>\n",
       "      <td>1.000000</td>\n",
       "      <td>0.000000e+00</td>\n",
       "      <td>8.704000e+03</td>\n",
       "      <td>0.000000e+00</td>\n",
       "      <td>0.000000</td>\n",
       "      <td>0.008301</td>\n",
       "    </tr>\n",
       "    <tr>\n",
       "      <th>25%</th>\n",
       "      <td>4.000000</td>\n",
       "      <td>3.800000e+01</td>\n",
       "      <td>5.138022e+06</td>\n",
       "      <td>1.000000e+03</td>\n",
       "      <td>0.000000</td>\n",
       "      <td>4.900000</td>\n",
       "    </tr>\n",
       "    <tr>\n",
       "      <th>50%</th>\n",
       "      <td>4.300000</td>\n",
       "      <td>2.094000e+03</td>\n",
       "      <td>1.363149e+07</td>\n",
       "      <td>1.000000e+05</td>\n",
       "      <td>0.000000</td>\n",
       "      <td>13.000000</td>\n",
       "    </tr>\n",
       "    <tr>\n",
       "      <th>75%</th>\n",
       "      <td>4.500000</td>\n",
       "      <td>5.476800e+04</td>\n",
       "      <td>3.145728e+07</td>\n",
       "      <td>5.000000e+06</td>\n",
       "      <td>0.000000</td>\n",
       "      <td>30.000000</td>\n",
       "    </tr>\n",
       "    <tr>\n",
       "      <th>max</th>\n",
       "      <td>5.000000</td>\n",
       "      <td>7.815831e+07</td>\n",
       "      <td>1.048576e+08</td>\n",
       "      <td>1.000000e+09</td>\n",
       "      <td>400.000000</td>\n",
       "      <td>100.000000</td>\n",
       "    </tr>\n",
       "  </tbody>\n",
       "</table>\n",
       "</div>"
      ],
      "text/plain": [
       "            Rating       Reviews    Size_bytes      Installs         Price  \\\n",
       "count  9367.000000  1.084100e+04  9.146000e+03  1.084100e+04  10841.000000   \n",
       "mean      4.191513  4.441119e+05  2.255921e+07  1.546291e+07      1.027273   \n",
       "std       0.515735  2.927629e+06  2.368595e+07  8.502557e+07     15.948971   \n",
       "min       1.000000  0.000000e+00  8.704000e+03  0.000000e+00      0.000000   \n",
       "25%       4.000000  3.800000e+01  5.138022e+06  1.000000e+03      0.000000   \n",
       "50%       4.300000  2.094000e+03  1.363149e+07  1.000000e+05      0.000000   \n",
       "75%       4.500000  5.476800e+04  3.145728e+07  5.000000e+06      0.000000   \n",
       "max       5.000000  7.815831e+07  1.048576e+08  1.000000e+09    400.000000   \n",
       "\n",
       "       Size_Into_Mb  \n",
       "count   9146.000000  \n",
       "mean      21.514141  \n",
       "std       22.588679  \n",
       "min        0.008301  \n",
       "25%        4.900000  \n",
       "50%       13.000000  \n",
       "75%       30.000000  \n",
       "max      100.000000  "
      ]
     },
     "execution_count": 883,
     "metadata": {},
     "output_type": "execute_result"
    }
   ],
   "source": [
    "df.describe()"
   ]
  },
  {
   "cell_type": "markdown",
   "id": "5a1916d1",
   "metadata": {},
   "source": [
    "# Observation\n",
    "- Now, we have only 6 columns as numeric data type.\n",
    "- We can observe their descriptive statistics. and make tons of observations as per our hypotheses.\n",
    "- We can see that the Rating column has a minimum value of 1 and a maximum value of 5, which is the range of rating, and the mean is 4.19 which is a good rating. On an average people give this rating.\n",
    "- We can see that the Reviews column has a minimum value of 0 and a maximum value of 78,158,306 78+ Millions, which is the range of reviews, and the mean is 444,111.93 which is a good number of reviews. On an average people give this number of reviews to the apps. But it does not make sense to us, as we have different categories of apps.\n",
    "- Similarly, we can observe the other columns as well.\\\n",
    "\n",
    "Therefore, the most important thing is to classify as app based on the correlation matrix and then observe the descriptive statistics of the app category and number of installs, reviews, ratings, etc."
   ]
  },
  {
   "cell_type": "markdown",
   "id": "3d50e8bf",
   "metadata": {},
   "source": [
    "### But even before that we have to think about the missing values in the dataset.\n"
   ]
  },
  {
   "cell_type": "markdown",
   "id": "a14487ab",
   "metadata": {},
   "source": [
    "## 2.2. Dealing with the missing values\n",
    "\n",
    " Dealing with the missing values is one of the most important part of the data wrangling process, we must deal with the missing values in order to get the correct insights from the data.\n"
   ]
  },
  {
   "cell_type": "markdown",
   "id": "53f41d4b",
   "metadata": {},
   "source": [
    "- Let's have a look on the missing values in the dataset\n"
   ]
  },
  {
   "cell_type": "markdown",
   "id": "d0645fa0",
   "metadata": {},
   "source": [
    "# Missing Values"
   ]
  },
  {
   "cell_type": "code",
   "execution_count": 884,
   "id": "9697a55c",
   "metadata": {},
   "outputs": [
    {
     "data": {
      "text/plain": [
       "App                     0\n",
       "Category                1\n",
       "Rating               1474\n",
       "Reviews                 0\n",
       "Size_bytes           1695\n",
       "Installs                0\n",
       "Type                    1\n",
       "Price                   0\n",
       "Content Rating          0\n",
       "Genres                  0\n",
       "Last Updated            0\n",
       "Current Ver             8\n",
       "Android Ver             2\n",
       "Size_Into_Mb         1695\n",
       "Installs_category       0\n",
       "dtype: int64"
      ]
     },
     "execution_count": 884,
     "metadata": {},
     "output_type": "execute_result"
    }
   ],
   "source": [
    "# find missinf values\n",
    "df.isnull().sum()"
   ]
  },
  {
   "cell_type": "code",
   "execution_count": 885,
   "id": "b09816f7",
   "metadata": {},
   "outputs": [
    {
     "data": {
      "text/plain": [
       "Size_bytes           15.64\n",
       "Size_Into_Mb         15.64\n",
       "Rating               13.60\n",
       "Current Ver           0.07\n",
       "Android Ver           0.02\n",
       "Type                  0.01\n",
       "Category              0.01\n",
       "Installs              0.00\n",
       "Reviews               0.00\n",
       "App                   0.00\n",
       "Price                 0.00\n",
       "Last Updated          0.00\n",
       "Genres                0.00\n",
       "Content Rating        0.00\n",
       "Installs_category     0.00\n",
       "dtype: float64"
      ]
     },
     "execution_count": 885,
     "metadata": {},
     "output_type": "execute_result"
    }
   ],
   "source": [
    "# find missing values in percentage\n",
    "round(df.isnull().sum()/len(df) * 100,2).sort_values(ascending=False)"
   ]
  },
  {
   "cell_type": "code",
   "execution_count": 886,
   "id": "9054e622",
   "metadata": {},
   "outputs": [
    {
     "data": {
      "text/plain": [
       "np.int64(4876)"
      ]
     },
     "execution_count": 886,
     "metadata": {},
     "output_type": "execute_result"
    }
   ],
   "source": [
    "# find the missing value total\n",
    "df.isnull().sum().sum()"
   ]
  },
  {
   "cell_type": "code",
   "execution_count": 887,
   "id": "792104c1",
   "metadata": {},
   "outputs": [
    {
     "data": {
      "text/plain": [
       "<Axes: >"
      ]
     },
     "execution_count": 887,
     "metadata": {},
     "output_type": "execute_result"
    },
    {
     "data": {
      "image/png": "[encoded data removed]",
      "text/plain": [
       "<Figure size 640x480 with 1 Axes>"
      ]
     },
     "metadata": {},
     "output_type": "display_data"
    }
   ],
   "source": [
    "# plot the missing values using heatmap\n",
    "sns.heatmap(df.isnull(), yticklabels=False, cbar=False, cmap='viridis')"
   ]
  },
  {
   "cell_type": "code",
   "execution_count": 888,
   "id": "10adf86d",
   "metadata": {},
   "outputs": [
    {
     "data": {
      "text/plain": [
       "Text(0.5, 1.0, 'Missing Values Percentage in each Column')"
      ]
     },
     "execution_count": 888,
     "metadata": {},
     "output_type": "execute_result"
    },
    {
     "data": {
      "image/png": "[encoded data removed]",
      "text/plain": [
       "<Figure size 1600x600 with 1 Axes>"
      ]
     },
     "metadata": {},
     "output_type": "display_data"
    }
   ],
   "source": [
    "# make a figure size\n",
    "plt.figure(figsize=(16,6))\n",
    "# plot the null values by their prcentage in each column\n",
    "missing_percentage = df.isnull().sum()/len(df) * 100\n",
    "missing_percentage.plot(kind='bar')\n",
    " # add labels and title\n",
    "plt.xlabel(\"Columns\", fontsize=14)\n",
    "plt.ylabel(\"Percentage %\", fontsize=14)\n",
    "plt.title(\"Missing Values Percentage in each Column\", fontsize=16)\n",
    "\n",
    "\n"
   ]
  },
  {
   "cell_type": "markdown",
   "id": "3f1990d1",
   "metadata": {},
   "source": [
    "- Let's plot the missing values other than 'Rating', 'Size_in_bytes' and 'Size_in_Mb' column\n",
    "- We have missing percentage columns other than rating having less than one percent of missing values, we will plot them as follows:"
   ]
  },
  {
   "cell_type": "code",
   "execution_count": 889,
   "id": "b1d50d8f",
   "metadata": {},
   "outputs": [
    {
     "data": {
      "text/plain": [
       "Text(0.5, 1.0, 'Percentage of Missing Values in each Column without Rating column')"
      ]
     },
     "execution_count": 889,
     "metadata": {},
     "output_type": "execute_result"
    },
    {
     "data": {
      "image/png": "[encoded data removed]",
      "text/plain": [
       "<Figure size 1600x600 with 1 Axes>"
      ]
     },
     "metadata": {},
     "output_type": "display_data"
    }
   ],
   "source": [
    "plt.figure(figsize=(16, 6)) # make figure size\n",
    "missing_percentage[missing_percentage < 1].plot(kind='bar') # plot the null values by their percentage in each column\n",
    "plt.xlabel('Columns') # add the x-axis labels\n",
    "plt.ylabel('Percentage') # add the labels for y-axis\n",
    "plt.title('Percentage of Missing Values in each Column without Rating column')  # add the title for the plot"
   ]
  },
  {
   "cell_type": "code",
   "execution_count": 890,
   "id": "890805c4",
   "metadata": {},
   "outputs": [
    {
     "data": {
      "text/plain": [
       "Size_bytes           1695\n",
       "Size_Into_Mb         1695\n",
       "Rating               1474\n",
       "Current Ver             8\n",
       "Android Ver             2\n",
       "Type                    1\n",
       "Category                1\n",
       "Installs                0\n",
       "Reviews                 0\n",
       "App                     0\n",
       "Price                   0\n",
       "Last Updated            0\n",
       "Genres                  0\n",
       "Content Rating          0\n",
       "Installs_category       0\n",
       "dtype: int64"
      ]
     },
     "execution_count": 890,
     "metadata": {},
     "output_type": "execute_result"
    }
   ],
   "source": [
    "df.isnull().sum().sort_values(ascending=False) # this will show the number of null values in each column in descending order\n"
   ]
  },
  {
   "cell_type": "code",
   "execution_count": 891,
   "id": "7648a0b8",
   "metadata": {},
   "outputs": [
    {
     "data": {
      "text/plain": [
       "Size_bytes           15.635089\n",
       "Size_Into_Mb         15.635089\n",
       "Rating               13.596532\n",
       "Current Ver           0.073794\n",
       "Android Ver           0.018448\n",
       "Type                  0.009224\n",
       "Category              0.009224\n",
       "Installs              0.000000\n",
       "Reviews               0.000000\n",
       "App                   0.000000\n",
       "Price                 0.000000\n",
       "Last Updated          0.000000\n",
       "Genres                0.000000\n",
       "Content Rating        0.000000\n",
       "Installs_category     0.000000\n",
       "dtype: float64"
      ]
     },
     "execution_count": 891,
     "metadata": {},
     "output_type": "execute_result"
    }
   ],
   "source": [
    "(df.isnull().sum() / len(df) * 100).sort_values(ascending=False) # this will show the percentage of null values in each column\n"
   ]
  },
  {
   "cell_type": "markdown",
   "id": "a44bf3b3",
   "metadata": {},
   "source": [
    "# Observation\n",
    "\n",
    "- We have 1695 missing values in the 'Size_in_bytes' and 'Size_in_Mb' columns, which is 15.6% of the total values in the column.\n",
    "- We have 1474 missing values in the 'Rating' column, which is 13.6% of the total values in the column.\n",
    "- We have 8 missing value in the 'Current Ver' column, which is 0.07% of the total values in the column.\n",
    "- We have 2 missing values in the 'Android Ver' column, which is 0.01% of the total values in the column.\n",
    "- We have only 1 missing value in Category, Type and Genres columns, which is 0.009% of the total values in the column."
   ]
  },
  {
   "cell_type": "markdown",
   "id": "7848326b",
   "metadata": {},
   "source": [
    "# 2.3. Dealing with the missing values\n",
    "- We can not impute the Rating column as is is directly linked with the installation column. To test this Hypothesis we need to plot the Rating column with the Installs and Size columns and statistically test it using pearson correlation test."
   ]
  },
  {
   "cell_type": "markdown",
   "id": "476d05fc",
   "metadata": {},
   "source": [
    "- Let's run the correlations\n"
   ]
  },
  {
   "cell_type": "code",
   "execution_count": 892,
   "id": "f5b0357f",
   "metadata": {},
   "outputs": [
    {
     "data": {
      "text/html": [
       "<div>\n",
       "<style scoped>\n",
       "    .dataframe tbody tr th:only-of-type {\n",
       "        vertical-align: middle;\n",
       "    }\n",
       "\n",
       "    .dataframe tbody tr th {\n",
       "        vertical-align: top;\n",
       "    }\n",
       "\n",
       "    .dataframe thead th {\n",
       "        text-align: right;\n",
       "    }\n",
       "</style>\n",
       "<table border=\"1\" class=\"dataframe\">\n",
       "  <thead>\n",
       "    <tr style=\"text-align: right;\">\n",
       "      <th></th>\n",
       "      <th>Rating</th>\n",
       "      <th>Reviews</th>\n",
       "      <th>Size_bytes</th>\n",
       "      <th>Installs</th>\n",
       "      <th>Price</th>\n",
       "      <th>Size_Into_Mb</th>\n",
       "    </tr>\n",
       "  </thead>\n",
       "  <tbody>\n",
       "    <tr>\n",
       "      <th>count</th>\n",
       "      <td>9367.000000</td>\n",
       "      <td>1.084100e+04</td>\n",
       "      <td>9.146000e+03</td>\n",
       "      <td>1.084100e+04</td>\n",
       "      <td>10841.000000</td>\n",
       "      <td>9146.000000</td>\n",
       "    </tr>\n",
       "    <tr>\n",
       "      <th>mean</th>\n",
       "      <td>4.191513</td>\n",
       "      <td>4.441119e+05</td>\n",
       "      <td>2.255921e+07</td>\n",
       "      <td>1.546291e+07</td>\n",
       "      <td>1.027273</td>\n",
       "      <td>21.514141</td>\n",
       "    </tr>\n",
       "    <tr>\n",
       "      <th>std</th>\n",
       "      <td>0.515735</td>\n",
       "      <td>2.927629e+06</td>\n",
       "      <td>2.368595e+07</td>\n",
       "      <td>8.502557e+07</td>\n",
       "      <td>15.948971</td>\n",
       "      <td>22.588679</td>\n",
       "    </tr>\n",
       "    <tr>\n",
       "      <th>min</th>\n",
       "      <td>1.000000</td>\n",
       "      <td>0.000000e+00</td>\n",
       "      <td>8.704000e+03</td>\n",
       "      <td>0.000000e+00</td>\n",
       "      <td>0.000000</td>\n",
       "      <td>0.008301</td>\n",
       "    </tr>\n",
       "    <tr>\n",
       "      <th>25%</th>\n",
       "      <td>4.000000</td>\n",
       "      <td>3.800000e+01</td>\n",
       "      <td>5.138022e+06</td>\n",
       "      <td>1.000000e+03</td>\n",
       "      <td>0.000000</td>\n",
       "      <td>4.900000</td>\n",
       "    </tr>\n",
       "    <tr>\n",
       "      <th>50%</th>\n",
       "      <td>4.300000</td>\n",
       "      <td>2.094000e+03</td>\n",
       "      <td>1.363149e+07</td>\n",
       "      <td>1.000000e+05</td>\n",
       "      <td>0.000000</td>\n",
       "      <td>13.000000</td>\n",
       "    </tr>\n",
       "    <tr>\n",
       "      <th>75%</th>\n",
       "      <td>4.500000</td>\n",
       "      <td>5.476800e+04</td>\n",
       "      <td>3.145728e+07</td>\n",
       "      <td>5.000000e+06</td>\n",
       "      <td>0.000000</td>\n",
       "      <td>30.000000</td>\n",
       "    </tr>\n",
       "    <tr>\n",
       "      <th>max</th>\n",
       "      <td>5.000000</td>\n",
       "      <td>7.815831e+07</td>\n",
       "      <td>1.048576e+08</td>\n",
       "      <td>1.000000e+09</td>\n",
       "      <td>400.000000</td>\n",
       "      <td>100.000000</td>\n",
       "    </tr>\n",
       "  </tbody>\n",
       "</table>\n",
       "</div>"
      ],
      "text/plain": [
       "            Rating       Reviews    Size_bytes      Installs         Price  \\\n",
       "count  9367.000000  1.084100e+04  9.146000e+03  1.084100e+04  10841.000000   \n",
       "mean      4.191513  4.441119e+05  2.255921e+07  1.546291e+07      1.027273   \n",
       "std       0.515735  2.927629e+06  2.368595e+07  8.502557e+07     15.948971   \n",
       "min       1.000000  0.000000e+00  8.704000e+03  0.000000e+00      0.000000   \n",
       "25%       4.000000  3.800000e+01  5.138022e+06  1.000000e+03      0.000000   \n",
       "50%       4.300000  2.094000e+03  1.363149e+07  1.000000e+05      0.000000   \n",
       "75%       4.500000  5.476800e+04  3.145728e+07  5.000000e+06      0.000000   \n",
       "max       5.000000  7.815831e+07  1.048576e+08  1.000000e+09    400.000000   \n",
       "\n",
       "       Size_Into_Mb  \n",
       "count   9146.000000  \n",
       "mean      21.514141  \n",
       "std       22.588679  \n",
       "min        0.008301  \n",
       "25%        4.900000  \n",
       "50%       13.000000  \n",
       "75%       30.000000  \n",
       "max      100.000000  "
      ]
     },
     "execution_count": 892,
     "metadata": {},
     "output_type": "execute_result"
    }
   ],
   "source": [
    "df.describe() # these are numeric columns\n",
    "\n"
   ]
  },
  {
   "cell_type": "code",
   "execution_count": 893,
   "id": "dcd9a870",
   "metadata": {},
   "outputs": [
    {
     "data": {
      "text/plain": [
       "<Axes: >"
      ]
     },
     "execution_count": 893,
     "metadata": {},
     "output_type": "execute_result"
    },
    {
     "data": {
      "image/png": "[encoded data removed]",
      "text/plain": [
       "<Figure size 1600x1000 with 2 Axes>"
      ]
     },
     "metadata": {},
     "output_type": "display_data"
    }
   ],
   "source": [
    "# Make a correlation matrix of numeric columns\n",
    "plt.figure(figsize=(16, 10)) # make figure size  \n",
    "numeric_cols = ['Rating', 'Reviews', 'Size_bytes', 'Installs', 'Price', 'Size_Into_Mb'] # make a list of numeric columns\n",
    "sns.heatmap(df[numeric_cols].corr(), annot=True) # plot the correlation matrix"
   ]
  },
  {
   "cell_type": "code",
   "execution_count": 894,
   "id": "1c3a36a8",
   "metadata": {},
   "outputs": [
    {
     "data": {
      "text/html": [
       "<div>\n",
       "<style scoped>\n",
       "    .dataframe tbody tr th:only-of-type {\n",
       "        vertical-align: middle;\n",
       "    }\n",
       "\n",
       "    .dataframe tbody tr th {\n",
       "        vertical-align: top;\n",
       "    }\n",
       "\n",
       "    .dataframe thead th {\n",
       "        text-align: right;\n",
       "    }\n",
       "</style>\n",
       "<table border=\"1\" class=\"dataframe\">\n",
       "  <thead>\n",
       "    <tr style=\"text-align: right;\">\n",
       "      <th></th>\n",
       "      <th>Rating</th>\n",
       "      <th>Reviews</th>\n",
       "      <th>Size_bytes</th>\n",
       "      <th>Installs</th>\n",
       "      <th>Price</th>\n",
       "      <th>Size_Into_Mb</th>\n",
       "    </tr>\n",
       "  </thead>\n",
       "  <tbody>\n",
       "    <tr>\n",
       "      <th>Rating</th>\n",
       "      <td>1.000000</td>\n",
       "      <td>0.068147</td>\n",
       "      <td>0.084098</td>\n",
       "      <td>0.051393</td>\n",
       "      <td>-0.021851</td>\n",
       "      <td>0.084098</td>\n",
       "    </tr>\n",
       "    <tr>\n",
       "      <th>Reviews</th>\n",
       "      <td>0.068147</td>\n",
       "      <td>1.000000</td>\n",
       "      <td>0.238218</td>\n",
       "      <td>0.643123</td>\n",
       "      <td>-0.009666</td>\n",
       "      <td>0.238218</td>\n",
       "    </tr>\n",
       "    <tr>\n",
       "      <th>Size_bytes</th>\n",
       "      <td>0.084098</td>\n",
       "      <td>0.238218</td>\n",
       "      <td>1.000000</td>\n",
       "      <td>0.164794</td>\n",
       "      <td>-0.023000</td>\n",
       "      <td>1.000000</td>\n",
       "    </tr>\n",
       "    <tr>\n",
       "      <th>Installs</th>\n",
       "      <td>0.051393</td>\n",
       "      <td>0.643123</td>\n",
       "      <td>0.164794</td>\n",
       "      <td>1.000000</td>\n",
       "      <td>-0.011688</td>\n",
       "      <td>0.164794</td>\n",
       "    </tr>\n",
       "    <tr>\n",
       "      <th>Price</th>\n",
       "      <td>-0.021851</td>\n",
       "      <td>-0.009666</td>\n",
       "      <td>-0.023000</td>\n",
       "      <td>-0.011688</td>\n",
       "      <td>1.000000</td>\n",
       "      <td>-0.023000</td>\n",
       "    </tr>\n",
       "    <tr>\n",
       "      <th>Size_Into_Mb</th>\n",
       "      <td>0.084098</td>\n",
       "      <td>0.238218</td>\n",
       "      <td>1.000000</td>\n",
       "      <td>0.164794</td>\n",
       "      <td>-0.023000</td>\n",
       "      <td>1.000000</td>\n",
       "    </tr>\n",
       "  </tbody>\n",
       "</table>\n",
       "</div>"
      ],
      "text/plain": [
       "                Rating   Reviews  Size_bytes  Installs     Price  Size_Into_Mb\n",
       "Rating        1.000000  0.068147    0.084098  0.051393 -0.021851      0.084098\n",
       "Reviews       0.068147  1.000000    0.238218  0.643123 -0.009666      0.238218\n",
       "Size_bytes    0.084098  0.238218    1.000000  0.164794 -0.023000      1.000000\n",
       "Installs      0.051393  0.643123    0.164794  1.000000 -0.011688      0.164794\n",
       "Price        -0.021851 -0.009666   -0.023000 -0.011688  1.000000     -0.023000\n",
       "Size_Into_Mb  0.084098  0.238218    1.000000  0.164794 -0.023000      1.000000"
      ]
     },
     "execution_count": 894,
     "metadata": {},
     "output_type": "execute_result"
    }
   ],
   "source": [
    "# we can also calculate the correlation matrix using pandas\n",
    "df[numeric_cols].corr() # this will show the correlation matrix"
   ]
  },
  {
   "cell_type": "code",
   "execution_count": null,
   "id": "cee2d227",
   "metadata": {},
   "outputs": [
    {
     "ename": "ModuleNotFoundError",
     "evalue": "No module named 'scipy'",
     "output_type": "error",
     "traceback": [
      "\u001b[31m---------------------------------------------------------------------------\u001b[39m",
      "\u001b[31mModuleNotFoundError\u001b[39m                       Traceback (most recent call last)",
      "\u001b[36mCell\u001b[39m\u001b[36m \u001b[39m\u001b[32mIn[896]\u001b[39m\u001b[32m, line 5\u001b[39m\n\u001b[32m      1\u001b[39m \u001b[38;5;66;03m# we can calculate the pearson correlation coefficient using scipy as well as follows\u001b[39;00m\n\u001b[32m      2\u001b[39m \n\u001b[32m      3\u001b[39m \u001b[38;5;66;03m# this is to install scipy if you have not done it before\u001b[39;00m\n\u001b[32m      4\u001b[39m \u001b[38;5;66;03m# pip install scipy \u001b[39;00m\n\u001b[32m----> \u001b[39m\u001b[32m5\u001b[39m \u001b[38;5;28;01mfrom\u001b[39;00m\u001b[38;5;250m \u001b[39m\u001b[34;01mscipy\u001b[39;00m\u001b[38;5;250m \u001b[39m\u001b[38;5;28;01mimport\u001b[39;00m stats\n\u001b[32m      7\u001b[39m \u001b[38;5;66;03m# remove rows containing NaN or infinite values (Important to calculate Pearson's R)\u001b[39;00m\n\u001b[32m      8\u001b[39m df_clean = df.dropna()\n",
      "\u001b[31mModuleNotFoundError\u001b[39m: No module named 'scipy'"
     ]
    }
   ],
   "source": [
    "# we can calculate the pearson correlation coefficient using scipy as well as follows\n",
    "\n",
    "# this is to install scipy if you have not done it before\n",
    "# pip install scipy \n",
    "from scipy import stats\n",
    "\n",
    "# Ensure 'Reviews' and 'Installs' are numeric\n",
    "df_clean = df.dropna().copy()\n",
    "df_clean['Reviews'] = pd.to_numeric(df_clean['Reviews'], errors='coerce')\n",
    "df_clean['Installs'] = pd.to_numeric(df_clean['Installs'], errors='coerce')\n",
    "\n",
    "# Remove any rows with NaN after conversion\n",
    "df_clean = df_clean.dropna(subset=['Reviews', 'Installs'])\n",
    "\n",
    "# calculate Pearson's R between Reviews and Installs\n",
    "pearson_r, _ = stats.pearsonr(df_clean['Reviews'], df_clean['Installs'])\n",
    "print(f\"Pearson's R between Reviews and Installs: {pearson_r:.4f}\")"
   ]
  }
 ],
 "metadata": {
  "kernelspec": {
   "display_name": "python_pandas",
   "language": "python",
   "name": "python3"
  },
  "language_info": {
   "codemirror_mode": {
    "name": "ipython",
    "version": 3
   },
   "file_extension": ".py",
   "mimetype": "text/x-python",
   "name": "python",
   "nbconvert_exporter": "python",
   "pygments_lexer": "ipython3",
   "version": "3.13.5"
  }
 },
 "nbformat": 4,
 "nbformat_minor": 5
}
