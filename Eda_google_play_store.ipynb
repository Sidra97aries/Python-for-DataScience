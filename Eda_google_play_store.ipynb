{
 "cells": [
  {
   "cell_type": "markdown",
   "id": "61bbda8e",
   "metadata": {},
   "source": [
    "# Google Playstore Data"
   ]
  },
  {
   "cell_type": "markdown",
   "id": "b128c4a0",
   "metadata": {},
   "source": [
    "## Exploratry Data Analysis "
   ]
  },
  {
   "cell_type": "markdown",
   "id": "67464fea",
   "metadata": {},
   "source": [
    "# About Data\n"
   ]
  },
  {
   "cell_type": "markdown",
   "id": "946696ca",
   "metadata": {},
   "source": [
    "*`Instructions for citation:`*\n",
    "If you use this dataset anywhere in your work, kindly cite as the below:\n",
    "L. Gupta, \"Google Play Store Apps,\" Feb 2019. [Online]. Available: https://www.kaggle.com/lava18/google-play-store-apps\n",
    "\n",
    "*`Context`*\n",
    "While many public datasets (on Kaggle and the like) provide Apple App Store data, there are not many counterpart datasets available for Google Play Store apps anywhere on the web. On digging deeper, I found out that iTunes App Store page deploys a nicely indexed appendix-like structure to allow for simple and easy web scraping. On the other hand, Google Play Store uses sophisticated modern-day techniques (like dynamic page load) using JQuery making scraping more challenging.\n",
    "\n",
    "*`Content`*\n",
    "Each app (row) has values for catergory, rating, size, and more.\n",
    "\n",
    "*`Acknowledgements`*\n",
    "This information is scraped from the Google Play Store. This app information would not be available without it.\n",
    "\n",
    "*`Inspiration`*\n",
    "The Play Store apps data has enormous potential to drive app-making businesses to success. Actionable insights can be drawn for developers to work on and capture the Android market!"
   ]
  },
  {
   "cell_type": "markdown",
   "id": "a7ecd5eb",
   "metadata": {
    "vscode": {
     "languageId": "plaintext"
    }
   },
   "source": [
    "# 1. Importing libraries\n"
   ]
  },
  {
   "cell_type": "code",
   "execution_count": 1,
   "id": "3198f9d1",
   "metadata": {},
   "outputs": [],
   "source": [
    "import pandas as pd \n",
    "import numpy as np \n",
    "import matplotlib.pyplot as plt\n",
    "import seaborn as sns\n",
    "%matplotlib inline\n"
   ]
  },
  {
   "cell_type": "markdown",
   "id": "178c23da",
   "metadata": {},
   "source": [
    "# 2. Data loading and Exploring|Cleaning"
   ]
  },
  {
   "cell_type": "markdown",
   "id": "94715f86",
   "metadata": {},
   "source": [
    "- Let's Load the Csv"
   ]
  },
  {
   "cell_type": "code",
   "execution_count": 2,
   "id": "4146a44b",
   "metadata": {},
   "outputs": [],
   "source": [
    "df = pd.read_csv(\"./data_sets/googleplaystore.csv\")"
   ]
  },
  {
   "cell_type": "markdown",
   "id": "8cc97b17",
   "metadata": {},
   "source": [
    "- Let's have a look on top rows of the data"
   ]
  },
  {
   "cell_type": "code",
   "execution_count": 3,
   "id": "c14d426e",
   "metadata": {},
   "outputs": [
    {
     "data": {
      "text/html": [
       "<div>\n",
       "<style scoped>\n",
       "    .dataframe tbody tr th:only-of-type {\n",
       "        vertical-align: middle;\n",
       "    }\n",
       "\n",
       "    .dataframe tbody tr th {\n",
       "        vertical-align: top;\n",
       "    }\n",
       "\n",
       "    .dataframe thead th {\n",
       "        text-align: right;\n",
       "    }\n",
       "</style>\n",
       "<table border=\"1\" class=\"dataframe\">\n",
       "  <thead>\n",
       "    <tr style=\"text-align: right;\">\n",
       "      <th></th>\n",
       "      <th>App</th>\n",
       "      <th>Category</th>\n",
       "      <th>Rating</th>\n",
       "      <th>Reviews</th>\n",
       "      <th>Size</th>\n",
       "      <th>Installs</th>\n",
       "      <th>Type</th>\n",
       "      <th>Price</th>\n",
       "      <th>Content Rating</th>\n",
       "      <th>Genres</th>\n",
       "      <th>Last Updated</th>\n",
       "      <th>Current Ver</th>\n",
       "      <th>Android Ver</th>\n",
       "    </tr>\n",
       "  </thead>\n",
       "  <tbody>\n",
       "    <tr>\n",
       "      <th>0</th>\n",
       "      <td>Photo Editor &amp; Candy Camera &amp; Grid &amp; ScrapBook</td>\n",
       "      <td>ART_AND_DESIGN</td>\n",
       "      <td>4.1</td>\n",
       "      <td>159</td>\n",
       "      <td>19M</td>\n",
       "      <td>10,000+</td>\n",
       "      <td>Free</td>\n",
       "      <td>0</td>\n",
       "      <td>Everyone</td>\n",
       "      <td>Art &amp; Design</td>\n",
       "      <td>January 7, 2018</td>\n",
       "      <td>1.0.0</td>\n",
       "      <td>4.0.3 and up</td>\n",
       "    </tr>\n",
       "    <tr>\n",
       "      <th>1</th>\n",
       "      <td>Coloring book moana</td>\n",
       "      <td>ART_AND_DESIGN</td>\n",
       "      <td>3.9</td>\n",
       "      <td>967</td>\n",
       "      <td>14M</td>\n",
       "      <td>500,000+</td>\n",
       "      <td>Free</td>\n",
       "      <td>0</td>\n",
       "      <td>Everyone</td>\n",
       "      <td>Art &amp; Design;Pretend Play</td>\n",
       "      <td>January 15, 2018</td>\n",
       "      <td>2.0.0</td>\n",
       "      <td>4.0.3 and up</td>\n",
       "    </tr>\n",
       "    <tr>\n",
       "      <th>2</th>\n",
       "      <td>U Launcher Lite – FREE Live Cool Themes, Hide ...</td>\n",
       "      <td>ART_AND_DESIGN</td>\n",
       "      <td>4.7</td>\n",
       "      <td>87510</td>\n",
       "      <td>8.7M</td>\n",
       "      <td>5,000,000+</td>\n",
       "      <td>Free</td>\n",
       "      <td>0</td>\n",
       "      <td>Everyone</td>\n",
       "      <td>Art &amp; Design</td>\n",
       "      <td>August 1, 2018</td>\n",
       "      <td>1.2.4</td>\n",
       "      <td>4.0.3 and up</td>\n",
       "    </tr>\n",
       "    <tr>\n",
       "      <th>3</th>\n",
       "      <td>Sketch - Draw &amp; Paint</td>\n",
       "      <td>ART_AND_DESIGN</td>\n",
       "      <td>4.5</td>\n",
       "      <td>215644</td>\n",
       "      <td>25M</td>\n",
       "      <td>50,000,000+</td>\n",
       "      <td>Free</td>\n",
       "      <td>0</td>\n",
       "      <td>Teen</td>\n",
       "      <td>Art &amp; Design</td>\n",
       "      <td>June 8, 2018</td>\n",
       "      <td>Varies with device</td>\n",
       "      <td>4.2 and up</td>\n",
       "    </tr>\n",
       "    <tr>\n",
       "      <th>4</th>\n",
       "      <td>Pixel Draw - Number Art Coloring Book</td>\n",
       "      <td>ART_AND_DESIGN</td>\n",
       "      <td>4.3</td>\n",
       "      <td>967</td>\n",
       "      <td>2.8M</td>\n",
       "      <td>100,000+</td>\n",
       "      <td>Free</td>\n",
       "      <td>0</td>\n",
       "      <td>Everyone</td>\n",
       "      <td>Art &amp; Design;Creativity</td>\n",
       "      <td>June 20, 2018</td>\n",
       "      <td>1.1</td>\n",
       "      <td>4.4 and up</td>\n",
       "    </tr>\n",
       "  </tbody>\n",
       "</table>\n",
       "</div>"
      ],
      "text/plain": [
       "                                                 App        Category  Rating  \\\n",
       "0     Photo Editor & Candy Camera & Grid & ScrapBook  ART_AND_DESIGN     4.1   \n",
       "1                                Coloring book moana  ART_AND_DESIGN     3.9   \n",
       "2  U Launcher Lite – FREE Live Cool Themes, Hide ...  ART_AND_DESIGN     4.7   \n",
       "3                              Sketch - Draw & Paint  ART_AND_DESIGN     4.5   \n",
       "4              Pixel Draw - Number Art Coloring Book  ART_AND_DESIGN     4.3   \n",
       "\n",
       "   Reviews  Size     Installs  Type Price Content Rating  \\\n",
       "0      159   19M      10,000+  Free     0       Everyone   \n",
       "1      967   14M     500,000+  Free     0       Everyone   \n",
       "2    87510  8.7M   5,000,000+  Free     0       Everyone   \n",
       "3   215644   25M  50,000,000+  Free     0           Teen   \n",
       "4      967  2.8M     100,000+  Free     0       Everyone   \n",
       "\n",
       "                      Genres      Last Updated         Current Ver  \\\n",
       "0               Art & Design   January 7, 2018               1.0.0   \n",
       "1  Art & Design;Pretend Play  January 15, 2018               2.0.0   \n",
       "2               Art & Design    August 1, 2018               1.2.4   \n",
       "3               Art & Design      June 8, 2018  Varies with device   \n",
       "4    Art & Design;Creativity     June 20, 2018                 1.1   \n",
       "\n",
       "    Android Ver  \n",
       "0  4.0.3 and up  \n",
       "1  4.0.3 and up  \n",
       "2  4.0.3 and up  \n",
       "3    4.2 and up  \n",
       "4    4.4 and up  "
      ]
     },
     "execution_count": 3,
     "metadata": {},
     "output_type": "execute_result"
    }
   ],
   "source": [
    "df.head(5)"
   ]
  },
  {
   "cell_type": "code",
   "execution_count": 4,
   "id": "af9ced24",
   "metadata": {},
   "outputs": [],
   "source": [
    "# Set options to be maximum for rows and columns\n",
    "pd.set_option('display.max_columns', None)\n",
    "pd.set_option('display.max_rows', None)\n",
    "# hide warnings\n",
    "import warnings\n",
    "warnings.filterwarnings('ignore')"
   ]
  },
  {
   "cell_type": "code",
   "execution_count": 5,
   "id": "a3470e1e",
   "metadata": {},
   "outputs": [
    {
     "data": {
      "text/plain": [
       "Index(['App', 'Category', 'Rating', 'Reviews', 'Size', 'Installs', 'Type',\n",
       "       'Price', 'Content Rating', 'Genres', 'Last Updated', 'Current Ver',\n",
       "       'Android Ver'],\n",
       "      dtype='object')"
      ]
     },
     "execution_count": 5,
     "metadata": {},
     "output_type": "execute_result"
    }
   ],
   "source": [
    "df.columns"
   ]
  },
  {
   "cell_type": "markdown",
   "id": "074615f2",
   "metadata": {},
   "source": [
    "- Let's have a look on the shape of the dataset"
   ]
  },
  {
   "cell_type": "code",
   "execution_count": 6,
   "id": "1dc6b3af",
   "metadata": {},
   "outputs": [
    {
     "data": {
      "text/plain": [
       "(10841, 13)"
      ]
     },
     "execution_count": 6,
     "metadata": {},
     "output_type": "execute_result"
    }
   ],
   "source": [
    "df.shape"
   ]
  },
  {
   "cell_type": "code",
   "execution_count": 7,
   "id": "38e549b2",
   "metadata": {},
   "outputs": [
    {
     "name": "stdout",
     "output_type": "stream",
     "text": [
      "Number of rows: 10841 and Number of columns: 13\n"
     ]
    }
   ],
   "source": [
    "print(f\"Number of rows: {df.shape[0]} and Number of columns: {df.shape[1]}\")"
   ]
  },
  {
   "cell_type": "markdown",
   "id": "b2ab5efa",
   "metadata": {},
   "source": [
    "- Not enough, let's have a look on the columns and their data types using detailed info function\n",
    "\n"
   ]
  },
  {
   "cell_type": "code",
   "execution_count": 8,
   "id": "520cfb27",
   "metadata": {},
   "outputs": [
    {
     "name": "stdout",
     "output_type": "stream",
     "text": [
      "<class 'pandas.core.frame.DataFrame'>\n",
      "RangeIndex: 10841 entries, 0 to 10840\n",
      "Data columns (total 13 columns):\n",
      " #   Column          Non-Null Count  Dtype  \n",
      "---  ------          --------------  -----  \n",
      " 0   App             10841 non-null  object \n",
      " 1   Category        10840 non-null  object \n",
      " 2   Rating          9367 non-null   float64\n",
      " 3   Reviews         10841 non-null  int64  \n",
      " 4   Size            10841 non-null  object \n",
      " 5   Installs        10841 non-null  object \n",
      " 6   Type            10840 non-null  object \n",
      " 7   Price           10841 non-null  object \n",
      " 8   Content Rating  10841 non-null  object \n",
      " 9   Genres          10841 non-null  object \n",
      " 10  Last Updated    10841 non-null  object \n",
      " 11  Current Ver     10833 non-null  object \n",
      " 12  Android Ver     10839 non-null  object \n",
      "dtypes: float64(1), int64(1), object(11)\n",
      "memory usage: 1.1+ MB\n"
     ]
    }
   ],
   "source": [
    "df.info()"
   ]
  },
  {
   "cell_type": "markdown",
   "id": "f424d3b3",
   "metadata": {},
   "source": [
    "# Observation\n",
    "- There are 10841 rows and 13 columns in the dataset\n",
    "- The columns are of different data types\n",
    "- The columns in the datasets are:\n",
    "'App', 'Category', 'Rating', 'Reviews', 'Size', 'Installs', 'Type',   'Price', 'Content Rating', 'Genres', 'Last Updated', 'Current Ver',   'Android Ver'\n",
    "- There are some missing values in the dataset which we will read in details and deal later on in the notebook.\n",
    "- There are some columns which are of object data type but they should be of numeric data type, we will convert them later on in the notebook.\n",
    "'Size', 'Installs', 'Price'"
   ]
  },
  {
   "cell_type": "code",
   "execution_count": 9,
   "id": "9ebc32b6",
   "metadata": {},
   "outputs": [
    {
     "data": {
      "text/html": [
       "<div>\n",
       "<style scoped>\n",
       "    .dataframe tbody tr th:only-of-type {\n",
       "        vertical-align: middle;\n",
       "    }\n",
       "\n",
       "    .dataframe tbody tr th {\n",
       "        vertical-align: top;\n",
       "    }\n",
       "\n",
       "    .dataframe thead th {\n",
       "        text-align: right;\n",
       "    }\n",
       "</style>\n",
       "<table border=\"1\" class=\"dataframe\">\n",
       "  <thead>\n",
       "    <tr style=\"text-align: right;\">\n",
       "      <th></th>\n",
       "      <th>Rating</th>\n",
       "      <th>Reviews</th>\n",
       "    </tr>\n",
       "  </thead>\n",
       "  <tbody>\n",
       "    <tr>\n",
       "      <th>count</th>\n",
       "      <td>9367.000000</td>\n",
       "      <td>1.084100e+04</td>\n",
       "    </tr>\n",
       "    <tr>\n",
       "      <th>mean</th>\n",
       "      <td>4.191513</td>\n",
       "      <td>4.441119e+05</td>\n",
       "    </tr>\n",
       "    <tr>\n",
       "      <th>std</th>\n",
       "      <td>0.515735</td>\n",
       "      <td>2.927629e+06</td>\n",
       "    </tr>\n",
       "    <tr>\n",
       "      <th>min</th>\n",
       "      <td>1.000000</td>\n",
       "      <td>0.000000e+00</td>\n",
       "    </tr>\n",
       "    <tr>\n",
       "      <th>25%</th>\n",
       "      <td>4.000000</td>\n",
       "      <td>3.800000e+01</td>\n",
       "    </tr>\n",
       "    <tr>\n",
       "      <th>50%</th>\n",
       "      <td>4.300000</td>\n",
       "      <td>2.094000e+03</td>\n",
       "    </tr>\n",
       "    <tr>\n",
       "      <th>75%</th>\n",
       "      <td>4.500000</td>\n",
       "      <td>5.476800e+04</td>\n",
       "    </tr>\n",
       "    <tr>\n",
       "      <th>max</th>\n",
       "      <td>5.000000</td>\n",
       "      <td>7.815831e+07</td>\n",
       "    </tr>\n",
       "  </tbody>\n",
       "</table>\n",
       "</div>"
      ],
      "text/plain": [
       "            Rating       Reviews\n",
       "count  9367.000000  1.084100e+04\n",
       "mean      4.191513  4.441119e+05\n",
       "std       0.515735  2.927629e+06\n",
       "min       1.000000  0.000000e+00\n",
       "25%       4.000000  3.800000e+01\n",
       "50%       4.300000  2.094000e+03\n",
       "75%       4.500000  5.476800e+04\n",
       "max       5.000000  7.815831e+07"
      ]
     },
     "execution_count": 9,
     "metadata": {},
     "output_type": "execute_result"
    }
   ],
   "source": [
    "df.describe()"
   ]
  },
  {
   "cell_type": "markdown",
   "id": "4bf9393c",
   "metadata": {},
   "source": [
    "## Observation\n",
    "We have only 2 columns as numeric data type, rest all are object data type (according to python), but we can see that 'Size', 'Installs', 'Price' are also numeric, we must convert them to numeric data type in data wrangling process."
   ]
  },
  {
   "cell_type": "markdown",
   "id": "a261be2c",
   "metadata": {},
   "source": [
    "# How to make size a numeric column"
   ]
  },
  {
   "cell_type": "code",
   "execution_count": 10,
   "id": "c2528332",
   "metadata": {},
   "outputs": [
    {
     "data": {
      "text/plain": [
       "np.int64(0)"
      ]
     },
     "execution_count": 10,
     "metadata": {},
     "output_type": "execute_result"
    }
   ],
   "source": [
    "df['Size'].isnull().sum()"
   ]
  },
  {
   "cell_type": "markdown",
   "id": "e9015a6e",
   "metadata": {},
   "source": [
    "- no Null values in the columns"
   ]
  },
  {
   "cell_type": "code",
   "execution_count": 11,
   "id": "63aa8732",
   "metadata": {},
   "outputs": [
    {
     "data": {
      "text/plain": [
       "Size\n",
       "Varies with device    1695\n",
       "11M                    198\n",
       "12M                    196\n",
       "14M                    194\n",
       "13M                    191\n",
       "15M                    184\n",
       "17M                    160\n",
       "19M                    154\n",
       "26M                    149\n",
       "16M                    149\n",
       "25M                    143\n",
       "20M                    139\n",
       "21M                    138\n",
       "10M                    136\n",
       "24M                    136\n",
       "18M                    133\n",
       "23M                    117\n",
       "22M                    114\n",
       "29M                    103\n",
       "27M                     97\n",
       "28M                     95\n",
       "30M                     84\n",
       "33M                     79\n",
       "3.3M                    77\n",
       "37M                     76\n",
       "35M                     72\n",
       "31M                     70\n",
       "2.9M                    69\n",
       "2.3M                    68\n",
       "2.5M                    68\n",
       "3.4M                    65\n",
       "2.8M                    65\n",
       "32M                     63\n",
       "3.7M                    63\n",
       "34M                     63\n",
       "3.9M                    62\n",
       "3.0M                    62\n",
       "3.8M                    62\n",
       "40M                     62\n",
       "44M                     61\n",
       "4.0M                    61\n",
       "36M                     60\n",
       "48M                     59\n",
       "46M                     59\n",
       "4.2M                    59\n",
       "5.0M                    58\n",
       "3.6M                    57\n",
       "3.1M                    56\n",
       "39M                     56\n",
       "3.2M                    55\n",
       "38M                     55\n",
       "4.3M                    54\n",
       "2.7M                    53\n",
       "4.1M                    52\n",
       "2.0M                    51\n",
       "3.5M                    51\n",
       "5.4M                    51\n",
       "4.9M                    50\n",
       "1.8M                    50\n",
       "2.6M                    50\n",
       "1.5M                    48\n",
       "2.4M                    48\n",
       "5.7M                    48\n",
       "41M                     48\n",
       "43M                     47\n",
       "4.6M                    46\n",
       "6.3M                    45\n",
       "2.2M                    45\n",
       "49M                     45\n",
       "50M                     44\n",
       "5.3M                    44\n",
       "5.1M                    43\n",
       "53M                     43\n",
       "4.4M                    42\n",
       "63M                     41\n",
       "42M                     41\n",
       "1.2M                    41\n",
       "1.7M                    40\n",
       "2.1M                    40\n",
       "45M                     40\n",
       "4.5M                    40\n",
       "6.9M                    40\n",
       "6.1M                    39\n",
       "99M                     39\n",
       "1.6M                    39\n",
       "8.7M                    39\n",
       "59M                     38\n",
       "47M                     37\n",
       "57M                     37\n",
       "5.9M                    37\n",
       "1.4M                    37\n",
       "7.3M                    37\n",
       "60M                     36\n",
       "8.5M                    36\n",
       "4.7M                    36\n",
       "1.3M                    35\n",
       "5.8M                    35\n",
       "52M                     35\n",
       "5.2M                    35\n",
       "4.8M                    34\n",
       "6.0M                    34\n",
       "6.5M                    34\n",
       "7.9M                    33\n",
       "5.5M                    33\n",
       "7.0M                    33\n",
       "51M                     33\n",
       "6.6M                    33\n",
       "9.2M                    33\n",
       "1.9M                    32\n",
       "67M                     32\n",
       "1.1M                    32\n",
       "62M                     32\n",
       "5.6M                    31\n",
       "56M                     31\n",
       "8.3M                    30\n",
       "7.2M                    30\n",
       "8.4M                    30\n",
       "55M                     30\n",
       "9.8M                    30\n",
       "6.2M                    30\n",
       "54M                     29\n",
       "7.8M                    29\n",
       "9.1M                    29\n",
       "7.6M                    29\n",
       "6.4M                    29\n",
       "9.9M                    28\n",
       "7.4M                    28\n",
       "8.9M                    28\n",
       "7.5M                    28\n",
       "6.8M                    28\n",
       "9.5M                    28\n",
       "8.2M                    28\n",
       "8.8M                    27\n",
       "76M                     27\n",
       "70M                     27\n",
       "8.1M                    27\n",
       "9.0M                    27\n",
       "61M                     26\n",
       "7.7M                    26\n",
       "58M                     26\n",
       "7.1M                    26\n",
       "96M                     26\n",
       "8.6M                    25\n",
       "6.7M                    25\n",
       "9.4M                    24\n",
       "9.7M                    24\n",
       "78M                     23\n",
       "8.0M                    23\n",
       "69M                     23\n",
       "91M                     22\n",
       "82M                     21\n",
       "97M                     20\n",
       "74M                     20\n",
       "72M                     19\n",
       "95M                     18\n",
       "68M                     18\n",
       "85M                     17\n",
       "94M                     17\n",
       "93M                     16\n",
       "100M                    16\n",
       "66M                     16\n",
       "98M                     16\n",
       "83M                     15\n",
       "92M                     15\n",
       "9.3M                    15\n",
       "9.6M                    15\n",
       "64M                     15\n",
       "73M                     15\n",
       "71M                     14\n",
       "88M                     14\n",
       "77M                     13\n",
       "87M                     13\n",
       "75M                     13\n",
       "80M                     13\n",
       "79M                     11\n",
       "81M                     11\n",
       "10.0M                   10\n",
       "65M                     10\n",
       "89M                      9\n",
       "84M                      9\n",
       "86M                      8\n",
       "1.0M                     7\n",
       "90M                      6\n",
       "201k                     3\n",
       "79k                      3\n",
       "118k                     3\n",
       "266k                     3\n",
       "375k                     3\n",
       "592k                     2\n",
       "29k                      2\n",
       "948k                     2\n",
       "323k                     2\n",
       "656k                     2\n",
       "33k                      2\n",
       "228k                     2\n",
       "72k                      2\n",
       "334k                     2\n",
       "417k                     2\n",
       "335k                     2\n",
       "192k                     2\n",
       "141k                     2\n",
       "70k                      2\n",
       "18k                      2\n",
       "473k                     2\n",
       "842k                     2\n",
       "206k                     2\n",
       "172k                     2\n",
       "26k                      2\n",
       "196k                     2\n",
       "58k                      2\n",
       "318k                     2\n",
       "17k                      2\n",
       "704k                     2\n",
       "51k                      2\n",
       "957k                     2\n",
       "364k                     2\n",
       "619k                     1\n",
       "144k                     1\n",
       "143k                     1\n",
       "190k                     1\n",
       "376k                     1\n",
       "970k                     1\n",
       "39k                      1\n",
       "879k                     1\n",
       "161k                     1\n",
       "626k                     1\n",
       "387k                     1\n",
       "860k                     1\n",
       "154k                     1\n",
       "467k                     1\n",
       "861k                     1\n",
       "921k                     1\n",
       "523k                     1\n",
       "329k                     1\n",
       "48k                      1\n",
       "270k                     1\n",
       "811k                     1\n",
       "688k                     1\n",
       "847k                     1\n",
       "562k                     1\n",
       "54k                      1\n",
       "500k                     1\n",
       "608k                     1\n",
       "903k                     1\n",
       "914k                     1\n",
       "193k                     1\n",
       "378k                     1\n",
       "899k                     1\n",
       "892k                     1\n",
       "754k                     1\n",
       "518k                     1\n",
       "24k                      1\n",
       "280k                     1\n",
       "784k                     1\n",
       "981k                     1\n",
       "862k                     1\n",
       "865k                     1\n",
       "953k                     1\n",
       "857k                     1\n",
       "241k                     1\n",
       "772k                     1\n",
       "713k                     1\n",
       "720k                     1\n",
       "853k                     1\n",
       "779k                     1\n",
       "920k                     1\n",
       "525k                     1\n",
       "544k                     1\n",
       "293k                     1\n",
       "91k                      1\n",
       "756k                     1\n",
       "730k                     1\n",
       "220k                     1\n",
       "371k                     1\n",
       "239k                     1\n",
       "314k                     1\n",
       "203k                     1\n",
       "746k                     1\n",
       "313k                     1\n",
       "540k                     1\n",
       "930k                     1\n",
       "251k                     1\n",
       "61k                      1\n",
       "545k                     1\n",
       "965k                     1\n",
       "475k                     1\n",
       "45k                      1\n",
       "169k                     1\n",
       "939k                     1\n",
       "81k                      1\n",
       "818k                     1\n",
       "902k                     1\n",
       "924k                     1\n",
       "78k                      1\n",
       "317k                     1\n",
       "14k                      1\n",
       "74k                      1\n",
       "717k                     1\n",
       "23k                      1\n",
       "695k                     1\n",
       "696k                     1\n",
       "980k                     1\n",
       "975k                     1\n",
       "444k                     1\n",
       "954k                     1\n",
       "549k                     1\n",
       "238k                     1\n",
       "976k                     1\n",
       "322k                     1\n",
       "121k                     1\n",
       "872k                     1\n",
       "93k                      1\n",
       "714k                     1\n",
       "655k                     1\n",
       "283k                     1\n",
       "442k                     1\n",
       "812k                     1\n",
       "421k                     1\n",
       "454k                     1\n",
       "383k                     1\n",
       "350k                     1\n",
       "175k                     1\n",
       "904k                     1\n",
       "306k                     1\n",
       "705k                     1\n",
       "308k                     1\n",
       "609k                     1\n",
       "210k                     1\n",
       "414k                     1\n",
       "11k                      1\n",
       "292k                     1\n",
       "41k                      1\n",
       "8.5k                     1\n",
       "624k                     1\n",
       "232k                     1\n",
       "556k                     1\n",
       "816k                     1\n",
       "496k                     1\n",
       "728k                     1\n",
       "460k                     1\n",
       "200k                     1\n",
       "429k                     1\n",
       "430k                     1\n",
       "721k                     1\n",
       "782k                     1\n",
       "478k                     1\n",
       "459k                     1\n",
       "412k                     1\n",
       "598k                     1\n",
       "437k                     1\n",
       "373k                     1\n",
       "191k                     1\n",
       "647k                     1\n",
       "840k                     1\n",
       "186k                     1\n",
       "319k                     1\n",
       "683k                     1\n",
       "778k                     1\n",
       "569k                     1\n",
       "243k                     1\n",
       "613k                     1\n",
       "887k                     1\n",
       "506k                     1\n",
       "27k                      1\n",
       "351k                     1\n",
       "554k                     1\n",
       "25k                      1\n",
       "963k                     1\n",
       "951k                     1\n",
       "511k                     1\n",
       "691k                     1\n",
       "55k                      1\n",
       "219k                     1\n",
       "222k                     1\n",
       "982k                     1\n",
       "585k                     1\n",
       "716k                     1\n",
       "597k                     1\n",
       "173k                     1\n",
       "499k                     1\n",
       "353k                     1\n",
       "209k                     1\n",
       "153k                     1\n",
       "116k                     1\n",
       "743k                     1\n",
       "898k                     1\n",
       "103k                     1\n",
       "551k                     1\n",
       "514k                     1\n",
       "913k                     1\n",
       "208k                     1\n",
       "82k                      1\n",
       "269k                     1\n",
       "961k                     1\n",
       "780k                     1\n",
       "837k                     1\n",
       "516k                     1\n",
       "97k                      1\n",
       "986k                     1\n",
       "643k                     1\n",
       "50k                      1\n",
       "237k                     1\n",
       "787k                     1\n",
       "801k                     1\n",
       "400k                     1\n",
       "411k                     1\n",
       "122k                     1\n",
       "809k                     1\n",
       "663k                     1\n",
       "257k                     1\n",
       "234k                     1\n",
       "160k                     1\n",
       "170k                     1\n",
       "89k                      1\n",
       "240k                     1\n",
       "226k                     1\n",
       "470k                     1\n",
       "526k                     1\n",
       "176k                     1\n",
       "940k                     1\n",
       "108k                     1\n",
       "221k                     1\n",
       "601k                     1\n",
       "881k                     1\n",
       "642k                     1\n",
       "749k                     1\n",
       "600k                     1\n",
       "498k                     1\n",
       "20k                      1\n",
       "485k                     1\n",
       "309k                     1\n",
       "994k                     1\n",
       "916k                     1\n",
       "636k                     1\n",
       "785k                     1\n",
       "775k                     1\n",
       "288k                     1\n",
       "28k                      1\n",
       "629k                     1\n",
       "245k                     1\n",
       "458k                     1\n",
       "164k                     1\n",
       "259k                     1\n",
       "942k                     1\n",
       "34k                      1\n",
       "874k                     1\n",
       "582k                     1\n",
       "1020k                    1\n",
       "885k                     1\n",
       "552k                     1\n",
       "67k                      1\n",
       "676k                     1\n",
       "44k                      1\n",
       "157k                     1\n",
       "404k                     1\n",
       "420k                     1\n",
       "253k                     1\n",
       "992k                     1\n",
       "658k                     1\n",
       "73k                      1\n",
       "246k                     1\n",
       "Name: count, dtype: int64"
      ]
     },
     "execution_count": 11,
     "metadata": {},
     "output_type": "execute_result"
    }
   ],
   "source": [
    "df[\"Size\"].value_counts()"
   ]
  },
  {
   "cell_type": "code",
   "execution_count": 12,
   "id": "f0333ce5",
   "metadata": {},
   "outputs": [
    {
     "data": {
      "text/plain": [
       "array(['19M', '14M', '8.7M', '25M', '2.8M', '5.6M', '29M', '33M', '3.1M',\n",
       "       '28M', '12M', '20M', '21M', '37M', '2.7M', '5.5M', '17M', '39M',\n",
       "       '31M', '4.2M', '7.0M', '23M', '6.0M', '6.1M', '4.6M', '9.2M',\n",
       "       '5.2M', '11M', '24M', 'Varies with device', '9.4M', '15M', '10M',\n",
       "       '1.2M', '26M', '8.0M', '7.9M', '56M', '57M', '35M', '54M', '201k',\n",
       "       '3.6M', '5.7M', '8.6M', '2.4M', '27M', '2.5M', '16M', '3.4M',\n",
       "       '8.9M', '3.9M', '2.9M', '38M', '32M', '5.4M', '18M', '1.1M',\n",
       "       '2.2M', '4.5M', '9.8M', '52M', '9.0M', '6.7M', '30M', '2.6M',\n",
       "       '7.1M', '3.7M', '22M', '7.4M', '6.4M', '3.2M', '8.2M', '9.9M',\n",
       "       '4.9M', '9.5M', '5.0M', '5.9M', '13M', '73M', '6.8M', '3.5M',\n",
       "       '4.0M', '2.3M', '7.2M', '2.1M', '42M', '7.3M', '9.1M', '55M',\n",
       "       '23k', '6.5M', '1.5M', '7.5M', '51M', '41M', '48M', '8.5M', '46M',\n",
       "       '8.3M', '4.3M', '4.7M', '3.3M', '40M', '7.8M', '8.8M', '6.6M',\n",
       "       '5.1M', '61M', '66M', '79k', '8.4M', '118k', '44M', '695k', '1.6M',\n",
       "       '6.2M', '18k', '53M', '1.4M', '3.0M', '5.8M', '3.8M', '9.6M',\n",
       "       '45M', '63M', '49M', '77M', '4.4M', '4.8M', '70M', '6.9M', '9.3M',\n",
       "       '10.0M', '8.1M', '36M', '84M', '97M', '2.0M', '1.9M', '1.8M',\n",
       "       '5.3M', '47M', '556k', '526k', '76M', '7.6M', '59M', '9.7M', '78M',\n",
       "       '72M', '43M', '7.7M', '6.3M', '334k', '34M', '93M', '65M', '79M',\n",
       "       '100M', '58M', '50M', '68M', '64M', '67M', '60M', '94M', '232k',\n",
       "       '99M', '624k', '95M', '8.5k', '41k', '292k', '11k', '80M', '1.7M',\n",
       "       '74M', '62M', '69M', '75M', '98M', '85M', '82M', '96M', '87M',\n",
       "       '71M', '86M', '91M', '81M', '92M', '83M', '88M', '704k', '862k',\n",
       "       '899k', '378k', '266k', '375k', '1.3M', '975k', '980k', '4.1M',\n",
       "       '89M', '696k', '544k', '525k', '920k', '779k', '853k', '720k',\n",
       "       '713k', '772k', '318k', '58k', '241k', '196k', '857k', '51k',\n",
       "       '953k', '865k', '251k', '930k', '540k', '313k', '746k', '203k',\n",
       "       '26k', '314k', '239k', '371k', '220k', '730k', '756k', '91k',\n",
       "       '293k', '17k', '74k', '14k', '317k', '78k', '924k', '902k', '818k',\n",
       "       '81k', '939k', '169k', '45k', '475k', '965k', '90M', '545k', '61k',\n",
       "       '283k', '655k', '714k', '93k', '872k', '121k', '322k', '1.0M',\n",
       "       '976k', '172k', '238k', '549k', '206k', '954k', '444k', '717k',\n",
       "       '210k', '609k', '308k', '705k', '306k', '904k', '473k', '175k',\n",
       "       '350k', '383k', '454k', '421k', '70k', '812k', '442k', '842k',\n",
       "       '417k', '412k', '459k', '478k', '335k', '782k', '721k', '430k',\n",
       "       '429k', '192k', '200k', '460k', '728k', '496k', '816k', '414k',\n",
       "       '506k', '887k', '613k', '243k', '569k', '778k', '683k', '592k',\n",
       "       '319k', '186k', '840k', '647k', '191k', '373k', '437k', '598k',\n",
       "       '716k', '585k', '982k', '222k', '219k', '55k', '948k', '323k',\n",
       "       '691k', '511k', '951k', '963k', '25k', '554k', '351k', '27k',\n",
       "       '82k', '208k', '913k', '514k', '551k', '29k', '103k', '898k',\n",
       "       '743k', '116k', '153k', '209k', '353k', '499k', '173k', '597k',\n",
       "       '809k', '122k', '411k', '400k', '801k', '787k', '237k', '50k',\n",
       "       '643k', '986k', '97k', '516k', '837k', '780k', '961k', '269k',\n",
       "       '20k', '498k', '600k', '749k', '642k', '881k', '72k', '656k',\n",
       "       '601k', '221k', '228k', '108k', '940k', '176k', '33k', '663k',\n",
       "       '34k', '942k', '259k', '164k', '458k', '245k', '629k', '28k',\n",
       "       '288k', '775k', '785k', '636k', '916k', '994k', '309k', '485k',\n",
       "       '914k', '903k', '608k', '500k', '54k', '562k', '847k', '957k',\n",
       "       '688k', '811k', '270k', '48k', '329k', '523k', '921k', '874k',\n",
       "       '981k', '784k', '280k', '24k', '518k', '754k', '892k', '154k',\n",
       "       '860k', '364k', '387k', '626k', '161k', '879k', '39k', '970k',\n",
       "       '170k', '141k', '160k', '144k', '143k', '190k', '376k', '193k',\n",
       "       '246k', '73k', '658k', '992k', '253k', '420k', '404k', '470k',\n",
       "       '226k', '240k', '89k', '234k', '257k', '861k', '467k', '157k',\n",
       "       '44k', '676k', '67k', '552k', '885k', '1020k', '582k', '619k'],\n",
       "      dtype=object)"
      ]
     },
     "execution_count": 12,
     "metadata": {},
     "output_type": "execute_result"
    }
   ],
   "source": [
    "# check unique values in Size column\n",
    "df[\"Size\"].unique()"
   ]
  },
  {
   "cell_type": "markdown",
   "id": "c030a014",
   "metadata": {},
   "source": [
    "Observation: \n",
    "There are several uniques values in the Size column, we have to first make the unit into one common unit from M and K to bytes, and then remove the M and K from the values and convert them into numeric data type\n",
    "\n",
    "1. Varies of device\n",
    "2. M\n",
    "3. k"
   ]
  },
  {
   "cell_type": "markdown",
   "id": "c26db7a6",
   "metadata": {},
   "source": [
    "verify the number of values and 3 different kinds of values"
   ]
  },
  {
   "cell_type": "code",
   "execution_count": 13,
   "id": "00c9bdc1",
   "metadata": {},
   "outputs": [
    {
     "data": {
      "text/plain": [
       "np.int64(8830)"
      ]
     },
     "execution_count": 13,
     "metadata": {},
     "output_type": "execute_result"
    }
   ],
   "source": [
    "# find the values having M in them\n",
    "df['Size'].loc[df[\"Size\"].str.contains('M')].value_counts().sum()"
   ]
  },
  {
   "cell_type": "code",
   "execution_count": 14,
   "id": "37639535",
   "metadata": {},
   "outputs": [
    {
     "data": {
      "text/plain": [
       "np.int64(316)"
      ]
     },
     "execution_count": 14,
     "metadata": {},
     "output_type": "execute_result"
    }
   ],
   "source": [
    "# find the values having k in them\n",
    "df['Size'].loc[df[\"Size\"].str.contains('k')].value_counts().sum()"
   ]
  },
  {
   "cell_type": "code",
   "execution_count": 15,
   "id": "7ab6f992",
   "metadata": {},
   "outputs": [
    {
     "data": {
      "text/plain": [
       "np.int64(1695)"
      ]
     },
     "execution_count": 15,
     "metadata": {},
     "output_type": "execute_result"
    }
   ],
   "source": [
    "# find the values having 'VARIES WITH DEVICE' in them\n",
    "df['Size'].loc[df[\"Size\"].str.contains('Varies with device')].value_counts().sum()"
   ]
  },
  {
   "cell_type": "code",
   "execution_count": 16,
   "id": "3d02b28e",
   "metadata": {},
   "outputs": [
    {
     "data": {
      "text/plain": [
       "np.int64(10841)"
      ]
     },
     "execution_count": 16,
     "metadata": {},
     "output_type": "execute_result"
    }
   ],
   "source": [
    "# Total Values in Size column\n",
    "df['Size'].value_counts().sum()"
   ]
  },
  {
   "cell_type": "code",
   "execution_count": 17,
   "id": "45481868",
   "metadata": {},
   "outputs": [
    {
     "data": {
      "text/plain": [
       "10841"
      ]
     },
     "execution_count": 17,
     "metadata": {},
     "output_type": "execute_result"
    }
   ],
   "source": [
    "# taking sum of all the values in size column which has 'M', 'K' and 'varies with device' in it\n",
    "8830+316+1695"
   ]
  },
  {
   "cell_type": "markdown",
   "id": "4037e7ad",
   "metadata": {},
   "source": [
    "1. We have 8830 values in M units\n",
    "2. We have 316 values in k units\n",
    "3. We have 1695 value in Varies with device.\\\n",
    "Let's convert the M and K units into bytes and then remove the M and K from the values and convert them into numeric data type."
   ]
  },
  {
   "cell_type": "code",
   "execution_count": 18,
   "id": "bca378a7",
   "metadata": {},
   "outputs": [],
   "source": [
    "# convert the size column to numeric by multiplying the values with 1024 if it has 'k' in it and 1024*1024 if it has 'M' in it\n",
    "# this function will convert the size column to numeric\n",
    " # lets define function\n",
    "def convert_size(size):\n",
    "    if isinstance(size, str):\n",
    "        if \"k\" in size:\n",
    "            return float(size.replace(\"k\", \"\"))* 1024\n",
    "        elif 'M' in size:\n",
    "            return float(size.replace(\"M\", \"\"))* 1024 * 1024\n",
    "        elif 'Varies with device' in size:\n",
    "            return np.nan\n",
    "    return(size)                "
   ]
  },
  {
   "cell_type": "code",
   "execution_count": 19,
   "id": "c42c6596",
   "metadata": {},
   "outputs": [],
   "source": [
    "# Lets apply this function to size column\n",
    "df['Size'] = df['Size'].apply(convert_size)\n"
   ]
  },
  {
   "cell_type": "code",
   "execution_count": 20,
   "id": "226a6776",
   "metadata": {},
   "outputs": [],
   "source": [
    "# rename the column 'Size' to 'Size_bytes'\n",
    "df.rename(columns={'Size': 'Size_bytes'}, inplace=True)"
   ]
  },
  {
   "cell_type": "code",
   "execution_count": 21,
   "id": "831664a1",
   "metadata": {},
   "outputs": [],
   "source": [
    "df['Size_Into_Mb'] = df[\"Size_bytes\"].apply(lambda x : x / (1024*1024))"
   ]
  },
  {
   "cell_type": "markdown",
   "id": "f00a915b",
   "metadata": {},
   "source": [
    "- Now we have converted every value into bytes and removed the M and K from the values and converted them into numeric data type.\n",
    "- 'Varies with device' was a string value, therefore we intentionally converted them into null values, which we can fill later on according to our needs.\n"
   ]
  },
  {
   "cell_type": "markdown",
   "id": "1139464e",
   "metadata": {},
   "source": [
    "#### Let's have a look on the Installs column\n"
   ]
  },
  {
   "cell_type": "code",
   "execution_count": 22,
   "id": "e4b1542c",
   "metadata": {},
   "outputs": [
    {
     "data": {
      "text/plain": [
       "array(['10,000+', '500,000+', '5,000,000+', '50,000,000+', '100,000+',\n",
       "       '50,000+', '1,000,000+', '10,000,000+', '5,000+', '100,000,000+',\n",
       "       '1,000,000,000+', '1,000+', '500,000,000+', '50+', '100+', '500+',\n",
       "       '10+', '1+', '5+', '0+', '0'], dtype=object)"
      ]
     },
     "execution_count": 22,
     "metadata": {},
     "output_type": "execute_result"
    }
   ],
   "source": [
    "df['Installs'].unique()"
   ]
  },
  {
   "cell_type": "code",
   "execution_count": 23,
   "id": "3a03f126",
   "metadata": {},
   "outputs": [
    {
     "data": {
      "text/plain": [
       "Installs\n",
       "1,000,000+        1579\n",
       "10,000,000+       1252\n",
       "100,000+          1169\n",
       "10,000+           1054\n",
       "1,000+             908\n",
       "5,000,000+         752\n",
       "100+               719\n",
       "500,000+           539\n",
       "50,000+            479\n",
       "5,000+             477\n",
       "100,000,000+       409\n",
       "10+                386\n",
       "500+               330\n",
       "50,000,000+        289\n",
       "50+                205\n",
       "5+                  82\n",
       "500,000,000+        72\n",
       "1+                  67\n",
       "1,000,000,000+      58\n",
       "0+                  14\n",
       "0                    1\n",
       "Name: count, dtype: int64"
      ]
     },
     "execution_count": 23,
     "metadata": {},
     "output_type": "execute_result"
    }
   ],
   "source": [
    "df['Installs'].value_counts()"
   ]
  },
  {
   "cell_type": "markdown",
   "id": "1ec984ca",
   "metadata": {},
   "source": [
    "# Install Column\n",
    "- We have total value in Intall is 10841\n",
    "- we have to remove +\n",
    "and along with comma (,) and contervet into interger"
   ]
  },
  {
   "cell_type": "code",
   "execution_count": 24,
   "id": "18fd470f",
   "metadata": {},
   "outputs": [
    {
     "data": {
      "text/plain": [
       "np.int64(10840)"
      ]
     },
     "execution_count": 24,
     "metadata": {},
     "output_type": "execute_result"
    }
   ],
   "source": [
    "# find how many values has '+' in it\n",
    "df['Installs'].loc[df['Installs'].str.contains('\\+')].value_counts().sum()"
   ]
  },
  {
   "cell_type": "code",
   "execution_count": 25,
   "id": "a17d931c",
   "metadata": {},
   "outputs": [
    {
     "data": {
      "text/plain": [
       "np.int64(10841)"
      ]
     },
     "execution_count": 25,
     "metadata": {},
     "output_type": "execute_result"
    }
   ],
   "source": [
    "df[\"Installs\"].value_counts().sum()"
   ]
  },
  {
   "cell_type": "markdown",
   "id": "8bb9ee60",
   "metadata": {},
   "source": [
    "- The only problem I see here is the `+` sign in the values, let's remove them and convert the column into numeric data type.\n",
    "- The total values in the `Installs` column are `10841 `and there are no null values in the column.\n",
    "\n",
    "- However, one value 0 has no plus sign\n",
    "\n",
    "Let's remove the plus sign `+` and `,` from the values and convert them into numeric data type"
   ]
  },
  {
   "cell_type": "code",
   "execution_count": 26,
   "id": "b189d30e",
   "metadata": {},
   "outputs": [],
   "source": [
    "# Remove , from the Installs column\n",
    "df[\"Installs\"] = df[\"Installs\"].apply(lambda x : x.replace(\",\" , \"\") if \",\" in str(x) else x)"
   ]
  },
  {
   "cell_type": "code",
   "execution_count": 27,
   "id": "9735d1ef",
   "metadata": {},
   "outputs": [],
   "source": [
    "df[\"Installs\"] = df[\"Installs\"].apply(lambda x : x.replace(\"+\" , \"\")if \"+\" in str(x) else x)\n"
   ]
  },
  {
   "cell_type": "code",
   "execution_count": 28,
   "id": "9df2dfc2",
   "metadata": {},
   "outputs": [],
   "source": [
    "#Convert the Installs column to integer type\n",
    "df[\"Installs\"] = df[\"Installs\"].apply(lambda x : int(x) )"
   ]
  },
  {
   "cell_type": "markdown",
   "id": "1d74a984",
   "metadata": {},
   "source": [
    "- Let's verify if the dtypes has been changes and the + and , sign has been removed\n"
   ]
  },
  {
   "cell_type": "code",
   "execution_count": 29,
   "id": "27e96476",
   "metadata": {},
   "outputs": [
    {
     "data": {
      "text/html": [
       "<div>\n",
       "<style scoped>\n",
       "    .dataframe tbody tr th:only-of-type {\n",
       "        vertical-align: middle;\n",
       "    }\n",
       "\n",
       "    .dataframe tbody tr th {\n",
       "        vertical-align: top;\n",
       "    }\n",
       "\n",
       "    .dataframe thead th {\n",
       "        text-align: right;\n",
       "    }\n",
       "</style>\n",
       "<table border=\"1\" class=\"dataframe\">\n",
       "  <thead>\n",
       "    <tr style=\"text-align: right;\">\n",
       "      <th></th>\n",
       "      <th>App</th>\n",
       "      <th>Category</th>\n",
       "      <th>Rating</th>\n",
       "      <th>Reviews</th>\n",
       "      <th>Size_bytes</th>\n",
       "      <th>Installs</th>\n",
       "      <th>Type</th>\n",
       "      <th>Price</th>\n",
       "      <th>Content Rating</th>\n",
       "      <th>Genres</th>\n",
       "      <th>Last Updated</th>\n",
       "      <th>Current Ver</th>\n",
       "      <th>Android Ver</th>\n",
       "      <th>Size_Into_Mb</th>\n",
       "    </tr>\n",
       "  </thead>\n",
       "  <tbody>\n",
       "    <tr>\n",
       "      <th>0</th>\n",
       "      <td>Photo Editor &amp; Candy Camera &amp; Grid &amp; ScrapBook</td>\n",
       "      <td>ART_AND_DESIGN</td>\n",
       "      <td>4.1</td>\n",
       "      <td>159</td>\n",
       "      <td>19922944.0</td>\n",
       "      <td>10000</td>\n",
       "      <td>Free</td>\n",
       "      <td>0</td>\n",
       "      <td>Everyone</td>\n",
       "      <td>Art &amp; Design</td>\n",
       "      <td>January 7, 2018</td>\n",
       "      <td>1.0.0</td>\n",
       "      <td>4.0.3 and up</td>\n",
       "      <td>19.0</td>\n",
       "    </tr>\n",
       "    <tr>\n",
       "      <th>1</th>\n",
       "      <td>Coloring book moana</td>\n",
       "      <td>ART_AND_DESIGN</td>\n",
       "      <td>3.9</td>\n",
       "      <td>967</td>\n",
       "      <td>14680064.0</td>\n",
       "      <td>500000</td>\n",
       "      <td>Free</td>\n",
       "      <td>0</td>\n",
       "      <td>Everyone</td>\n",
       "      <td>Art &amp; Design;Pretend Play</td>\n",
       "      <td>January 15, 2018</td>\n",
       "      <td>2.0.0</td>\n",
       "      <td>4.0.3 and up</td>\n",
       "      <td>14.0</td>\n",
       "    </tr>\n",
       "    <tr>\n",
       "      <th>2</th>\n",
       "      <td>U Launcher Lite – FREE Live Cool Themes, Hide ...</td>\n",
       "      <td>ART_AND_DESIGN</td>\n",
       "      <td>4.7</td>\n",
       "      <td>87510</td>\n",
       "      <td>9122611.2</td>\n",
       "      <td>5000000</td>\n",
       "      <td>Free</td>\n",
       "      <td>0</td>\n",
       "      <td>Everyone</td>\n",
       "      <td>Art &amp; Design</td>\n",
       "      <td>August 1, 2018</td>\n",
       "      <td>1.2.4</td>\n",
       "      <td>4.0.3 and up</td>\n",
       "      <td>8.7</td>\n",
       "    </tr>\n",
       "    <tr>\n",
       "      <th>3</th>\n",
       "      <td>Sketch - Draw &amp; Paint</td>\n",
       "      <td>ART_AND_DESIGN</td>\n",
       "      <td>4.5</td>\n",
       "      <td>215644</td>\n",
       "      <td>26214400.0</td>\n",
       "      <td>50000000</td>\n",
       "      <td>Free</td>\n",
       "      <td>0</td>\n",
       "      <td>Teen</td>\n",
       "      <td>Art &amp; Design</td>\n",
       "      <td>June 8, 2018</td>\n",
       "      <td>Varies with device</td>\n",
       "      <td>4.2 and up</td>\n",
       "      <td>25.0</td>\n",
       "    </tr>\n",
       "    <tr>\n",
       "      <th>4</th>\n",
       "      <td>Pixel Draw - Number Art Coloring Book</td>\n",
       "      <td>ART_AND_DESIGN</td>\n",
       "      <td>4.3</td>\n",
       "      <td>967</td>\n",
       "      <td>2936012.8</td>\n",
       "      <td>100000</td>\n",
       "      <td>Free</td>\n",
       "      <td>0</td>\n",
       "      <td>Everyone</td>\n",
       "      <td>Art &amp; Design;Creativity</td>\n",
       "      <td>June 20, 2018</td>\n",
       "      <td>1.1</td>\n",
       "      <td>4.4 and up</td>\n",
       "      <td>2.8</td>\n",
       "    </tr>\n",
       "  </tbody>\n",
       "</table>\n",
       "</div>"
      ],
      "text/plain": [
       "                                                 App        Category  Rating  \\\n",
       "0     Photo Editor & Candy Camera & Grid & ScrapBook  ART_AND_DESIGN     4.1   \n",
       "1                                Coloring book moana  ART_AND_DESIGN     3.9   \n",
       "2  U Launcher Lite – FREE Live Cool Themes, Hide ...  ART_AND_DESIGN     4.7   \n",
       "3                              Sketch - Draw & Paint  ART_AND_DESIGN     4.5   \n",
       "4              Pixel Draw - Number Art Coloring Book  ART_AND_DESIGN     4.3   \n",
       "\n",
       "   Reviews  Size_bytes  Installs  Type Price Content Rating  \\\n",
       "0      159  19922944.0     10000  Free     0       Everyone   \n",
       "1      967  14680064.0    500000  Free     0       Everyone   \n",
       "2    87510   9122611.2   5000000  Free     0       Everyone   \n",
       "3   215644  26214400.0  50000000  Free     0           Teen   \n",
       "4      967   2936012.8    100000  Free     0       Everyone   \n",
       "\n",
       "                      Genres      Last Updated         Current Ver  \\\n",
       "0               Art & Design   January 7, 2018               1.0.0   \n",
       "1  Art & Design;Pretend Play  January 15, 2018               2.0.0   \n",
       "2               Art & Design    August 1, 2018               1.2.4   \n",
       "3               Art & Design      June 8, 2018  Varies with device   \n",
       "4    Art & Design;Creativity     June 20, 2018                 1.1   \n",
       "\n",
       "    Android Ver  Size_Into_Mb  \n",
       "0  4.0.3 and up          19.0  \n",
       "1  4.0.3 and up          14.0  \n",
       "2  4.0.3 and up           8.7  \n",
       "3    4.2 and up          25.0  \n",
       "4    4.4 and up           2.8  "
      ]
     },
     "execution_count": 29,
     "metadata": {},
     "output_type": "execute_result"
    }
   ],
   "source": [
    "df.head(5)"
   ]
  },
  {
   "cell_type": "code",
   "execution_count": 30,
   "id": "51f2a8fa",
   "metadata": {},
   "outputs": [
    {
     "data": {
      "text/plain": [
       "dtype('int64')"
      ]
     },
     "execution_count": 30,
     "metadata": {},
     "output_type": "execute_result"
    }
   ],
   "source": [
    "df['Installs'].dtype # this will show the data type of the column\n"
   ]
  },
  {
   "cell_type": "markdown",
   "id": "fa222982",
   "metadata": {},
   "source": [
    "- We can generate a new columns based on the installation values, which will be helpful in our analysis\n"
   ]
  },
  {
   "cell_type": "code",
   "execution_count": 31,
   "id": "ae652e63",
   "metadata": {},
   "outputs": [
    {
     "data": {
      "text/plain": [
       "np.int64(1000000000)"
      ]
     },
     "execution_count": 31,
     "metadata": {},
     "output_type": "execute_result"
    }
   ],
   "source": [
    "df['Installs'].max() # this will show the value counts of the column\n"
   ]
  },
  {
   "cell_type": "code",
   "execution_count": 32,
   "id": "96fe0792",
   "metadata": {},
   "outputs": [],
   "source": [
    "# making a new column called 'Installs_category' which will have the category of the installs\n",
    "bins = [-1, 0, 10, 1000, 10000, 100000, 1000000, 10000000, 10000000000]\n",
    "labels=['no', 'Very low', 'Low', 'Moderate', 'More than moderate', 'High', 'Very High', 'Top Notch']\n",
    "df['Installs_category'] = pd.cut(df['Installs'], bins=bins, labels=labels)"
   ]
  },
  {
   "cell_type": "code",
   "execution_count": 33,
   "id": "a13f336d",
   "metadata": {},
   "outputs": [
    {
     "data": {
      "text/plain": [
       "Installs_category\n",
       "Low                   2162\n",
       "High                  2118\n",
       "Very High             2004\n",
       "More than moderate    1648\n",
       "Moderate              1531\n",
       "Top Notch              828\n",
       "Very low               535\n",
       "no                      15\n",
       "Name: count, dtype: int64"
      ]
     },
     "execution_count": 33,
     "metadata": {},
     "output_type": "execute_result"
    }
   ],
   "source": [
    "df['Installs_category'].value_counts() # check the value counts of the new column\n"
   ]
  },
  {
   "cell_type": "markdown",
   "id": "89a9b03f",
   "metadata": {},
   "source": [
    "# Price Column\n"
   ]
  },
  {
   "cell_type": "code",
   "execution_count": 34,
   "id": "f47a9663",
   "metadata": {},
   "outputs": [
    {
     "data": {
      "text/plain": [
       "array(['0', '$4.99', '$3.99', '$6.99', '$1.49', '$2.99', '$7.99', '$5.99',\n",
       "       '$3.49', '$1.99', '$9.99', '$7.49', '$0.99', '$9.00', '$5.49',\n",
       "       '$10.00', '$24.99', '$11.99', '$79.99', '$16.99', '$14.99',\n",
       "       '$1.00', '$29.99', '$12.99', '$2.49', '$10.99', '$1.50', '$19.99',\n",
       "       '$15.99', '$33.99', '$74.99', '$39.99', '$3.95', '$4.49', '$1.70',\n",
       "       '$8.99', '$2.00', '$3.88', '$25.99', '$399.99', '$17.99',\n",
       "       '$400.00', '$3.02', '$1.76', '$4.84', '$4.77', '$1.61', '$2.50',\n",
       "       '$1.59', '$6.49', '$1.29', '$5.00', '$13.99', '$299.99', '$379.99',\n",
       "       '$37.99', '$18.99', '$389.99', '$19.90', '$8.49', '$1.75',\n",
       "       '$14.00', '$4.85', '$46.99', '$109.99', '$154.99', '$3.08',\n",
       "       '$2.59', '$4.80', '$1.96', '$19.40', '$3.90', '$4.59', '$15.46',\n",
       "       '$3.04', '$4.29', '$2.60', '$3.28', '$4.60', '$28.99', '$2.95',\n",
       "       '$2.90', '$1.97', '$200.00', '$89.99', '$2.56', '$30.99', '$3.61',\n",
       "       '$394.99', '$1.26', '$1.20', '$1.04'], dtype=object)"
      ]
     },
     "execution_count": 34,
     "metadata": {},
     "output_type": "execute_result"
    }
   ],
   "source": [
    "# check the unique values in the 'Price' column\n",
    "df['Price'].unique()"
   ]
  },
  {
   "cell_type": "code",
   "execution_count": 35,
   "id": "62da510a",
   "metadata": {},
   "outputs": [
    {
     "data": {
      "text/plain": [
       "np.int64(10841)"
      ]
     },
     "execution_count": 35,
     "metadata": {},
     "output_type": "execute_result"
    }
   ],
   "source": [
    "df['Price'].value_counts().sum()"
   ]
  },
  {
   "cell_type": "code",
   "execution_count": 36,
   "id": "db28a588",
   "metadata": {},
   "outputs": [
    {
     "data": {
      "text/plain": [
       "Price\n",
       "0          10041\n",
       "$0.99        148\n",
       "$2.99        129\n",
       "$1.99         73\n",
       "$4.99         72\n",
       "$3.99         63\n",
       "$1.49         46\n",
       "$5.99         30\n",
       "$2.49         26\n",
       "$9.99         21\n",
       "$6.99         13\n",
       "$399.99       12\n",
       "$14.99        11\n",
       "$4.49          9\n",
       "$29.99         7\n",
       "$3.49          7\n",
       "$7.99          7\n",
       "$24.99         7\n",
       "$5.49          6\n",
       "$19.99         6\n",
       "$6.49          5\n",
       "$8.99          5\n",
       "$12.99         5\n",
       "$11.99         5\n",
       "$10.00         3\n",
       "$1.00          3\n",
       "$16.99         3\n",
       "$2.00          3\n",
       "$17.99         2\n",
       "$10.99         2\n",
       "$9.00          2\n",
       "$79.99         2\n",
       "$7.49          2\n",
       "$3.95          2\n",
       "$33.99         2\n",
       "$1.70          2\n",
       "$13.99         2\n",
       "$8.49          2\n",
       "$39.99         2\n",
       "$1.50          1\n",
       "$25.99         1\n",
       "$74.99         1\n",
       "$15.99         1\n",
       "$3.88          1\n",
       "$1.76          1\n",
       "$3.02          1\n",
       "$400.00        1\n",
       "$4.84          1\n",
       "$2.50          1\n",
       "$1.59          1\n",
       "$1.61          1\n",
       "$4.77          1\n",
       "$5.00          1\n",
       "$1.29          1\n",
       "$379.99        1\n",
       "$299.99        1\n",
       "$37.99         1\n",
       "$18.99         1\n",
       "$389.99        1\n",
       "$19.90         1\n",
       "$1.75          1\n",
       "$14.00         1\n",
       "$4.85          1\n",
       "$46.99         1\n",
       "$109.99        1\n",
       "$154.99        1\n",
       "$3.08          1\n",
       "$2.59          1\n",
       "$4.80          1\n",
       "$1.96          1\n",
       "$19.40         1\n",
       "$3.90          1\n",
       "$4.59          1\n",
       "$15.46         1\n",
       "$3.04          1\n",
       "$4.29          1\n",
       "$2.60          1\n",
       "$3.28          1\n",
       "$4.60          1\n",
       "$28.99         1\n",
       "$2.95          1\n",
       "$2.90          1\n",
       "$1.97          1\n",
       "$200.00        1\n",
       "$89.99         1\n",
       "$2.56          1\n",
       "$30.99         1\n",
       "$3.61          1\n",
       "$394.99        1\n",
       "$1.26          1\n",
       "$1.20          1\n",
       "$1.04          1\n",
       "Name: count, dtype: int64"
      ]
     },
     "execution_count": 36,
     "metadata": {},
     "output_type": "execute_result"
    }
   ],
   "source": [
    "df['Price'].value_counts() # check the value counts of the 'Price' column\n"
   ]
  },
  {
   "cell_type": "markdown",
   "id": "6766b2c4",
   "metadata": {},
   "source": [
    "## lets see how many dollers sign are there"
   ]
  },
  {
   "cell_type": "code",
   "execution_count": 37,
   "id": "6d7de003",
   "metadata": {},
   "outputs": [
    {
     "data": {
      "text/plain": [
       "np.int64(800)"
      ]
     },
     "execution_count": 37,
     "metadata": {},
     "output_type": "execute_result"
    }
   ],
   "source": [
    "df['Price'].loc[df[\"Price\"].str.contains('\\$')].value_counts().sum()"
   ]
  },
  {
   "cell_type": "code",
   "execution_count": 38,
   "id": "01c6b366",
   "metadata": {},
   "outputs": [
    {
     "data": {
      "text/plain": [
       "np.int64(10041)"
      ]
     },
     "execution_count": 38,
     "metadata": {},
     "output_type": "execute_result"
    }
   ],
   "source": [
    "df['Price'].loc[(df[\"Price\"].str.contains('0'))& (~df['Price'].str.contains('\\$'))].value_counts().sum()"
   ]
  },
  {
   "cell_type": "markdown",
   "id": "ce089d9c",
   "metadata": {},
   "source": [
    "- Now we can confirm that the only currency used is `$` in the `Price` column or 0 value, as `800+10041=10841 `Total values\n",
    "The only problem is $ sign let's remove it and convert the column into numeric data type."
   ]
  },
  {
   "cell_type": "code",
   "execution_count": 39,
   "id": "e455e5e7",
   "metadata": {},
   "outputs": [],
   "source": [
    "# remove the dollar sign from the price column and convert it to numeric\n",
    "df[\"Price\"] = df[\"Price\"].apply(lambda x : x.replace(\"$\" , \"\")if \"$\" in str(x) else x)\n",
    "\n"
   ]
  },
  {
   "cell_type": "code",
   "execution_count": 40,
   "id": "8c35bab1",
   "metadata": {},
   "outputs": [],
   "source": [
    "# convert the price column to numeric (float because this is the price)\n",
    "df[\"Price\"] = df[\"Price\"].apply(lambda x : float(x) )"
   ]
  },
  {
   "cell_type": "code",
   "execution_count": 41,
   "id": "4ce8b24d",
   "metadata": {},
   "outputs": [
    {
     "data": {
      "text/plain": [
       "dtype('float64')"
      ]
     },
     "execution_count": 41,
     "metadata": {},
     "output_type": "execute_result"
    }
   ],
   "source": [
    "df['Price'].dtype # this will show the data type of the column\n"
   ]
  },
  {
   "cell_type": "code",
   "execution_count": 42,
   "id": "0f3662ab",
   "metadata": {},
   "outputs": [
    {
     "name": "stdout",
     "output_type": "stream",
     "text": [
      "Max Price of an app is : $400.0\n",
      "Min Price of an app is : $0.0\n",
      "Average Price of an app is : $1.03\n"
     ]
    }
   ],
   "source": [
    "# using f string for max min and average price of apps\n",
    "print(f\"Max Price of an app is : ${df['Price'].max()}\")\n",
    "print(f\"Min Price of an app is : ${df['Price'].min()}\")\n",
    "print(f\"Average Price of an app is : ${df['Price'].mean():.2f}\")\n",
    "\n"
   ]
  },
  {
   "cell_type": "markdown",
   "id": "2386e756",
   "metadata": {},
   "source": [
    "# 2.1. Descriptive Statistics\n"
   ]
  },
  {
   "cell_type": "code",
   "execution_count": 43,
   "id": "254e736c",
   "metadata": {},
   "outputs": [
    {
     "data": {
      "text/html": [
       "<div>\n",
       "<style scoped>\n",
       "    .dataframe tbody tr th:only-of-type {\n",
       "        vertical-align: middle;\n",
       "    }\n",
       "\n",
       "    .dataframe tbody tr th {\n",
       "        vertical-align: top;\n",
       "    }\n",
       "\n",
       "    .dataframe thead th {\n",
       "        text-align: right;\n",
       "    }\n",
       "</style>\n",
       "<table border=\"1\" class=\"dataframe\">\n",
       "  <thead>\n",
       "    <tr style=\"text-align: right;\">\n",
       "      <th></th>\n",
       "      <th>Rating</th>\n",
       "      <th>Reviews</th>\n",
       "      <th>Size_bytes</th>\n",
       "      <th>Installs</th>\n",
       "      <th>Price</th>\n",
       "      <th>Size_Into_Mb</th>\n",
       "    </tr>\n",
       "  </thead>\n",
       "  <tbody>\n",
       "    <tr>\n",
       "      <th>count</th>\n",
       "      <td>9367.000000</td>\n",
       "      <td>1.084100e+04</td>\n",
       "      <td>9.146000e+03</td>\n",
       "      <td>1.084100e+04</td>\n",
       "      <td>10841.000000</td>\n",
       "      <td>9146.000000</td>\n",
       "    </tr>\n",
       "    <tr>\n",
       "      <th>mean</th>\n",
       "      <td>4.191513</td>\n",
       "      <td>4.441119e+05</td>\n",
       "      <td>2.255921e+07</td>\n",
       "      <td>1.546291e+07</td>\n",
       "      <td>1.027273</td>\n",
       "      <td>21.514141</td>\n",
       "    </tr>\n",
       "    <tr>\n",
       "      <th>std</th>\n",
       "      <td>0.515735</td>\n",
       "      <td>2.927629e+06</td>\n",
       "      <td>2.368595e+07</td>\n",
       "      <td>8.502557e+07</td>\n",
       "      <td>15.948971</td>\n",
       "      <td>22.588679</td>\n",
       "    </tr>\n",
       "    <tr>\n",
       "      <th>min</th>\n",
       "      <td>1.000000</td>\n",
       "      <td>0.000000e+00</td>\n",
       "      <td>8.704000e+03</td>\n",
       "      <td>0.000000e+00</td>\n",
       "      <td>0.000000</td>\n",
       "      <td>0.008301</td>\n",
       "    </tr>\n",
       "    <tr>\n",
       "      <th>25%</th>\n",
       "      <td>4.000000</td>\n",
       "      <td>3.800000e+01</td>\n",
       "      <td>5.138022e+06</td>\n",
       "      <td>1.000000e+03</td>\n",
       "      <td>0.000000</td>\n",
       "      <td>4.900000</td>\n",
       "    </tr>\n",
       "    <tr>\n",
       "      <th>50%</th>\n",
       "      <td>4.300000</td>\n",
       "      <td>2.094000e+03</td>\n",
       "      <td>1.363149e+07</td>\n",
       "      <td>1.000000e+05</td>\n",
       "      <td>0.000000</td>\n",
       "      <td>13.000000</td>\n",
       "    </tr>\n",
       "    <tr>\n",
       "      <th>75%</th>\n",
       "      <td>4.500000</td>\n",
       "      <td>5.476800e+04</td>\n",
       "      <td>3.145728e+07</td>\n",
       "      <td>5.000000e+06</td>\n",
       "      <td>0.000000</td>\n",
       "      <td>30.000000</td>\n",
       "    </tr>\n",
       "    <tr>\n",
       "      <th>max</th>\n",
       "      <td>5.000000</td>\n",
       "      <td>7.815831e+07</td>\n",
       "      <td>1.048576e+08</td>\n",
       "      <td>1.000000e+09</td>\n",
       "      <td>400.000000</td>\n",
       "      <td>100.000000</td>\n",
       "    </tr>\n",
       "  </tbody>\n",
       "</table>\n",
       "</div>"
      ],
      "text/plain": [
       "            Rating       Reviews    Size_bytes      Installs         Price  \\\n",
       "count  9367.000000  1.084100e+04  9.146000e+03  1.084100e+04  10841.000000   \n",
       "mean      4.191513  4.441119e+05  2.255921e+07  1.546291e+07      1.027273   \n",
       "std       0.515735  2.927629e+06  2.368595e+07  8.502557e+07     15.948971   \n",
       "min       1.000000  0.000000e+00  8.704000e+03  0.000000e+00      0.000000   \n",
       "25%       4.000000  3.800000e+01  5.138022e+06  1.000000e+03      0.000000   \n",
       "50%       4.300000  2.094000e+03  1.363149e+07  1.000000e+05      0.000000   \n",
       "75%       4.500000  5.476800e+04  3.145728e+07  5.000000e+06      0.000000   \n",
       "max       5.000000  7.815831e+07  1.048576e+08  1.000000e+09    400.000000   \n",
       "\n",
       "       Size_Into_Mb  \n",
       "count   9146.000000  \n",
       "mean      21.514141  \n",
       "std       22.588679  \n",
       "min        0.008301  \n",
       "25%        4.900000  \n",
       "50%       13.000000  \n",
       "75%       30.000000  \n",
       "max      100.000000  "
      ]
     },
     "execution_count": 43,
     "metadata": {},
     "output_type": "execute_result"
    }
   ],
   "source": [
    "df.describe()"
   ]
  },
  {
   "cell_type": "markdown",
   "id": "5a1916d1",
   "metadata": {},
   "source": [
    "# Observation\n",
    "- Now, we have only 6 columns as numeric data type.\n",
    "- We can observe their descriptive statistics. and make tons of observations as per our hypotheses.\n",
    "- We can see that the Rating column has a minimum value of 1 and a maximum value of 5, which is the range of rating, and the mean is 4.19 which is a good rating. On an average people give this rating.\n",
    "- We can see that the Reviews column has a minimum value of 0 and a maximum value of 78,158,306 78+ Millions, which is the range of reviews, and the mean is 444,111.93 which is a good number of reviews. On an average people give this number of reviews to the apps. But it does not make sense to us, as we have different categories of apps.\n",
    "- Similarly, we can observe the other columns as well.\\\n",
    "\n",
    "Therefore, the most important thing is to classify as app based on the correlation matrix and then observe the descriptive statistics of the app category and number of installs, reviews, ratings, etc."
   ]
  },
  {
   "cell_type": "markdown",
   "id": "3d50e8bf",
   "metadata": {},
   "source": [
    "### But even before that we have to think about the missing values in the dataset.\n"
   ]
  },
  {
   "cell_type": "markdown",
   "id": "a14487ab",
   "metadata": {},
   "source": [
    "## 2.2. Dealing with the missing values\n",
    "\n",
    " Dealing with the missing values is one of the most important part of the data wrangling process, we must deal with the missing values in order to get the correct insights from the data.\n"
   ]
  },
  {
   "cell_type": "markdown",
   "id": "53f41d4b",
   "metadata": {},
   "source": [
    "- Let's have a look on the missing values in the dataset\n"
   ]
  },
  {
   "cell_type": "markdown",
   "id": "d0645fa0",
   "metadata": {},
   "source": [
    "# Missing Values"
   ]
  },
  {
   "cell_type": "code",
   "execution_count": 44,
   "id": "9697a55c",
   "metadata": {},
   "outputs": [
    {
     "data": {
      "text/plain": [
       "App                     0\n",
       "Category                1\n",
       "Rating               1474\n",
       "Reviews                 0\n",
       "Size_bytes           1695\n",
       "Installs                0\n",
       "Type                    1\n",
       "Price                   0\n",
       "Content Rating          0\n",
       "Genres                  0\n",
       "Last Updated            0\n",
       "Current Ver             8\n",
       "Android Ver             2\n",
       "Size_Into_Mb         1695\n",
       "Installs_category       0\n",
       "dtype: int64"
      ]
     },
     "execution_count": 44,
     "metadata": {},
     "output_type": "execute_result"
    }
   ],
   "source": [
    "# find missinf values\n",
    "df.isnull().sum()"
   ]
  },
  {
   "cell_type": "code",
   "execution_count": 45,
   "id": "b09816f7",
   "metadata": {},
   "outputs": [
    {
     "data": {
      "text/plain": [
       "Size_bytes           15.64\n",
       "Size_Into_Mb         15.64\n",
       "Rating               13.60\n",
       "Current Ver           0.07\n",
       "Android Ver           0.02\n",
       "Type                  0.01\n",
       "Category              0.01\n",
       "Installs              0.00\n",
       "Reviews               0.00\n",
       "App                   0.00\n",
       "Price                 0.00\n",
       "Last Updated          0.00\n",
       "Genres                0.00\n",
       "Content Rating        0.00\n",
       "Installs_category     0.00\n",
       "dtype: float64"
      ]
     },
     "execution_count": 45,
     "metadata": {},
     "output_type": "execute_result"
    }
   ],
   "source": [
    "# find missing values in percentage\n",
    "round(df.isnull().sum()/len(df) * 100,2).sort_values(ascending=False)"
   ]
  },
  {
   "cell_type": "code",
   "execution_count": 46,
   "id": "9054e622",
   "metadata": {},
   "outputs": [
    {
     "data": {
      "text/plain": [
       "np.int64(4876)"
      ]
     },
     "execution_count": 46,
     "metadata": {},
     "output_type": "execute_result"
    }
   ],
   "source": [
    "# find the missing value total\n",
    "df.isnull().sum().sum()"
   ]
  },
  {
   "cell_type": "code",
   "execution_count": 47,
   "id": "792104c1",
   "metadata": {},
   "outputs": [
    {
     "data": {
      "text/plain": [
       "<Axes: >"
      ]
     },
     "execution_count": 47,
     "metadata": {},
     "output_type": "execute_result"
    },
    {
     "data": {
      "image/png": "[encoded data removed]",
      "text/plain": [
       "<Figure size 640x480 with 1 Axes>"
      ]
     },
     "metadata": {},
     "output_type": "display_data"
    }
   ],
   "source": [
    "# plot the missing values using heatmap\n",
    "sns.heatmap(df.isnull(), yticklabels=False, cbar=False, cmap='viridis')"
   ]
  },
  {
   "cell_type": "code",
   "execution_count": 48,
   "id": "10adf86d",
   "metadata": {},
   "outputs": [
    {
     "data": {
      "text/plain": [
       "Text(0.5, 1.0, 'Missing Values Percentage in each Column')"
      ]
     },
     "execution_count": 48,
     "metadata": {},
     "output_type": "execute_result"
    },
    {
     "data": {
      "image/png": "[encoded data removed]",
      "text/plain": [
       "<Figure size 1600x600 with 1 Axes>"
      ]
     },
     "metadata": {},
     "output_type": "display_data"
    }
   ],
   "source": [
    "# make a figure size\n",
    "plt.figure(figsize=(16,6))\n",
    "# plot the null values by their prcentage in each column\n",
    "missing_percentage = df.isnull().sum()/len(df) * 100\n",
    "missing_percentage.plot(kind='bar')\n",
    " # add labels and title\n",
    "plt.xlabel(\"Columns\", fontsize=14)\n",
    "plt.ylabel(\"Percentage %\", fontsize=14)\n",
    "plt.title(\"Missing Values Percentage in each Column\", fontsize=16)\n",
    "\n",
    "\n"
   ]
  },
  {
   "cell_type": "markdown",
   "id": "3f1990d1",
   "metadata": {},
   "source": [
    "- Let's plot the missing values other than 'Rating', 'Size_in_bytes' and 'Size_in_Mb' column\n",
    "- We have missing percentage columns other than rating having less than one percent of missing values, we will plot them as follows:"
   ]
  },
  {
   "cell_type": "code",
   "execution_count": 49,
   "id": "b1d50d8f",
   "metadata": {},
   "outputs": [
    {
     "data": {
      "text/plain": [
       "Text(0.5, 1.0, 'Percentage of Missing Values in each Column without Rating column')"
      ]
     },
     "execution_count": 49,
     "metadata": {},
     "output_type": "execute_result"
    },
    {
     "data": {
      "image/png": "[encoded data removed]",
      "text/plain": [
       "<Figure size 1600x600 with 1 Axes>"
      ]
     },
     "metadata": {},
     "output_type": "display_data"
    }
   ],
   "source": [
    "plt.figure(figsize=(16, 6)) # make figure size\n",
    "missing_percentage[missing_percentage < 1].plot(kind='bar') # plot the null values by their percentage in each column\n",
    "plt.xlabel('Columns') # add the x-axis labels\n",
    "plt.ylabel('Percentage') # add the labels for y-axis\n",
    "plt.title('Percentage of Missing Values in each Column without Rating column')  # add the title for the plot"
   ]
  },
  {
   "cell_type": "code",
   "execution_count": 50,
   "id": "890805c4",
   "metadata": {},
   "outputs": [
    {
     "data": {
      "text/plain": [
       "Size_bytes           1695\n",
       "Size_Into_Mb         1695\n",
       "Rating               1474\n",
       "Current Ver             8\n",
       "Android Ver             2\n",
       "Type                    1\n",
       "Category                1\n",
       "Installs                0\n",
       "Reviews                 0\n",
       "App                     0\n",
       "Price                   0\n",
       "Last Updated            0\n",
       "Genres                  0\n",
       "Content Rating          0\n",
       "Installs_category       0\n",
       "dtype: int64"
      ]
     },
     "execution_count": 50,
     "metadata": {},
     "output_type": "execute_result"
    }
   ],
   "source": [
    "df.isnull().sum().sort_values(ascending=False) # this will show the number of null values in each column in descending order\n"
   ]
  },
  {
   "cell_type": "code",
   "execution_count": 51,
   "id": "7648a0b8",
   "metadata": {},
   "outputs": [
    {
     "data": {
      "text/plain": [
       "Size_bytes           15.635089\n",
       "Size_Into_Mb         15.635089\n",
       "Rating               13.596532\n",
       "Current Ver           0.073794\n",
       "Android Ver           0.018448\n",
       "Type                  0.009224\n",
       "Category              0.009224\n",
       "Installs              0.000000\n",
       "Reviews               0.000000\n",
       "App                   0.000000\n",
       "Price                 0.000000\n",
       "Last Updated          0.000000\n",
       "Genres                0.000000\n",
       "Content Rating        0.000000\n",
       "Installs_category     0.000000\n",
       "dtype: float64"
      ]
     },
     "execution_count": 51,
     "metadata": {},
     "output_type": "execute_result"
    }
   ],
   "source": [
    "(df.isnull().sum() / len(df) * 100).sort_values(ascending=False) # this will show the percentage of null values in each column\n"
   ]
  },
  {
   "cell_type": "markdown",
   "id": "a44bf3b3",
   "metadata": {},
   "source": [
    "# Observation\n",
    "\n",
    "- We have 1695 missing values in the 'Size_in_bytes' and 'Size_in_Mb' columns, which is 15.6% of the total values in the column.\n",
    "- We have 1474 missing values in the 'Rating' column, which is 13.6% of the total values in the column.\n",
    "- We have 8 missing value in the 'Current Ver' column, which is 0.07% of the total values in the column.\n",
    "- We have 2 missing values in the 'Android Ver' column, which is 0.01% of the total values in the column.\n",
    "- We have only 1 missing value in Category, Type and Genres columns, which is 0.009% of the total values in the column."
   ]
  },
  {
   "cell_type": "markdown",
   "id": "7848326b",
   "metadata": {},
   "source": [
    "# 2.3. Dealing with the missing values\n",
    "- We can not impute the Rating column as is is directly linked with the installation column. To test this Hypothesis we need to plot the Rating column with the Installs and Size columns and statistically test it using pearson correlation test."
   ]
  },
  {
   "cell_type": "markdown",
   "id": "476d05fc",
   "metadata": {},
   "source": [
    "- Let's run the correlations\n"
   ]
  },
  {
   "cell_type": "code",
   "execution_count": 52,
   "id": "f5b0357f",
   "metadata": {},
   "outputs": [
    {
     "data": {
      "text/html": [
       "<div>\n",
       "<style scoped>\n",
       "    .dataframe tbody tr th:only-of-type {\n",
       "        vertical-align: middle;\n",
       "    }\n",
       "\n",
       "    .dataframe tbody tr th {\n",
       "        vertical-align: top;\n",
       "    }\n",
       "\n",
       "    .dataframe thead th {\n",
       "        text-align: right;\n",
       "    }\n",
       "</style>\n",
       "<table border=\"1\" class=\"dataframe\">\n",
       "  <thead>\n",
       "    <tr style=\"text-align: right;\">\n",
       "      <th></th>\n",
       "      <th>Rating</th>\n",
       "      <th>Reviews</th>\n",
       "      <th>Size_bytes</th>\n",
       "      <th>Installs</th>\n",
       "      <th>Price</th>\n",
       "      <th>Size_Into_Mb</th>\n",
       "    </tr>\n",
       "  </thead>\n",
       "  <tbody>\n",
       "    <tr>\n",
       "      <th>count</th>\n",
       "      <td>9367.000000</td>\n",
       "      <td>1.084100e+04</td>\n",
       "      <td>9.146000e+03</td>\n",
       "      <td>1.084100e+04</td>\n",
       "      <td>10841.000000</td>\n",
       "      <td>9146.000000</td>\n",
       "    </tr>\n",
       "    <tr>\n",
       "      <th>mean</th>\n",
       "      <td>4.191513</td>\n",
       "      <td>4.441119e+05</td>\n",
       "      <td>2.255921e+07</td>\n",
       "      <td>1.546291e+07</td>\n",
       "      <td>1.027273</td>\n",
       "      <td>21.514141</td>\n",
       "    </tr>\n",
       "    <tr>\n",
       "      <th>std</th>\n",
       "      <td>0.515735</td>\n",
       "      <td>2.927629e+06</td>\n",
       "      <td>2.368595e+07</td>\n",
       "      <td>8.502557e+07</td>\n",
       "      <td>15.948971</td>\n",
       "      <td>22.588679</td>\n",
       "    </tr>\n",
       "    <tr>\n",
       "      <th>min</th>\n",
       "      <td>1.000000</td>\n",
       "      <td>0.000000e+00</td>\n",
       "      <td>8.704000e+03</td>\n",
       "      <td>0.000000e+00</td>\n",
       "      <td>0.000000</td>\n",
       "      <td>0.008301</td>\n",
       "    </tr>\n",
       "    <tr>\n",
       "      <th>25%</th>\n",
       "      <td>4.000000</td>\n",
       "      <td>3.800000e+01</td>\n",
       "      <td>5.138022e+06</td>\n",
       "      <td>1.000000e+03</td>\n",
       "      <td>0.000000</td>\n",
       "      <td>4.900000</td>\n",
       "    </tr>\n",
       "    <tr>\n",
       "      <th>50%</th>\n",
       "      <td>4.300000</td>\n",
       "      <td>2.094000e+03</td>\n",
       "      <td>1.363149e+07</td>\n",
       "      <td>1.000000e+05</td>\n",
       "      <td>0.000000</td>\n",
       "      <td>13.000000</td>\n",
       "    </tr>\n",
       "    <tr>\n",
       "      <th>75%</th>\n",
       "      <td>4.500000</td>\n",
       "      <td>5.476800e+04</td>\n",
       "      <td>3.145728e+07</td>\n",
       "      <td>5.000000e+06</td>\n",
       "      <td>0.000000</td>\n",
       "      <td>30.000000</td>\n",
       "    </tr>\n",
       "    <tr>\n",
       "      <th>max</th>\n",
       "      <td>5.000000</td>\n",
       "      <td>7.815831e+07</td>\n",
       "      <td>1.048576e+08</td>\n",
       "      <td>1.000000e+09</td>\n",
       "      <td>400.000000</td>\n",
       "      <td>100.000000</td>\n",
       "    </tr>\n",
       "  </tbody>\n",
       "</table>\n",
       "</div>"
      ],
      "text/plain": [
       "            Rating       Reviews    Size_bytes      Installs         Price  \\\n",
       "count  9367.000000  1.084100e+04  9.146000e+03  1.084100e+04  10841.000000   \n",
       "mean      4.191513  4.441119e+05  2.255921e+07  1.546291e+07      1.027273   \n",
       "std       0.515735  2.927629e+06  2.368595e+07  8.502557e+07     15.948971   \n",
       "min       1.000000  0.000000e+00  8.704000e+03  0.000000e+00      0.000000   \n",
       "25%       4.000000  3.800000e+01  5.138022e+06  1.000000e+03      0.000000   \n",
       "50%       4.300000  2.094000e+03  1.363149e+07  1.000000e+05      0.000000   \n",
       "75%       4.500000  5.476800e+04  3.145728e+07  5.000000e+06      0.000000   \n",
       "max       5.000000  7.815831e+07  1.048576e+08  1.000000e+09    400.000000   \n",
       "\n",
       "       Size_Into_Mb  \n",
       "count   9146.000000  \n",
       "mean      21.514141  \n",
       "std       22.588679  \n",
       "min        0.008301  \n",
       "25%        4.900000  \n",
       "50%       13.000000  \n",
       "75%       30.000000  \n",
       "max      100.000000  "
      ]
     },
     "execution_count": 52,
     "metadata": {},
     "output_type": "execute_result"
    }
   ],
   "source": [
    "df.describe() # these are numeric columns\n",
    "\n"
   ]
  },
  {
   "cell_type": "code",
   "execution_count": 53,
   "id": "dcd9a870",
   "metadata": {},
   "outputs": [
    {
     "data": {
      "text/plain": [
       "<Axes: >"
      ]
     },
     "execution_count": 53,
     "metadata": {},
     "output_type": "execute_result"
    },
    {
     "data": {
      "image/png": "[encoded data removed]",
      "text/plain": [
       "<Figure size 1600x1000 with 2 Axes>"
      ]
     },
     "metadata": {},
     "output_type": "display_data"
    }
   ],
   "source": [
    "# Make a correlation matrix of numeric columns\n",
    "plt.figure(figsize=(16, 10)) # make figure size  \n",
    "numeric_cols = ['Rating', 'Reviews', 'Size_bytes', 'Installs', 'Price', 'Size_Into_Mb'] # make a list of numeric columns\n",
    "sns.heatmap(df[numeric_cols].corr(), annot=True) # plot the correlation matrix"
   ]
  },
  {
   "cell_type": "code",
   "execution_count": 54,
   "id": "1c3a36a8",
   "metadata": {},
   "outputs": [
    {
     "data": {
      "text/html": [
       "<div>\n",
       "<style scoped>\n",
       "    .dataframe tbody tr th:only-of-type {\n",
       "        vertical-align: middle;\n",
       "    }\n",
       "\n",
       "    .dataframe tbody tr th {\n",
       "        vertical-align: top;\n",
       "    }\n",
       "\n",
       "    .dataframe thead th {\n",
       "        text-align: right;\n",
       "    }\n",
       "</style>\n",
       "<table border=\"1\" class=\"dataframe\">\n",
       "  <thead>\n",
       "    <tr style=\"text-align: right;\">\n",
       "      <th></th>\n",
       "      <th>Rating</th>\n",
       "      <th>Reviews</th>\n",
       "      <th>Size_bytes</th>\n",
       "      <th>Installs</th>\n",
       "      <th>Price</th>\n",
       "      <th>Size_Into_Mb</th>\n",
       "    </tr>\n",
       "  </thead>\n",
       "  <tbody>\n",
       "    <tr>\n",
       "      <th>Rating</th>\n",
       "      <td>1.000000</td>\n",
       "      <td>0.068147</td>\n",
       "      <td>0.084098</td>\n",
       "      <td>0.051393</td>\n",
       "      <td>-0.021851</td>\n",
       "      <td>0.084098</td>\n",
       "    </tr>\n",
       "    <tr>\n",
       "      <th>Reviews</th>\n",
       "      <td>0.068147</td>\n",
       "      <td>1.000000</td>\n",
       "      <td>0.238218</td>\n",
       "      <td>0.643123</td>\n",
       "      <td>-0.009666</td>\n",
       "      <td>0.238218</td>\n",
       "    </tr>\n",
       "    <tr>\n",
       "      <th>Size_bytes</th>\n",
       "      <td>0.084098</td>\n",
       "      <td>0.238218</td>\n",
       "      <td>1.000000</td>\n",
       "      <td>0.164794</td>\n",
       "      <td>-0.023000</td>\n",
       "      <td>1.000000</td>\n",
       "    </tr>\n",
       "    <tr>\n",
       "      <th>Installs</th>\n",
       "      <td>0.051393</td>\n",
       "      <td>0.643123</td>\n",
       "      <td>0.164794</td>\n",
       "      <td>1.000000</td>\n",
       "      <td>-0.011688</td>\n",
       "      <td>0.164794</td>\n",
       "    </tr>\n",
       "    <tr>\n",
       "      <th>Price</th>\n",
       "      <td>-0.021851</td>\n",
       "      <td>-0.009666</td>\n",
       "      <td>-0.023000</td>\n",
       "      <td>-0.011688</td>\n",
       "      <td>1.000000</td>\n",
       "      <td>-0.023000</td>\n",
       "    </tr>\n",
       "    <tr>\n",
       "      <th>Size_Into_Mb</th>\n",
       "      <td>0.084098</td>\n",
       "      <td>0.238218</td>\n",
       "      <td>1.000000</td>\n",
       "      <td>0.164794</td>\n",
       "      <td>-0.023000</td>\n",
       "      <td>1.000000</td>\n",
       "    </tr>\n",
       "  </tbody>\n",
       "</table>\n",
       "</div>"
      ],
      "text/plain": [
       "                Rating   Reviews  Size_bytes  Installs     Price  Size_Into_Mb\n",
       "Rating        1.000000  0.068147    0.084098  0.051393 -0.021851      0.084098\n",
       "Reviews       0.068147  1.000000    0.238218  0.643123 -0.009666      0.238218\n",
       "Size_bytes    0.084098  0.238218    1.000000  0.164794 -0.023000      1.000000\n",
       "Installs      0.051393  0.643123    0.164794  1.000000 -0.011688      0.164794\n",
       "Price        -0.021851 -0.009666   -0.023000 -0.011688  1.000000     -0.023000\n",
       "Size_Into_Mb  0.084098  0.238218    1.000000  0.164794 -0.023000      1.000000"
      ]
     },
     "execution_count": 54,
     "metadata": {},
     "output_type": "execute_result"
    }
   ],
   "source": [
    "# we can also calculate the correlation matrix using pandas\n",
    "df[numeric_cols].corr() # this will show the correlation matrix"
   ]
  },
  {
   "cell_type": "code",
   "execution_count": 55,
   "id": "cee2d227",
   "metadata": {},
   "outputs": [
    {
     "name": "stdout",
     "output_type": "stream",
     "text": [
      "Pearson's R between Reviews and Installs: 0.6262\n"
     ]
    }
   ],
   "source": [
    "# we can calculate the pearson correlation coefficient using scipy as well as follows\n",
    "\n",
    "# this is to install scipy if you have not done it before\n",
    "# pip install scipy \n",
    "from scipy import stats\n",
    "\n",
    "# remove rows containing NaN or infinite values (Important to calculate Pearson's R)\n",
    "df_clean = df.dropna()\n",
    "\n",
    "# calculate Pearson's R between Rating and Installs\n",
    "pearson_r, _ = stats.pearsonr(df_clean['Reviews'], df_clean['Installs'])\n",
    "print(f\"Pearson's R between Reviews and Installs: {pearson_r:.4f}\")\n"
   ]
  },
  {
   "cell_type": "markdown",
   "id": "9beef348",
   "metadata": {},
   "source": [
    "# Observation\n",
    "\n",
    "- Lighter color shows the high correlation and darker color shows the low correlation\n",
    "- We can see that the Reviews column has a high correlation with the Installs column, which is 0.64 according to corr(). Which is quite good.\n",
    "- This shows that the more the reviews the more the installs are for one app. If in any case we need to impute reviews we have to think of number of install.\n",
    "- If we have an ap with 2 installs and we imputer the reviews with 1000 or via average reviews then it will be wrong.\n",
    "- Installs is slightly correlated with Size_in_Mb or Size_in_bytes , which is 0.16, this also shows us the importance of size and Installs. But we can not depend on it as the Peason correlation is very low."
   ]
  },
  {
   "cell_type": "markdown",
   "id": "64401ac0",
   "metadata": {},
   "source": [
    "Before going ahead, let's remove the rows with missing values in the Current Ver, Android Ver, Category, Type and Genres columns, as they are very less in number and will not affect our analysis"
   ]
  },
  {
   "cell_type": "code",
   "execution_count": 57,
   "id": "7862a2ec",
   "metadata": {},
   "outputs": [
    {
     "name": "stdout",
     "output_type": "stream",
     "text": [
      "Length of the dataframe before removing null values: 10841\n"
     ]
    }
   ],
   "source": [
    "# length before removing null values\n",
    "print(f\"Length of the dataframe before removing null values: {len(df)}\")"
   ]
  },
  {
   "cell_type": "code",
   "execution_count": 59,
   "id": "cc045fe2",
   "metadata": {},
   "outputs": [],
   "source": [
    "# remove the rows having null values in the 'Current Ver', 'Android Ver', 'Category', 'Type' and 'Genres' column\n",
    "df.dropna(subset=['Current Ver', 'Android Ver', 'Category', 'Type', 'Genres'], inplace=True)"
   ]
  },
  {
   "cell_type": "code",
   "execution_count": 60,
   "id": "9970f27f",
   "metadata": {},
   "outputs": [
    {
     "name": "stdout",
     "output_type": "stream",
     "text": [
      "Length of the dataframe after removing null values: 10829\n"
     ]
    }
   ],
   "source": [
    "# length after removing null values\n",
    "print(f\"Length of the dataframe after removing null values: {len(df)}\")"
   ]
  },
  {
   "cell_type": "markdown",
   "id": "023616d6",
   "metadata": {},
   "source": [
    "- We have removed 12 rows having null values in the Current Ver, Android Ver, Category, Type and Genres columns."
   ]
  },
  {
   "cell_type": "code",
   "execution_count": 61,
   "id": "ea22a270",
   "metadata": {},
   "outputs": [
    {
     "data": {
      "text/plain": [
       "Size_bytes           1694\n",
       "Size_Into_Mb         1694\n",
       "Rating               1469\n",
       "Category                0\n",
       "Reviews                 0\n",
       "Installs                0\n",
       "App                     0\n",
       "Type                    0\n",
       "Price                   0\n",
       "Genres                  0\n",
       "Content Rating          0\n",
       "Last Updated            0\n",
       "Current Ver             0\n",
       "Android Ver             0\n",
       "Installs_category       0\n",
       "dtype: int64"
      ]
     },
     "execution_count": 61,
     "metadata": {},
     "output_type": "execute_result"
    }
   ],
   "source": [
    "# let's check the null values again\n",
    "df.isnull().sum().sort_values(ascending=False)\n"
   ]
  },
  {
   "cell_type": "markdown",
   "id": "fb78aa8e",
   "metadata": {},
   "source": [
    "\n",
    "# Observations\n",
    "Only Rating and Size_in_bytes or Size_in_Mb columns are left with missing values.\n",
    "We know that we have to be carefull while deadling with Rating column, as it is directly linked with the Installs column.\n",
    "In Size columns we already know about Varies with device values, which we have converted into null values, we do not need to impute at the moment, as every app has different size and nobody can predict that as nearly as possible."
   ]
  },
  {
   "cell_type": "code",
   "execution_count": 62,
   "id": "b608d4bd",
   "metadata": {},
   "outputs": [
    {
     "data": {
      "text/plain": [
       "Index(['App', 'Category', 'Rating', 'Reviews', 'Size_bytes', 'Installs',\n",
       "       'Type', 'Price', 'Content Rating', 'Genres', 'Last Updated',\n",
       "       'Current Ver', 'Android Ver', 'Size_Into_Mb', 'Installs_category'],\n",
       "      dtype='object')"
      ]
     },
     "execution_count": 62,
     "metadata": {},
     "output_type": "execute_result"
    }
   ],
   "source": [
    "df.columns\n"
   ]
  },
  {
   "cell_type": "code",
   "execution_count": 63,
   "id": "3e41d9df",
   "metadata": {},
   "outputs": [
    {
     "data": {
      "text/html": [
       "<div>\n",
       "<style scoped>\n",
       "    .dataframe tbody tr th:only-of-type {\n",
       "        vertical-align: middle;\n",
       "    }\n",
       "\n",
       "    .dataframe tbody tr th {\n",
       "        vertical-align: top;\n",
       "    }\n",
       "\n",
       "    .dataframe thead th {\n",
       "        text-align: right;\n",
       "    }\n",
       "</style>\n",
       "<table border=\"1\" class=\"dataframe\">\n",
       "  <thead>\n",
       "    <tr style=\"text-align: right;\">\n",
       "      <th></th>\n",
       "      <th>count</th>\n",
       "      <th>mean</th>\n",
       "      <th>std</th>\n",
       "      <th>min</th>\n",
       "      <th>25%</th>\n",
       "      <th>50%</th>\n",
       "      <th>75%</th>\n",
       "      <th>max</th>\n",
       "    </tr>\n",
       "    <tr>\n",
       "      <th>Installs_category</th>\n",
       "      <th></th>\n",
       "      <th></th>\n",
       "      <th></th>\n",
       "      <th></th>\n",
       "      <th></th>\n",
       "      <th></th>\n",
       "      <th></th>\n",
       "      <th></th>\n",
       "    </tr>\n",
       "  </thead>\n",
       "  <tbody>\n",
       "    <tr>\n",
       "      <th>no</th>\n",
       "      <td>0.0</td>\n",
       "      <td>NaN</td>\n",
       "      <td>NaN</td>\n",
       "      <td>NaN</td>\n",
       "      <td>NaN</td>\n",
       "      <td>NaN</td>\n",
       "      <td>NaN</td>\n",
       "      <td>NaN</td>\n",
       "    </tr>\n",
       "    <tr>\n",
       "      <th>Very low</th>\n",
       "      <td>81.0</td>\n",
       "      <td>4.637037</td>\n",
       "      <td>0.845199</td>\n",
       "      <td>1.0</td>\n",
       "      <td>4.8</td>\n",
       "      <td>5.0</td>\n",
       "      <td>5.0</td>\n",
       "      <td>5.0</td>\n",
       "    </tr>\n",
       "    <tr>\n",
       "      <th>Low</th>\n",
       "      <td>1278.0</td>\n",
       "      <td>4.170970</td>\n",
       "      <td>0.825605</td>\n",
       "      <td>1.0</td>\n",
       "      <td>3.8</td>\n",
       "      <td>4.4</td>\n",
       "      <td>4.8</td>\n",
       "      <td>5.0</td>\n",
       "    </tr>\n",
       "    <tr>\n",
       "      <th>Moderate</th>\n",
       "      <td>1440.0</td>\n",
       "      <td>4.035417</td>\n",
       "      <td>0.604428</td>\n",
       "      <td>1.4</td>\n",
       "      <td>3.8</td>\n",
       "      <td>4.2</td>\n",
       "      <td>4.5</td>\n",
       "      <td>5.0</td>\n",
       "    </tr>\n",
       "    <tr>\n",
       "      <th>More than moderate</th>\n",
       "      <td>1616.0</td>\n",
       "      <td>4.093255</td>\n",
       "      <td>0.505619</td>\n",
       "      <td>1.6</td>\n",
       "      <td>3.9</td>\n",
       "      <td>4.2</td>\n",
       "      <td>4.5</td>\n",
       "      <td>4.9</td>\n",
       "    </tr>\n",
       "    <tr>\n",
       "      <th>High</th>\n",
       "      <td>2113.0</td>\n",
       "      <td>4.207525</td>\n",
       "      <td>0.376594</td>\n",
       "      <td>1.8</td>\n",
       "      <td>4.0</td>\n",
       "      <td>4.3</td>\n",
       "      <td>4.5</td>\n",
       "      <td>4.9</td>\n",
       "    </tr>\n",
       "    <tr>\n",
       "      <th>Very High</th>\n",
       "      <td>2004.0</td>\n",
       "      <td>4.287076</td>\n",
       "      <td>0.294902</td>\n",
       "      <td>2.0</td>\n",
       "      <td>4.1</td>\n",
       "      <td>4.3</td>\n",
       "      <td>4.5</td>\n",
       "      <td>4.9</td>\n",
       "    </tr>\n",
       "    <tr>\n",
       "      <th>Top Notch</th>\n",
       "      <td>828.0</td>\n",
       "      <td>4.374396</td>\n",
       "      <td>0.193726</td>\n",
       "      <td>3.1</td>\n",
       "      <td>4.3</td>\n",
       "      <td>4.4</td>\n",
       "      <td>4.5</td>\n",
       "      <td>4.8</td>\n",
       "    </tr>\n",
       "  </tbody>\n",
       "</table>\n",
       "</div>"
      ],
      "text/plain": [
       "                     count      mean       std  min  25%  50%  75%  max\n",
       "Installs_category                                                      \n",
       "no                     0.0       NaN       NaN  NaN  NaN  NaN  NaN  NaN\n",
       "Very low              81.0  4.637037  0.845199  1.0  4.8  5.0  5.0  5.0\n",
       "Low                 1278.0  4.170970  0.825605  1.0  3.8  4.4  4.8  5.0\n",
       "Moderate            1440.0  4.035417  0.604428  1.4  3.8  4.2  4.5  5.0\n",
       "More than moderate  1616.0  4.093255  0.505619  1.6  3.9  4.2  4.5  4.9\n",
       "High                2113.0  4.207525  0.376594  1.8  4.0  4.3  4.5  4.9\n",
       "Very High           2004.0  4.287076  0.294902  2.0  4.1  4.3  4.5  4.9\n",
       "Top Notch            828.0  4.374396  0.193726  3.1  4.3  4.4  4.5  4.8"
      ]
     },
     "execution_count": 63,
     "metadata": {},
     "output_type": "execute_result"
    }
   ],
   "source": [
    "# use groupby function to find the trend of Rating in each Installs_category\n",
    "df.groupby('Installs_category')['Rating'].describe()\n"
   ]
  },
  {
   "cell_type": "code",
   "execution_count": 64,
   "id": "322fa2f6",
   "metadata": {},
   "outputs": [],
   "source": [
    "#replace the respective missing values of Rating, with respect to the average give in each 'Installs Category'\n",
    "df['Rating'] = df.groupby('Installs_category')['Rating'].transform(lambda x: x.fillna(x.mean()))"
   ]
  },
  {
   "cell_type": "code",
   "execution_count": 66,
   "id": "eadc356f",
   "metadata": {},
   "outputs": [
    {
     "data": {
      "text/plain": [
       "np.int64(14)"
      ]
     },
     "execution_count": 66,
     "metadata": {},
     "output_type": "execute_result"
    }
   ],
   "source": [
    "df['Rating'].isnull().sum() "
   ]
  },
  {
   "cell_type": "code",
   "execution_count": 68,
   "id": "be90ef13",
   "metadata": {},
   "outputs": [
    {
     "data": {
      "text/plain": [
       "Installs_category\n",
       "no                    14\n",
       "Very low               0\n",
       "Low                    0\n",
       "Moderate               0\n",
       "More than moderate     0\n",
       "High                   0\n",
       "Very High              0\n",
       "Top Notch              0\n",
       "Name: count, dtype: int64"
      ]
     },
     "execution_count": 68,
     "metadata": {},
     "output_type": "execute_result"
    }
   ],
   "source": [
    "# in which Install_category the Rating has NaN values\n",
    "df['Installs_category'].loc[df['Rating'].isnull()].value_counts()"
   ]
  },
  {
   "cell_type": "code",
   "execution_count": 72,
   "id": "684dea85",
   "metadata": {},
   "outputs": [
    {
     "data": {
      "text/plain": [
       "<Axes: xlabel='Installs_category', ylabel='Rating'>"
      ]
     },
     "execution_count": 72,
     "metadata": {},
     "output_type": "execute_result"
    },
    {
     "data": {
      "image/png": "[encoded data removed]",
      "text/plain": [
       "<Figure size 1600x600 with 1 Axes>"
      ]
     },
     "metadata": {},
     "output_type": "display_data"
    }
   ],
   "source": [
    "# plot the boxplot of Rating in each Installs_category\n",
    "plt.figure(figsize=(16, 6)) # make figure size\n",
    "sns.boxplot(x='Installs_category', y='Rating', hue='Installs_category', data=df) # plot the boxplot\n"
   ]
  },
  {
   "cell_type": "markdown",
   "id": "a94df355",
   "metadata": {},
   "source": [
    "- Lets check with reviews"
   ]
  },
  {
   "cell_type": "code",
   "execution_count": 73,
   "id": "26ad34f9",
   "metadata": {},
   "outputs": [
    {
     "data": {
      "text/plain": [
       "Installs_category\n",
       "no                    0\n",
       "Very low              0\n",
       "Low                   0\n",
       "Moderate              0\n",
       "More than moderate    0\n",
       "High                  0\n",
       "Very High             0\n",
       "Top Notch             0\n",
       "Name: count, dtype: int64"
      ]
     },
     "execution_count": 73,
     "metadata": {},
     "output_type": "execute_result"
    }
   ],
   "source": [
    "# in which Install_category the Rating has NaN values\n",
    "df['Installs_category'].loc[df['Reviews'].isnull()].value_counts()"
   ]
  },
  {
   "cell_type": "markdown",
   "id": "72820982",
   "metadata": {},
   "source": [
    "- No null values in Reveiws"
   ]
  },
  {
   "cell_type": "code",
   "execution_count": 74,
   "id": "d0a614d4",
   "metadata": {},
   "outputs": [
    {
     "data": {
      "text/plain": [
       "<Axes: xlabel='Installs_category', ylabel='Reviews'>"
      ]
     },
     "execution_count": 74,
     "metadata": {},
     "output_type": "execute_result"
    },
    {
     "data": {
      "image/png": "[encoded data removed]",
      "text/plain": [
       "<Figure size 1600x600 with 1 Axes>"
      ]
     },
     "metadata": {},
     "output_type": "display_data"
    }
   ],
   "source": [
    "# let's plot the same plots for Reviews column as well\n",
    "plt.figure(figsize=(16, 6)) # make figure size\n",
    "sns.boxplot(x='Installs_category', y= 'Reviews', data=df) # plot the boxplot"
   ]
  },
  {
   "cell_type": "markdown",
   "id": "777836e7",
   "metadata": {},
   "source": [
    "- Data looks so Imbalance in lets normalise using log transform"
   ]
  },
  {
   "cell_type": "code",
   "execution_count": 75,
   "id": "003173e4",
   "metadata": {},
   "outputs": [
    {
     "data": {
      "text/plain": [
       "<Axes: xlabel='Installs_category', ylabel='Reviews'>"
      ]
     },
     "execution_count": 75,
     "metadata": {},
     "output_type": "execute_result"
    },
    {
     "data": {
      "image/png": "[encoded data removed]",
      "text/plain": [
       "<Figure size 1600x600 with 1 Axes>"
      ]
     },
     "metadata": {},
     "output_type": "display_data"
    }
   ],
   "source": [
    "# let's plot the same plots for Reviews column as well\n",
    "plt.figure(figsize=(16, 6)) # make figure size\n",
    "sns.boxplot(x='Installs_category', y= np.log10(df['Reviews']), data=df) # plot the boxplot"
   ]
  },
  {
   "cell_type": "markdown",
   "id": "8c689f75",
   "metadata": {},
   "source": [
    "We also draw the scatter plot of the Rating and Review columns with the Installs column\n"
   ]
  },
  {
   "cell_type": "code",
   "execution_count": 76,
   "id": "a327feaf",
   "metadata": {},
   "outputs": [
    {
     "data": {
      "text/plain": [
       "<Axes: xlabel='Rating', ylabel='Reviews'>"
      ]
     },
     "execution_count": 76,
     "metadata": {},
     "output_type": "execute_result"
    },
    {
     "data": {
      "image/png": "[encoded data removed]",
      "text/plain": [
       "<Figure size 1600x600 with 1 Axes>"
      ]
     },
     "metadata": {},
     "output_type": "display_data"
    }
   ],
   "source": [
    "# Draw a scatter plot between Rating, Reviews and Installs\n",
    "plt.figure(figsize=(16, 6)) # make figure size\n",
    "sns.scatterplot(x='Rating', y='Reviews', hue='Installs_category', data=df) # plot the scatter plot"
   ]
  },
  {
   "cell_type": "markdown",
   "id": "4580091e",
   "metadata": {},
   "source": [
    "- It doesn't show any trend, because, you should know that Rating is a categorical variable (Ordinal) and Reviews is a continuous variable, therefore, we can not plot them together.\n",
    "- Let's try with Reviews and Installs"
   ]
  },
  {
   "cell_type": "code",
   "execution_count": 77,
   "id": "6c1f46f1",
   "metadata": {},
   "outputs": [
    {
     "data": {
      "text/plain": [
       "<Axes: xlabel='Reviews', ylabel='Installs'>"
      ]
     },
     "execution_count": 77,
     "metadata": {},
     "output_type": "execute_result"
    },
    {
     "data": {
      "image/png": "[encoded data removed]",
      "text/plain": [
       "<Figure size 1600x600 with 1 Axes>"
      ]
     },
     "metadata": {},
     "output_type": "display_data"
    }
   ],
   "source": [
    "# plot reviews and installs in a scatter plot\n",
    "plt.figure(figsize=(16, 6)) # make figure size\n",
    "sns.scatterplot(x='Reviews', y='Installs', data=df) # plot the scatter plot"
   ]
  },
  {
   "cell_type": "markdown",
   "id": "b393f0e0",
   "metadata": {},
   "source": [
    "We did not see any trend and the issue is we need to normalize the data before plotting it, let's try with log transformation"
   ]
  },
  {
   "cell_type": "code",
   "execution_count": 78,
   "id": "b74fdd09",
   "metadata": {},
   "outputs": [
    {
     "data": {
      "text/plain": [
       "<Axes: xlabel='Reviews', ylabel='Installs'>"
      ]
     },
     "execution_count": 78,
     "metadata": {},
     "output_type": "execute_result"
    },
    {
     "data": {
      "image/png": "[encoded data removed]",
      "text/plain": [
       "<Figure size 1600x600 with 1 Axes>"
      ]
     },
     "metadata": {},
     "output_type": "display_data"
    }
   ],
   "source": [
    "# plot reviews and installs in a scatter plot\n",
    "plt.figure(figsize=(16, 6)) # make figure size\n",
    "sns.scatterplot(x=np.log10(df['Reviews']), y=np.log10(df['Installs']), data=df) # plot the scatter plot"
   ]
  },
  {
   "cell_type": "markdown",
   "id": "f22c2f25",
   "metadata": {},
   "source": [
    "Now we see a slight trend but still the issue is installs were given in a factorial manner, as 10+, 20+, 1000+ etc, and these are not continuous number but Discreet one, therefore, we can only see a slight trends here. Let's plot a line plot to see the trend."
   ]
  },
  {
   "cell_type": "code",
   "execution_count": 79,
   "id": "0560b946",
   "metadata": {},
   "outputs": [
    {
     "data": {
      "text/plain": [
       "<seaborn.axisgrid.FacetGrid at 0x294da269fd0>"
      ]
     },
     "execution_count": 79,
     "metadata": {},
     "output_type": "execute_result"
    },
    {
     "data": {
      "text/plain": [
       "<Figure size 1600x600 with 0 Axes>"
      ]
     },
     "metadata": {},
     "output_type": "display_data"
    },
    {
     "data": {
      "image/png": "[encoded data removed]",
      "text/plain": [
       "<Figure size 500x500 with 1 Axes>"
      ]
     },
     "metadata": {},
     "output_type": "display_data"
    }
   ],
   "source": [
    "# plot reviews and installs in a scatter plot with trend line\n",
    "plt.figure(figsize=(16, 6)) # make figure size\n",
    "sns.lmplot(x='Reviews', y='Installs', data=df) # plot the scatter plot with trend line"
   ]
  },
  {
   "cell_type": "markdown",
   "id": "f30c38b2",
   "metadata": {},
   "source": [
    "Here, we can see a nice trend, which shows that number of Reviews increases with the number of Installs, which is quite obvious."
   ]
  },
  {
   "cell_type": "markdown",
   "id": "02f602c0",
   "metadata": {},
   "source": [
    "\n",
    "# Observation\n",
    "- We can see that most of the null values from Rating column are no \n",
    "- Moderate Installation apps, which make sense that if the app has less installations, it has less Rating and review.\n",
    "\n",
    "But wait, we have to check for the duplicates as well, as they can affect our analysis."
   ]
  },
  {
   "cell_type": "markdown",
   "id": "9c0aa612",
   "metadata": {},
   "source": [
    "# 2.3. Duplicates\n",
    "Removing duplicates is one of the most important part of the data wrangling process, we must remove the duplicates in order to get the correct insights from the data.\n",
    "If you do not remove duplicates from a dataset, it can lead to incorrect insights and analysis.\n",
    "Duplicates can skew statistical measures such as mean, median, and standard deviation, and can also lead to over-representation of certain data points.\n",
    "It is important to remove duplicates to ensure the accuracy and reliability of your data analysis."
   ]
  },
  {
   "cell_type": "code",
   "execution_count": 80,
   "id": "25a0c8e2",
   "metadata": {},
   "outputs": [
    {
     "data": {
      "text/plain": [
       "np.int64(483)"
      ]
     },
     "execution_count": 80,
     "metadata": {},
     "output_type": "execute_result"
    }
   ],
   "source": [
    "# find duplicate if any\n",
    "df.duplicated().sum()"
   ]
  },
  {
   "cell_type": "code",
   "execution_count": 81,
   "id": "4e44167e",
   "metadata": {},
   "outputs": [
    {
     "data": {
      "text/plain": [
       "np.int64(1181)"
      ]
     },
     "execution_count": 81,
     "metadata": {},
     "output_type": "execute_result"
    }
   ],
   "source": [
    "# find duplicate if any in the 'App' column\n",
    "df['App'].duplicated().sum()"
   ]
  },
  {
   "cell_type": "markdown",
   "id": "3be1505c",
   "metadata": {},
   "source": [
    "we have 1181 dupicate app names.\\\n",
    "Can we find a column which can help us to remove the duplicates?\n",
    "let's check for number of duplicates in each column using a for loop and printing the output"
   ]
  },
  {
   "cell_type": "code",
   "execution_count": 82,
   "id": "72c50363",
   "metadata": {},
   "outputs": [
    {
     "name": "stdout",
     "output_type": "stream",
     "text": [
      "Number of duplicates in App column are: 1181\n",
      "Number of duplicates in Category column are: 10796\n",
      "Number of duplicates in Rating column are: 10784\n",
      "Number of duplicates in Reviews column are: 4830\n",
      "Number of duplicates in Size_bytes column are: 10373\n",
      "Number of duplicates in Installs column are: 10809\n",
      "Number of duplicates in Type column are: 10827\n",
      "Number of duplicates in Price column are: 10737\n",
      "Number of duplicates in Content Rating column are: 10823\n",
      "Number of duplicates in Genres column are: 10710\n",
      "Number of duplicates in Last Updated column are: 9453\n",
      "Number of duplicates in Current Ver column are: 7998\n",
      "Number of duplicates in Android Ver column are: 10796\n",
      "Number of duplicates in Size_Into_Mb column are: 10373\n",
      "Number of duplicates in Installs_category column are: 10821\n"
     ]
    }
   ],
   "source": [
    "# let's check for number of duplicates\n",
    "for col in df.columns:\n",
    "    print(f\"Number of duplicates in {col} column are: {df[col].duplicated().sum()}\")"
   ]
  },
  {
   "cell_type": "markdown",
   "id": "3ecf92cf",
   "metadata": {},
   "source": [
    "This means that the only better way to find duplicates is to check for whole data\n",
    "\n"
   ]
  },
  {
   "cell_type": "code",
   "execution_count": 83,
   "id": "7d221af8",
   "metadata": {},
   "outputs": [
    {
     "name": "stdout",
     "output_type": "stream",
     "text": [
      "Number of duplicates in df are: 483\n"
     ]
    }
   ],
   "source": [
    "# print the number of duplicates in df\n",
    "print(f\"Number of duplicates in df are: {df.duplicated().sum()}\")"
   ]
  },
  {
   "cell_type": "markdown",
   "id": "9e59f248",
   "metadata": {},
   "source": [
    "Find and watch all duplicates if they are real!"
   ]
  },
  {
   "cell_type": "code",
   "execution_count": null,
   "id": "166a33f7",
   "metadata": {},
   "outputs": [],
   "source": [
    "# find exact duplicates and print them\n",
    "df[df['App'].duplicated(keep=False)].sort_values(by='App')"
   ]
  },
  {
   "cell_type": "code",
   "execution_count": 87,
   "id": "102e64c8",
   "metadata": {},
   "outputs": [],
   "source": [
    "# remove the duplicates\n",
    "df.drop_duplicates(inplace=True)"
   ]
  },
  {
   "cell_type": "code",
   "execution_count": 88,
   "id": "f9a73bba",
   "metadata": {},
   "outputs": [
    {
     "name": "stdout",
     "output_type": "stream",
     "text": [
      "Number of rows after removing duplicates: 10346\n"
     ]
    }
   ],
   "source": [
    "# print the number of rows and columns after removing duplicates\n",
    "print(f\"Number of rows after removing duplicates: {df.shape[0]}\")"
   ]
  },
  {
   "cell_type": "markdown",
   "id": "06fac219",
   "metadata": {},
   "source": [
    "Now we have removed 483 duplicates from the dataset. and have 10346 rows left."
   ]
  },
  {
   "cell_type": "markdown",
   "id": "2f9a07e0",
   "metadata": {},
   "source": [
    "# 3. Insights from Data\n",
    "- 3.1. Which category has the highest number of apps?"
   ]
  },
  {
   "cell_type": "code",
   "execution_count": 89,
   "id": "171e750a",
   "metadata": {},
   "outputs": [
    {
     "data": {
      "text/plain": [
       "Category\n",
       "FAMILY             1939\n",
       "GAME               1121\n",
       "TOOLS               841\n",
       "BUSINESS            427\n",
       "MEDICAL             408\n",
       "PRODUCTIVITY        407\n",
       "PERSONALIZATION     386\n",
       "LIFESTYLE           373\n",
       "COMMUNICATION       366\n",
       "FINANCE             360\n",
       "Name: count, dtype: int64"
      ]
     },
     "execution_count": 89,
     "metadata": {},
     "output_type": "execute_result"
    }
   ],
   "source": [
    "# which category has highest number of apps\n",
    "df['Category'].value_counts().head(10) # this will show the top 10 categories with highest number of apps"
   ]
  },
  {
   "cell_type": "markdown",
   "id": "a8b31b45",
   "metadata": {},
   "source": [
    "## 3.2. Which category has the highest number of installs?"
   ]
  },
  {
   "cell_type": "code",
   "execution_count": 90,
   "id": "7a159a1d",
   "metadata": {},
   "outputs": [
    {
     "data": {
      "text/plain": [
       "Category\n",
       "GAME                  31544024415\n",
       "COMMUNICATION         24152276251\n",
       "SOCIAL                12513867902\n",
       "PRODUCTIVITY          12463091369\n",
       "TOOLS                 11452271905\n",
       "FAMILY                10041632405\n",
       "PHOTOGRAPHY            9721247655\n",
       "TRAVEL_AND_LOCAL       6361887146\n",
       "VIDEO_PLAYERS          6222002720\n",
       "NEWS_AND_MAGAZINES     5393217760\n",
       "Name: Installs, dtype: int64"
      ]
     },
     "execution_count": 90,
     "metadata": {},
     "output_type": "execute_result"
    }
   ],
   "source": [
    "# category with highest number of Installs\n",
    "df.groupby('Category')['Installs'].sum().sort_values(ascending=False).head(10)"
   ]
  },
  {
   "cell_type": "markdown",
   "id": "ca4e316f",
   "metadata": {},
   "source": [
    "## 3.3. Which category has the highest number of reviews?"
   ]
  },
  {
   "cell_type": "code",
   "execution_count": 91,
   "id": "a4b1011a",
   "metadata": {},
   "outputs": [
    {
     "data": {
      "text/plain": [
       "Category\n",
       "GAME               1415536650\n",
       "COMMUNICATION       601273552\n",
       "SOCIAL              533576829\n",
       "FAMILY              396771746\n",
       "TOOLS               273181033\n",
       "PHOTOGRAPHY         204297410\n",
       "VIDEO_PLAYERS       110380188\n",
       "PRODUCTIVITY        102554498\n",
       "SHOPPING             94931162\n",
       "PERSONALIZATION      75192744\n",
       "Name: Reviews, dtype: int64"
      ]
     },
     "execution_count": 91,
     "metadata": {},
     "output_type": "execute_result"
    }
   ],
   "source": [
    "# Category with highest number of Reviews\n",
    "df.groupby('Category')['Reviews'].sum().sort_values(ascending=False).head(10)"
   ]
  },
  {
   "cell_type": "markdown",
   "id": "40dc63e3",
   "metadata": {
    "tags": [
     "parameters"
    ]
   },
   "source": [
    "## 3.4. Which category has the highest rating?\n"
   ]
  },
  {
   "cell_type": "code",
   "execution_count": 92,
   "id": "c57ff42a",
   "metadata": {},
   "outputs": [
    {
     "data": {
      "text/plain": [
       "Category\n",
       "EVENTS                 4.394346\n",
       "EDUCATION              4.373794\n",
       "ART_AND_DESIGN         4.367122\n",
       "BOOKS_AND_REFERENCE    4.358435\n",
       "PERSONALIZATION        4.333325\n",
       "GAME                   4.281926\n",
       "HEALTH_AND_FITNESS     4.273890\n",
       "SOCIAL                 4.260441\n",
       "PARENTING              4.259759\n",
       "SHOPPING               4.253376\n",
       "Name: Rating, dtype: float64"
      ]
     },
     "execution_count": 92,
     "metadata": {},
     "output_type": "execute_result"
    }
   ],
   "source": [
    "# Category with highest average Rating\n",
    "df.groupby('Category')['Rating'].mean().sort_values(ascending=False).head(10)"
   ]
  },
  {
   "cell_type": "code",
   "execution_count": 93,
   "id": "02daaa56",
   "metadata": {},
   "outputs": [
    {
     "data": {
      "text/plain": [
       "<Axes: xlabel='Rating', ylabel='Density'>"
      ]
     },
     "execution_count": 93,
     "metadata": {},
     "output_type": "execute_result"
    },
    {
     "data": {
      "image/png": "[encoded data removed]",
      "text/plain": [
       "<Figure size 1600x600 with 1 Axes>"
      ]
     },
     "metadata": {},
     "output_type": "display_data"
    }
   ],
   "source": [
    "# plot the rating distribution\n",
    "plt.figure(figsize=(16, 6)) # make figure size\n",
    "sns.kdeplot(df['Rating'], color=\"blue\", shade=True) # plot the distribution plot"
   ]
  },
  {
   "cell_type": "code",
   "execution_count": 94,
   "id": "25e76bd1",
   "metadata": {},
   "outputs": [
    {
     "data": {
      "text/plain": [
       "<Axes: xlabel='Installs', ylabel='Price'>"
      ]
     },
     "execution_count": 94,
     "metadata": {},
     "output_type": "execute_result"
    },
    {
     "data": {
      "image/png": "[encoded data removed]",
      "text/plain": [
       "<Figure size 1600x600 with 1 Axes>"
      ]
     },
     "metadata": {},
     "output_type": "display_data"
    },
    {
     "data": {
      "image/png": "[encoded data removed]",
      "text/plain": [
       "<Figure size 1600x600 with 1 Axes>"
      ]
     },
     "metadata": {},
     "output_type": "display_data"
    }
   ],
   "source": [
    "# plot number of installs for free vs paid apps make a bar plot\n",
    "plt.figure(figsize=(16, 6)) # make figure size\n",
    "sns.barplot(x='Type', y='Installs', data=df) # plot the bar plot\n",
    "\n",
    "# show scatter plot as well where x-axis is Installs and y-axis is Price and hue is Type\n",
    "plt.figure(figsize=(16, 6)) # make figure size\n",
    "sns.scatterplot(x='Installs', y='Price', hue='Type', data=df) # plot the scatter plot"
   ]
  },
  {
   "cell_type": "code",
   "execution_count": 96,
   "id": "33052a6a",
   "metadata": {},
   "outputs": [
    {
     "data": {
      "text/plain": [
       "<Axes: xlabel='Installs_category', ylabel='Size_Into_Mb'>"
      ]
     },
     "execution_count": 96,
     "metadata": {},
     "output_type": "execute_result"
    },
    {
     "data": {
      "image/png": "[encoded data removed]",
      "text/plain": [
       "<Figure size 1600x600 with 1 Axes>"
      ]
     },
     "metadata": {},
     "output_type": "display_data"
    }
   ],
   "source": [
    "# Check if there is any impact of size on installs\n",
    "# make a bar plot of Size_in_Mb vs Installs_category\n",
    "plt.figure(figsize=(16, 6)) # make figure size\n",
    "sns.barplot(x='Installs_category', y='Size_Into_Mb', data=df) # plot the bar plot"
   ]
  },
  {
   "cell_type": "code",
   "execution_count": 97,
   "id": "bfe76c66",
   "metadata": {},
   "outputs": [
    {
     "data": {
      "text/plain": [
       "Content Rating\n",
       "Everyone           8372\n",
       "Teen               1146\n",
       "Mature 17+          447\n",
       "Everyone 10+        376\n",
       "Adults only 18+       3\n",
       "Unrated               2\n",
       "Name: count, dtype: int64"
      ]
     },
     "execution_count": 97,
     "metadata": {},
     "output_type": "execute_result"
    }
   ],
   "source": [
    "# Which content rating is most popular in installs\n",
    "df['Content Rating'].value_counts() # this will show the value counts of each content rating"
   ]
  },
  {
   "cell_type": "code",
   "execution_count": 98,
   "id": "42fa301d",
   "metadata": {},
   "outputs": [
    {
     "data": {
      "text/plain": [
       "<Axes: xlabel='Content Rating', ylabel='Installs'>"
      ]
     },
     "execution_count": 98,
     "metadata": {},
     "output_type": "execute_result"
    },
    {
     "data": {
      "image/png": "[encoded data removed]",
      "text/plain": [
       "<Figure size 1600x600 with 1 Axes>"
      ]
     },
     "metadata": {},
     "output_type": "display_data"
    }
   ],
   "source": [
    "# plot the bar plot of Content Rating vs Installs\n",
    "plt.figure(figsize=(16, 6)) # make figure size\n",
    "sns.barplot(x='Content Rating', y='Installs', data=df) # plot the bar plot"
   ]
  },
  {
   "cell_type": "code",
   "execution_count": 99,
   "id": "8a4af15b",
   "metadata": {},
   "outputs": [
    {
     "data": {
      "text/plain": [
       "Category\n",
       "FAMILY                 1498\n",
       "TOOLS                   833\n",
       "GAME                    595\n",
       "BUSINESS                412\n",
       "PRODUCTIVITY            396\n",
       "MEDICAL                 390\n",
       "FINANCE                 355\n",
       "LIFESTYLE               337\n",
       "COMMUNICATION           325\n",
       "SPORTS                  318\n",
       "PERSONALIZATION         318\n",
       "PHOTOGRAPHY             307\n",
       "HEALTH_AND_FITNESS      275\n",
       "TRAVEL_AND_LOCAL        230\n",
       "BOOKS_AND_REFERENCE     200\n",
       "SHOPPING                183\n",
       "NEWS_AND_MAGAZINES      168\n",
       "VIDEO_PLAYERS           146\n",
       "MAPS_AND_NAVIGATION     133\n",
       "EDUCATION               121\n",
       "FOOD_AND_DRINK          114\n",
       "SOCIAL                   98\n",
       "LIBRARIES_AND_DEMO       84\n",
       "AUTO_AND_VEHICLES        83\n",
       "WEATHER                  78\n",
       "HOUSE_AND_HOME           78\n",
       "ART_AND_DESIGN           60\n",
       "PARENTING                58\n",
       "EVENTS                   53\n",
       "BEAUTY                   45\n",
       "ENTERTAINMENT            37\n",
       "COMICS                   26\n",
       "DATING                   18\n",
       "Name: count, dtype: int64"
      ]
     },
     "execution_count": 99,
     "metadata": {},
     "output_type": "execute_result"
    }
   ],
   "source": [
    "# find how many apps are there in Everyone content rating\n",
    "df['Category'].loc[df['Content Rating'] == 'Everyone'].value_counts()"
   ]
  },
  {
   "cell_type": "code",
   "execution_count": 100,
   "id": "18ae0b10",
   "metadata": {},
   "outputs": [
    {
     "data": {
      "text/plain": [
       "<Axes: xlabel='App', ylabel='Rating'>"
      ]
     },
     "execution_count": 100,
     "metadata": {},
     "output_type": "execute_result"
    },
    {
     "data": {
      "image/png": "[encoded data removed]",
      "text/plain": [
       "<Figure size 1600x600 with 1 Axes>"
      ]
     },
     "metadata": {},
     "output_type": "display_data"
    }
   ],
   "source": [
    "\n",
    "# plot top 5 rated paid apps\n",
    "plt.figure(figsize=(16, 6)) # make figure size\n",
    "sns.barplot(x='App', y='Rating', data=df[df['Type'] == 'Paid'].sort_values(by='Rating', ascending=False).head(5)) # plot the bar plot"
   ]
  },
  {
   "cell_type": "code",
   "execution_count": 101,
   "id": "9ac61806",
   "metadata": {},
   "outputs": [
    {
     "data": {
      "text/html": [
       "<div>\n",
       "<style scoped>\n",
       "    .dataframe tbody tr th:only-of-type {\n",
       "        vertical-align: middle;\n",
       "    }\n",
       "\n",
       "    .dataframe tbody tr th {\n",
       "        vertical-align: top;\n",
       "    }\n",
       "\n",
       "    .dataframe thead th {\n",
       "        text-align: right;\n",
       "    }\n",
       "</style>\n",
       "<table border=\"1\" class=\"dataframe\">\n",
       "  <thead>\n",
       "    <tr style=\"text-align: right;\">\n",
       "      <th></th>\n",
       "      <th>App</th>\n",
       "      <th>Category</th>\n",
       "      <th>Rating</th>\n",
       "      <th>Reviews</th>\n",
       "      <th>Size_bytes</th>\n",
       "      <th>Installs</th>\n",
       "      <th>Type</th>\n",
       "      <th>Price</th>\n",
       "      <th>Content Rating</th>\n",
       "      <th>Genres</th>\n",
       "      <th>Last Updated</th>\n",
       "      <th>Current Ver</th>\n",
       "      <th>Android Ver</th>\n",
       "      <th>Size_Into_Mb</th>\n",
       "      <th>Installs_category</th>\n",
       "    </tr>\n",
       "  </thead>\n",
       "  <tbody>\n",
       "    <tr>\n",
       "      <th>7204</th>\n",
       "      <td>TI-84 CE Graphing Calculator Manual TI 84</td>\n",
       "      <td>FAMILY</td>\n",
       "      <td>5.0</td>\n",
       "      <td>1</td>\n",
       "      <td>28311552.0</td>\n",
       "      <td>100</td>\n",
       "      <td>Paid</td>\n",
       "      <td>4.99</td>\n",
       "      <td>Everyone</td>\n",
       "      <td>Education</td>\n",
       "      <td>March 28, 2018</td>\n",
       "      <td>1.5.2</td>\n",
       "      <td>4.1 and up</td>\n",
       "      <td>27.0</td>\n",
       "      <td>Low</td>\n",
       "    </tr>\n",
       "    <tr>\n",
       "      <th>7377</th>\n",
       "      <td>CI 174 Gray Icon Pack</td>\n",
       "      <td>PERSONALIZATION</td>\n",
       "      <td>5.0</td>\n",
       "      <td>1</td>\n",
       "      <td>48234496.0</td>\n",
       "      <td>10</td>\n",
       "      <td>Paid</td>\n",
       "      <td>0.99</td>\n",
       "      <td>Everyone</td>\n",
       "      <td>Personalization</td>\n",
       "      <td>May 21, 2018</td>\n",
       "      <td>1.1</td>\n",
       "      <td>4.1 and up</td>\n",
       "      <td>46.0</td>\n",
       "      <td>Very low</td>\n",
       "    </tr>\n",
       "    <tr>\n",
       "      <th>7477</th>\n",
       "      <td>USMLE Step 2 CK Flashcards</td>\n",
       "      <td>FAMILY</td>\n",
       "      <td>5.0</td>\n",
       "      <td>1</td>\n",
       "      <td>41943040.0</td>\n",
       "      <td>10</td>\n",
       "      <td>Paid</td>\n",
       "      <td>19.99</td>\n",
       "      <td>Everyone</td>\n",
       "      <td>Education</td>\n",
       "      <td>May 26, 2014</td>\n",
       "      <td>2.47</td>\n",
       "      <td>2.2 and up</td>\n",
       "      <td>40.0</td>\n",
       "      <td>Very low</td>\n",
       "    </tr>\n",
       "    <tr>\n",
       "      <th>2271</th>\n",
       "      <td>FHR 5-Tier 2.0</td>\n",
       "      <td>MEDICAL</td>\n",
       "      <td>5.0</td>\n",
       "      <td>2</td>\n",
       "      <td>1258291.2</td>\n",
       "      <td>500</td>\n",
       "      <td>Paid</td>\n",
       "      <td>2.99</td>\n",
       "      <td>Everyone</td>\n",
       "      <td>Medical</td>\n",
       "      <td>December 16, 2015</td>\n",
       "      <td>1.0</td>\n",
       "      <td>4.0 and up</td>\n",
       "      <td>1.2</td>\n",
       "      <td>Low</td>\n",
       "    </tr>\n",
       "    <tr>\n",
       "      <th>2262</th>\n",
       "      <td>Super Hearing Secret Voices Recorder PRO</td>\n",
       "      <td>MEDICAL</td>\n",
       "      <td>5.0</td>\n",
       "      <td>3</td>\n",
       "      <td>24117248.0</td>\n",
       "      <td>100</td>\n",
       "      <td>Paid</td>\n",
       "      <td>2.99</td>\n",
       "      <td>Everyone</td>\n",
       "      <td>Medical</td>\n",
       "      <td>April 20, 2018</td>\n",
       "      <td>1.0</td>\n",
       "      <td>4.1 and up</td>\n",
       "      <td>23.0</td>\n",
       "      <td>Low</td>\n",
       "    </tr>\n",
       "  </tbody>\n",
       "</table>\n",
       "</div>"
      ],
      "text/plain": [
       "                                            App         Category  Rating  \\\n",
       "7204  TI-84 CE Graphing Calculator Manual TI 84           FAMILY     5.0   \n",
       "7377                      CI 174 Gray Icon Pack  PERSONALIZATION     5.0   \n",
       "7477                 USMLE Step 2 CK Flashcards           FAMILY     5.0   \n",
       "2271                             FHR 5-Tier 2.0          MEDICAL     5.0   \n",
       "2262   Super Hearing Secret Voices Recorder PRO          MEDICAL     5.0   \n",
       "\n",
       "      Reviews  Size_bytes  Installs  Type  Price Content Rating  \\\n",
       "7204        1  28311552.0       100  Paid   4.99       Everyone   \n",
       "7377        1  48234496.0        10  Paid   0.99       Everyone   \n",
       "7477        1  41943040.0        10  Paid  19.99       Everyone   \n",
       "2271        2   1258291.2       500  Paid   2.99       Everyone   \n",
       "2262        3  24117248.0       100  Paid   2.99       Everyone   \n",
       "\n",
       "               Genres       Last Updated Current Ver Android Ver  \\\n",
       "7204        Education     March 28, 2018       1.5.2  4.1 and up   \n",
       "7377  Personalization       May 21, 2018         1.1  4.1 and up   \n",
       "7477        Education       May 26, 2014        2.47  2.2 and up   \n",
       "2271          Medical  December 16, 2015         1.0  4.0 and up   \n",
       "2262          Medical     April 20, 2018         1.0  4.1 and up   \n",
       "\n",
       "      Size_Into_Mb Installs_category  \n",
       "7204          27.0               Low  \n",
       "7377          46.0          Very low  \n",
       "7477          40.0          Very low  \n",
       "2271           1.2               Low  \n",
       "2262          23.0               Low  "
      ]
     },
     "execution_count": 101,
     "metadata": {},
     "output_type": "execute_result"
    }
   ],
   "source": [
    "df[df['Type'] == 'Paid'].sort_values(by='Rating', ascending=False).head(5)\n"
   ]
  },
  {
   "cell_type": "code",
   "execution_count": 103,
   "id": "cfea1ff1",
   "metadata": {},
   "outputs": [
    {
     "data": {
      "text/plain": [
       "<Axes: xlabel='App', ylabel='Reviews'>"
      ]
     },
     "execution_count": 103,
     "metadata": {},
     "output_type": "execute_result"
    },
    {
     "data": {
      "image/png": "[encoded data removed]",
      "text/plain": [
       "<Figure size 1600x600 with 1 Axes>"
      ]
     },
     "metadata": {},
     "output_type": "display_data"
    }
   ],
   "source": [
    "# Plot top 5 FREE apps with highest number of reviews\n",
    "plt.figure(figsize=(16, 6)) # make figure size\n",
    "sns.barplot(x='App', y='Reviews', data=df[df['Type'] == 'Free'].sort_values(by='Reviews', ascending=False).head(5)) # plot the bar plot"
   ]
  },
  {
   "cell_type": "code",
   "execution_count": 104,
   "id": "5ad48ad3",
   "metadata": {},
   "outputs": [
    {
     "data": {
      "text/html": [
       "<div>\n",
       "<style scoped>\n",
       "    .dataframe tbody tr th:only-of-type {\n",
       "        vertical-align: middle;\n",
       "    }\n",
       "\n",
       "    .dataframe tbody tr th {\n",
       "        vertical-align: top;\n",
       "    }\n",
       "\n",
       "    .dataframe thead th {\n",
       "        text-align: right;\n",
       "    }\n",
       "</style>\n",
       "<table border=\"1\" class=\"dataframe\">\n",
       "  <thead>\n",
       "    <tr style=\"text-align: right;\">\n",
       "      <th></th>\n",
       "      <th>App</th>\n",
       "      <th>Category</th>\n",
       "      <th>Rating</th>\n",
       "      <th>Reviews</th>\n",
       "      <th>Size_bytes</th>\n",
       "      <th>Installs</th>\n",
       "      <th>Type</th>\n",
       "      <th>Price</th>\n",
       "      <th>Content Rating</th>\n",
       "      <th>Genres</th>\n",
       "      <th>Last Updated</th>\n",
       "      <th>Current Ver</th>\n",
       "      <th>Android Ver</th>\n",
       "      <th>Size_Into_Mb</th>\n",
       "      <th>Installs_category</th>\n",
       "    </tr>\n",
       "  </thead>\n",
       "  <tbody>\n",
       "    <tr>\n",
       "      <th>2544</th>\n",
       "      <td>Facebook</td>\n",
       "      <td>SOCIAL</td>\n",
       "      <td>4.1</td>\n",
       "      <td>78158306</td>\n",
       "      <td>NaN</td>\n",
       "      <td>1000000000</td>\n",
       "      <td>Free</td>\n",
       "      <td>0.0</td>\n",
       "      <td>Teen</td>\n",
       "      <td>Social</td>\n",
       "      <td>August 3, 2018</td>\n",
       "      <td>Varies with device</td>\n",
       "      <td>Varies with device</td>\n",
       "      <td>NaN</td>\n",
       "      <td>Top Notch</td>\n",
       "    </tr>\n",
       "    <tr>\n",
       "      <th>3943</th>\n",
       "      <td>Facebook</td>\n",
       "      <td>SOCIAL</td>\n",
       "      <td>4.1</td>\n",
       "      <td>78128208</td>\n",
       "      <td>NaN</td>\n",
       "      <td>1000000000</td>\n",
       "      <td>Free</td>\n",
       "      <td>0.0</td>\n",
       "      <td>Teen</td>\n",
       "      <td>Social</td>\n",
       "      <td>August 3, 2018</td>\n",
       "      <td>Varies with device</td>\n",
       "      <td>Varies with device</td>\n",
       "      <td>NaN</td>\n",
       "      <td>Top Notch</td>\n",
       "    </tr>\n",
       "    <tr>\n",
       "      <th>336</th>\n",
       "      <td>WhatsApp Messenger</td>\n",
       "      <td>COMMUNICATION</td>\n",
       "      <td>4.4</td>\n",
       "      <td>69119316</td>\n",
       "      <td>NaN</td>\n",
       "      <td>1000000000</td>\n",
       "      <td>Free</td>\n",
       "      <td>0.0</td>\n",
       "      <td>Everyone</td>\n",
       "      <td>Communication</td>\n",
       "      <td>August 3, 2018</td>\n",
       "      <td>Varies with device</td>\n",
       "      <td>Varies with device</td>\n",
       "      <td>NaN</td>\n",
       "      <td>Top Notch</td>\n",
       "    </tr>\n",
       "    <tr>\n",
       "      <th>3904</th>\n",
       "      <td>WhatsApp Messenger</td>\n",
       "      <td>COMMUNICATION</td>\n",
       "      <td>4.4</td>\n",
       "      <td>69109672</td>\n",
       "      <td>NaN</td>\n",
       "      <td>1000000000</td>\n",
       "      <td>Free</td>\n",
       "      <td>0.0</td>\n",
       "      <td>Everyone</td>\n",
       "      <td>Communication</td>\n",
       "      <td>August 3, 2018</td>\n",
       "      <td>Varies with device</td>\n",
       "      <td>Varies with device</td>\n",
       "      <td>NaN</td>\n",
       "      <td>Top Notch</td>\n",
       "    </tr>\n",
       "    <tr>\n",
       "      <th>2604</th>\n",
       "      <td>Instagram</td>\n",
       "      <td>SOCIAL</td>\n",
       "      <td>4.5</td>\n",
       "      <td>66577446</td>\n",
       "      <td>NaN</td>\n",
       "      <td>1000000000</td>\n",
       "      <td>Free</td>\n",
       "      <td>0.0</td>\n",
       "      <td>Teen</td>\n",
       "      <td>Social</td>\n",
       "      <td>July 31, 2018</td>\n",
       "      <td>Varies with device</td>\n",
       "      <td>Varies with device</td>\n",
       "      <td>NaN</td>\n",
       "      <td>Top Notch</td>\n",
       "    </tr>\n",
       "  </tbody>\n",
       "</table>\n",
       "</div>"
      ],
      "text/plain": [
       "                     App       Category  Rating   Reviews  Size_bytes  \\\n",
       "2544            Facebook         SOCIAL     4.1  78158306         NaN   \n",
       "3943            Facebook         SOCIAL     4.1  78128208         NaN   \n",
       "336   WhatsApp Messenger  COMMUNICATION     4.4  69119316         NaN   \n",
       "3904  WhatsApp Messenger  COMMUNICATION     4.4  69109672         NaN   \n",
       "2604           Instagram         SOCIAL     4.5  66577446         NaN   \n",
       "\n",
       "        Installs  Type  Price Content Rating         Genres    Last Updated  \\\n",
       "2544  1000000000  Free    0.0           Teen         Social  August 3, 2018   \n",
       "3943  1000000000  Free    0.0           Teen         Social  August 3, 2018   \n",
       "336   1000000000  Free    0.0       Everyone  Communication  August 3, 2018   \n",
       "3904  1000000000  Free    0.0       Everyone  Communication  August 3, 2018   \n",
       "2604  1000000000  Free    0.0           Teen         Social   July 31, 2018   \n",
       "\n",
       "             Current Ver         Android Ver  Size_Into_Mb Installs_category  \n",
       "2544  Varies with device  Varies with device           NaN         Top Notch  \n",
       "3943  Varies with device  Varies with device           NaN         Top Notch  \n",
       "336   Varies with device  Varies with device           NaN         Top Notch  \n",
       "3904  Varies with device  Varies with device           NaN         Top Notch  \n",
       "2604  Varies with device  Varies with device           NaN         Top Notch  "
      ]
     },
     "execution_count": 104,
     "metadata": {},
     "output_type": "execute_result"
    }
   ],
   "source": [
    "df[df['Type'] == 'Free'].sort_values(by='Reviews', ascending=False).head(5)\n"
   ]
  },
  {
   "cell_type": "code",
   "execution_count": 105,
   "id": "4e7a0862",
   "metadata": {},
   "outputs": [
    {
     "data": {
      "text/plain": [
       "<Axes: xlabel='App', ylabel='Reviews'>"
      ]
     },
     "execution_count": 105,
     "metadata": {},
     "output_type": "execute_result"
    },
    {
     "data": {
      "image/png": "[encoded data removed]",
      "text/plain": [
       "<Figure size 1600x600 with 1 Axes>"
      ]
     },
     "metadata": {},
     "output_type": "display_data"
    }
   ],
   "source": [
    "# Plot top 5 Paid apps with highest number of reviews\n",
    "plt.figure(figsize=(16, 6)) # make figure size\n",
    "sns.barplot(x='App', y='Reviews', data=df[df['Type'] == 'Paid'].sort_values(by='Reviews', ascending=False).head(5)) # plot the bar plot"
   ]
  },
  {
   "cell_type": "code",
   "execution_count": null,
   "id": "8592596a",
   "metadata": {},
   "outputs": [],
   "source": []
  }
 ],
 "metadata": {
  "kernelspec": {
   "display_name": "python_pandas",
   "language": "python",
   "name": "python3"
  },
  "language_info": {
   "codemirror_mode": {
    "name": "ipython",
    "version": 3
   },
   "file_extension": ".py",
   "mimetype": "text/x-python",
   "name": "python",
   "nbconvert_exporter": "python",
   "pygments_lexer": "ipython3",
   "version": "3.13.5"
  }
 },
 "nbformat": 4,
 "nbformat_minor": 5
}
