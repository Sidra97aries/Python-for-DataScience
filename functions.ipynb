{
 "cells": [
  {
   "cell_type": "markdown",
   "id": "8d568f50",
   "metadata": {},
   "source": [
    "1.functions\n",
    "a function is a block of code that only runs when it is called\n",
    "you can pass data, known as parameters, into a function\n",
    "a function can return data as a result"
   ]
  },
  {
   "cell_type": "code",
   "execution_count": 4,
   "id": "d7d53e28",
   "metadata": {},
   "outputs": [
    {
     "name": "stdout",
     "output_type": "stream",
     "text": [
      "Hello, user!\n"
     ]
    }
   ],
   "source": [
    "def greetuser():\n",
    "    print(f\"Hello, user!\")\n",
    "greetuser()"
   ]
  },
  {
   "cell_type": "code",
   "execution_count": 7,
   "id": "e4323032",
   "metadata": {},
   "outputs": [
    {
     "name": "stdout",
     "output_type": "stream",
     "text": [
      "hello,Sidra!\n"
     ]
    }
   ],
   "source": [
    "def greetuser(name):\n",
    "    print(f\"hello,{name}!\")\n",
    "greetuser(\"Sidra\") "
   ]
  },
  {
   "cell_type": "code",
   "execution_count": 9,
   "id": "04aafaa8",
   "metadata": {},
   "outputs": [
    {
     "name": "stdout",
     "output_type": "stream",
     "text": [
      "hello,sidra!\n"
     ]
    }
   ],
   "source": [
    "def greetuser(name=\"unknown\"):\n",
    "    print(f\"hello,{name}!\")\n",
    "greetuser(\"sidra\")"
   ]
  },
  {
   "cell_type": "code",
   "execution_count": 15,
   "id": "7ab78ec7",
   "metadata": {},
   "outputs": [
    {
     "name": "stdout",
     "output_type": "stream",
     "text": [
      "50\n"
     ]
    }
   ],
   "source": [
    "def number(num1, num2):\n",
    "    return num1 * num2\n",
    "print(number(5, 10))"
   ]
  },
  {
   "cell_type": "code",
   "execution_count": 18,
   "id": "6e00153c",
   "metadata": {},
   "outputs": [
    {
     "name": "stdout",
     "output_type": "stream",
     "text": [
      "25\n"
     ]
    }
   ],
   "source": [
    "def square(num):\n",
    "    return num * num\n",
    "print(square(5))"
   ]
  },
  {
   "cell_type": "code",
   "execution_count": 20,
   "id": "a4c5ea96",
   "metadata": {},
   "outputs": [
    {
     "name": "stdout",
     "output_type": "stream",
     "text": [
      "120\n"
     ]
    }
   ],
   "source": [
    "# recursion\n",
    "def factorial(n):\n",
    "    if n == 1:\n",
    "        return 1\n",
    "    else:\n",
    "        return n * factorial(n - 1)\n",
    "print(factorial(5))"
   ]
  },
  {
   "cell_type": "code",
   "execution_count": 25,
   "id": "dfc32624",
   "metadata": {},
   "outputs": [
    {
     "name": "stdout",
     "output_type": "stream",
     "text": [
      "7\n",
      "15\n",
      "15\n",
      "15\n"
     ]
    }
   ],
   "source": [
    "#lambda functions\n",
    "add = lambda x:x + 2\n",
    "print(add(5))\n",
    "\n",
    "add = lambda x, y: x + y\n",
    "print(add(5, 10))\n",
    "#without lamba function\n",
    "def add(x, y):\n",
    "    return x + y\n",
    "print(add(5, 10))\n",
    "# lambda function\n",
    "x=lambda x, y: x + y\n",
    "print(x(5, 10))\n"
   ]
  }
 ],
 "metadata": {
  "kernelspec": {
   "display_name": "python_eda",
   "language": "python",
   "name": "python3"
  },
  "language_info": {
   "codemirror_mode": {
    "name": "ipython",
    "version": 3
   },
   "file_extension": ".py",
   "mimetype": "text/x-python",
   "name": "python",
   "nbconvert_exporter": "python",
   "pygments_lexer": "ipython3",
   "version": "3.13.2"
  }
 },
 "nbformat": 4,
 "nbformat_minor": 5
}
